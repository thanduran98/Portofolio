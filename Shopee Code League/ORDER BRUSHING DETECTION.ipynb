{
  "nbformat": 4,
  "nbformat_minor": 0,
  "metadata": {
    "colab": {
      "name": "Shopee Code League :: Order Brushing.ipynb",
      "provenance": [],
      "collapsed_sections": []
    },
    "kernelspec": {
      "name": "python3",
      "display_name": "Python 3"
    }
  },
  "cells": [
    {
      "cell_type": "code",
      "metadata": {
        "id": "LRBRFobgbMLk"
      },
      "source": [
        "import pandas as pd"
      ],
      "execution_count": null,
      "outputs": []
    },
    {
      "cell_type": "code",
      "metadata": {
        "id": "SwFFP5l0bm47"
      },
      "source": [
        "data = pd.read_csv('order_brush_order.csv')"
      ],
      "execution_count": null,
      "outputs": []
    },
    {
      "cell_type": "code",
      "metadata": {
        "id": "csr0SFmVcXw1",
        "outputId": "71d6ff79-2773-4714-9fb7-b964f1afdecc",
        "colab": {
          "base_uri": "https://localhost:8080/",
          "height": 399
        }
      },
      "source": [
        "data"
      ],
      "execution_count": null,
      "outputs": [
        {
          "output_type": "execute_result",
          "data": {
            "text/html": [
              "<div>\n",
              "<style scoped>\n",
              "    .dataframe tbody tr th:only-of-type {\n",
              "        vertical-align: middle;\n",
              "    }\n",
              "\n",
              "    .dataframe tbody tr th {\n",
              "        vertical-align: top;\n",
              "    }\n",
              "\n",
              "    .dataframe thead th {\n",
              "        text-align: right;\n",
              "    }\n",
              "</style>\n",
              "<table border=\"1\" class=\"dataframe\">\n",
              "  <thead>\n",
              "    <tr style=\"text-align: right;\">\n",
              "      <th></th>\n",
              "      <th>orderid</th>\n",
              "      <th>shopid</th>\n",
              "      <th>userid</th>\n",
              "      <th>event_time</th>\n",
              "    </tr>\n",
              "  </thead>\n",
              "  <tbody>\n",
              "    <tr>\n",
              "      <th>0</th>\n",
              "      <td>31076582227611</td>\n",
              "      <td>93950878</td>\n",
              "      <td>30530270</td>\n",
              "      <td>2019-12-27 00:23:03</td>\n",
              "    </tr>\n",
              "    <tr>\n",
              "      <th>1</th>\n",
              "      <td>31118059853484</td>\n",
              "      <td>156423439</td>\n",
              "      <td>46057927</td>\n",
              "      <td>2019-12-27 11:54:20</td>\n",
              "    </tr>\n",
              "    <tr>\n",
              "      <th>2</th>\n",
              "      <td>31123355095755</td>\n",
              "      <td>173699291</td>\n",
              "      <td>67341739</td>\n",
              "      <td>2019-12-27 13:22:35</td>\n",
              "    </tr>\n",
              "    <tr>\n",
              "      <th>3</th>\n",
              "      <td>31122059872723</td>\n",
              "      <td>63674025</td>\n",
              "      <td>149380322</td>\n",
              "      <td>2019-12-27 13:01:00</td>\n",
              "    </tr>\n",
              "    <tr>\n",
              "      <th>4</th>\n",
              "      <td>31117075665123</td>\n",
              "      <td>127249066</td>\n",
              "      <td>149493217</td>\n",
              "      <td>2019-12-27 11:37:55</td>\n",
              "    </tr>\n",
              "    <tr>\n",
              "      <th>...</th>\n",
              "      <td>...</td>\n",
              "      <td>...</td>\n",
              "      <td>...</td>\n",
              "      <td>...</td>\n",
              "    </tr>\n",
              "    <tr>\n",
              "      <th>222745</th>\n",
              "      <td>31245479170194</td>\n",
              "      <td>110868129</td>\n",
              "      <td>193218997</td>\n",
              "      <td>2019-12-28 23:17:59</td>\n",
              "    </tr>\n",
              "    <tr>\n",
              "      <th>222746</th>\n",
              "      <td>31230440360374</td>\n",
              "      <td>91639906</td>\n",
              "      <td>3541807</td>\n",
              "      <td>2019-12-28 19:07:20</td>\n",
              "    </tr>\n",
              "    <tr>\n",
              "      <th>222747</th>\n",
              "      <td>31191471145838</td>\n",
              "      <td>29391773</td>\n",
              "      <td>135908070</td>\n",
              "      <td>2019-12-28 08:17:52</td>\n",
              "    </tr>\n",
              "    <tr>\n",
              "      <th>222748</th>\n",
              "      <td>31198471732255</td>\n",
              "      <td>61556313</td>\n",
              "      <td>27306783</td>\n",
              "      <td>2019-12-28 10:14:31</td>\n",
              "    </tr>\n",
              "    <tr>\n",
              "      <th>222749</th>\n",
              "      <td>31164356713822</td>\n",
              "      <td>147941492</td>\n",
              "      <td>127484153</td>\n",
              "      <td>2019-12-28 00:45:56</td>\n",
              "    </tr>\n",
              "  </tbody>\n",
              "</table>\n",
              "<p>222750 rows × 4 columns</p>\n",
              "</div>"
            ],
            "text/plain": [
              "               orderid     shopid     userid           event_time\n",
              "0       31076582227611   93950878   30530270  2019-12-27 00:23:03\n",
              "1       31118059853484  156423439   46057927  2019-12-27 11:54:20\n",
              "2       31123355095755  173699291   67341739  2019-12-27 13:22:35\n",
              "3       31122059872723   63674025  149380322  2019-12-27 13:01:00\n",
              "4       31117075665123  127249066  149493217  2019-12-27 11:37:55\n",
              "...                ...        ...        ...                  ...\n",
              "222745  31245479170194  110868129  193218997  2019-12-28 23:17:59\n",
              "222746  31230440360374   91639906    3541807  2019-12-28 19:07:20\n",
              "222747  31191471145838   29391773  135908070  2019-12-28 08:17:52\n",
              "222748  31198471732255   61556313   27306783  2019-12-28 10:14:31\n",
              "222749  31164356713822  147941492  127484153  2019-12-28 00:45:56\n",
              "\n",
              "[222750 rows x 4 columns]"
            ]
          },
          "metadata": {
            "tags": []
          },
          "execution_count": 223
        }
      ]
    },
    {
      "cell_type": "code",
      "metadata": {
        "id": "IjmD6mzWcAg4",
        "outputId": "fa5db8cf-8edc-4e34-d6ec-9eb484792442",
        "colab": {
          "base_uri": "https://localhost:8080/",
          "height": 399
        }
      },
      "source": [
        "data = data.sort_values(by=['shopid','event_time'])\n",
        "data = data.reset_index(drop=True)\n",
        "data"
      ],
      "execution_count": null,
      "outputs": [
        {
          "output_type": "execute_result",
          "data": {
            "text/html": [
              "<div>\n",
              "<style scoped>\n",
              "    .dataframe tbody tr th:only-of-type {\n",
              "        vertical-align: middle;\n",
              "    }\n",
              "\n",
              "    .dataframe tbody tr th {\n",
              "        vertical-align: top;\n",
              "    }\n",
              "\n",
              "    .dataframe thead th {\n",
              "        text-align: right;\n",
              "    }\n",
              "</style>\n",
              "<table border=\"1\" class=\"dataframe\">\n",
              "  <thead>\n",
              "    <tr style=\"text-align: right;\">\n",
              "      <th></th>\n",
              "      <th>orderid</th>\n",
              "      <th>shopid</th>\n",
              "      <th>userid</th>\n",
              "      <th>event_time</th>\n",
              "    </tr>\n",
              "  </thead>\n",
              "  <tbody>\n",
              "    <tr>\n",
              "      <th>0</th>\n",
              "      <td>31086409141107</td>\n",
              "      <td>10009</td>\n",
              "      <td>196962305</td>\n",
              "      <td>2019-12-27 03:06:50</td>\n",
              "    </tr>\n",
              "    <tr>\n",
              "      <th>1</th>\n",
              "      <td>31144571933461</td>\n",
              "      <td>10051</td>\n",
              "      <td>2854032</td>\n",
              "      <td>2019-12-27 19:16:11</td>\n",
              "    </tr>\n",
              "    <tr>\n",
              "      <th>2</th>\n",
              "      <td>31254979546679</td>\n",
              "      <td>10051</td>\n",
              "      <td>48600461</td>\n",
              "      <td>2019-12-29 01:56:19</td>\n",
              "    </tr>\n",
              "    <tr>\n",
              "      <th>3</th>\n",
              "      <td>31195675919209</td>\n",
              "      <td>10061</td>\n",
              "      <td>168750452</td>\n",
              "      <td>2019-12-28 09:27:55</td>\n",
              "    </tr>\n",
              "    <tr>\n",
              "      <th>4</th>\n",
              "      <td>31205132327893</td>\n",
              "      <td>10061</td>\n",
              "      <td>194819216</td>\n",
              "      <td>2019-12-28 12:05:32</td>\n",
              "    </tr>\n",
              "    <tr>\n",
              "      <th>...</th>\n",
              "      <td>...</td>\n",
              "      <td>...</td>\n",
              "      <td>...</td>\n",
              "      <td>...</td>\n",
              "    </tr>\n",
              "    <tr>\n",
              "      <th>222745</th>\n",
              "      <td>31493203163305</td>\n",
              "      <td>214949521</td>\n",
              "      <td>46269178</td>\n",
              "      <td>2019-12-31 20:06:43</td>\n",
              "    </tr>\n",
              "    <tr>\n",
              "      <th>222746</th>\n",
              "      <td>31328775676314</td>\n",
              "      <td>214964814</td>\n",
              "      <td>200983383</td>\n",
              "      <td>2019-12-29 22:26:16</td>\n",
              "    </tr>\n",
              "    <tr>\n",
              "      <th>222747</th>\n",
              "      <td>31453591917585</td>\n",
              "      <td>215175775</td>\n",
              "      <td>13688804</td>\n",
              "      <td>2019-12-31 09:06:31</td>\n",
              "    </tr>\n",
              "    <tr>\n",
              "      <th>222748</th>\n",
              "      <td>31472077221692</td>\n",
              "      <td>215175775</td>\n",
              "      <td>129266028</td>\n",
              "      <td>2019-12-31 14:14:37</td>\n",
              "    </tr>\n",
              "    <tr>\n",
              "      <th>222749</th>\n",
              "      <td>31487696848532</td>\n",
              "      <td>215435223</td>\n",
              "      <td>79515106</td>\n",
              "      <td>2019-12-31 18:34:56</td>\n",
              "    </tr>\n",
              "  </tbody>\n",
              "</table>\n",
              "<p>222750 rows × 4 columns</p>\n",
              "</div>"
            ],
            "text/plain": [
              "               orderid     shopid     userid           event_time\n",
              "0       31086409141107      10009  196962305  2019-12-27 03:06:50\n",
              "1       31144571933461      10051    2854032  2019-12-27 19:16:11\n",
              "2       31254979546679      10051   48600461  2019-12-29 01:56:19\n",
              "3       31195675919209      10061  168750452  2019-12-28 09:27:55\n",
              "4       31205132327893      10061  194819216  2019-12-28 12:05:32\n",
              "...                ...        ...        ...                  ...\n",
              "222745  31493203163305  214949521   46269178  2019-12-31 20:06:43\n",
              "222746  31328775676314  214964814  200983383  2019-12-29 22:26:16\n",
              "222747  31453591917585  215175775   13688804  2019-12-31 09:06:31\n",
              "222748  31472077221692  215175775  129266028  2019-12-31 14:14:37\n",
              "222749  31487696848532  215435223   79515106  2019-12-31 18:34:56\n",
              "\n",
              "[222750 rows x 4 columns]"
            ]
          },
          "metadata": {
            "tags": []
          },
          "execution_count": 224
        }
      ]
    },
    {
      "cell_type": "code",
      "metadata": {
        "id": "izs24rs4dVWb"
      },
      "source": [
        "data['event_time'] = pd.to_datetime(data['event_time'])"
      ],
      "execution_count": null,
      "outputs": []
    },
    {
      "cell_type": "code",
      "metadata": {
        "id": "0IgYAdDJdDTf",
        "outputId": "8a152961-60e8-4065-f68b-c713ab947f5e",
        "colab": {
          "base_uri": "https://localhost:8080/",
          "height": 106
        }
      },
      "source": [
        "data.dtypes"
      ],
      "execution_count": null,
      "outputs": [
        {
          "output_type": "execute_result",
          "data": {
            "text/plain": [
              "orderid                int64\n",
              "shopid                 int64\n",
              "userid                 int64\n",
              "event_time    datetime64[ns]\n",
              "dtype: object"
            ]
          },
          "metadata": {
            "tags": []
          },
          "execution_count": 226
        }
      ]
    },
    {
      "cell_type": "code",
      "metadata": {
        "id": "ZxIBTRejc142"
      },
      "source": [
        "sejam = pd.Timedelta('1 hour')"
      ],
      "execution_count": null,
      "outputs": []
    },
    {
      "cell_type": "code",
      "metadata": {
        "id": "0vPkKpUvBE7T",
        "outputId": "41213c79-bf7a-4ce1-e5bf-1b204ca9edaf",
        "colab": {
          "base_uri": "https://localhost:8080/",
          "height": 35
        }
      },
      "source": [
        "sejam"
      ],
      "execution_count": null,
      "outputs": [
        {
          "output_type": "execute_result",
          "data": {
            "text/plain": [
              "Timedelta('0 days 01:00:00')"
            ]
          },
          "metadata": {
            "tags": []
          },
          "execution_count": 228
        }
      ]
    },
    {
      "cell_type": "code",
      "metadata": {
        "id": "qrnhjGfxgNeE",
        "outputId": "e13540ce-11d8-4e01-8cc8-5b96fcf01575",
        "colab": {
          "base_uri": "https://localhost:8080/",
          "height": 35
        }
      },
      "source": [
        "(data.iloc[1].event_time-data.iloc[0].event_time) >= sejam"
      ],
      "execution_count": null,
      "outputs": [
        {
          "output_type": "execute_result",
          "data": {
            "text/plain": [
              "True"
            ]
          },
          "metadata": {
            "tags": []
          },
          "execution_count": 229
        }
      ]
    },
    {
      "cell_type": "code",
      "metadata": {
        "id": "8dlRWN2feU3W"
      },
      "source": [
        "import operator\n",
        "ans = dict()\n",
        "preShop = data.iloc[0].shopid\n",
        "ans[preShop] = []\n",
        "p1 = 0\n",
        "p2 = 0\n",
        "user = dict()\n",
        "eps = 0.00000001\n",
        "\n",
        "for id,row in data.iterrows():\n",
        "\n",
        "  nowShop = row['shopid']\n",
        "  nowUser = row['userid']\n",
        "  nowTime = row['event_time']\n",
        "\n",
        "  if(preShop != nowShop): #ganti shop   \n",
        "\n",
        "    #cari rate\n",
        "    uniqueUser = len(user)\n",
        "    totalTrans = p2-p1+1\n",
        "    rate = totalTrans/uniqueUser\n",
        "\n",
        "    if(rate+eps >= 3.000):\n",
        "      #cari buyer suspect\n",
        "      itemMaxValue = max(user.items(), key=lambda x: x[1])\n",
        "      for key, value in user.items():\n",
        "          if value == itemMaxValue[1]:\n",
        "              ans[preShop].append(key)\n",
        "\n",
        "    #reset\n",
        "    ans[nowShop] = []\n",
        "    p1 = id\n",
        "    p2 = id\n",
        "    user.clear()\n",
        "    user[nowUser] = 1\n",
        "    print(len(user))\n",
        "\n",
        "  else: #masih dalam shop yg sama\n",
        "\n",
        "    tmpTime = data.iloc[p1].event_time\n",
        "\n",
        "    if((nowTime-tmpTime) <= sejam): #tambah ke interval\n",
        "\n",
        "      #masukin p2\n",
        "      if(nowUser in user): user[nowUser] += 1\n",
        "      else: user[nowUser] = 1\n",
        "      p2 = id\n",
        "\n",
        "    else: #g masuk, geser p1\n",
        "  \n",
        "      while 1: #geser p1\n",
        "        if( (nowTime-tmpTime) <= sejam ): break\n",
        "\n",
        "        uniqueUser = len(user)\n",
        "        totalTrans = p2-p1+1\n",
        "        rate = totalTrans/uniqueUser\n",
        "\n",
        "        if(rate+eps >= 3.000):\n",
        "          #cari buyer suspect\n",
        "          itemMaxValue = max(user.items(), key=lambda x: x[1])\n",
        "          for key, value in user.items():\n",
        "              if value == itemMaxValue[1]:\n",
        "                  ans[nowShop].append(key)\n",
        "        tmpUser = data.iloc[p1].userid\n",
        "        user[tmpUser] -= 1\n",
        "        if user[tmpUser] == 0 : user.pop(tmpUser)\n",
        "        p1 +=1\n",
        "        tmpTime = data.iloc[p1].event_time\n",
        "\n",
        "      #masukin p2\n",
        "      if(nowUser in user): user[nowUser] += 1\n",
        "      else: user[nowUser] = 1\n",
        "      p2 = id\n",
        "\n",
        "  preShop = nowShop\n",
        "  "
      ],
      "execution_count": null,
      "outputs": []
    },
    {
      "cell_type": "code",
      "metadata": {
        "id": "xWwaxUrJt9Jd"
      },
      "source": [
        "#cari rate\n",
        "uniqueUser = len(user)\n",
        "totalTrans = p2-p1+1\n",
        "rate = totalTrans/uniqueUser\n",
        "\n",
        "if(rate+eps >= 3.000):\n",
        "  #cari buyer suspect\n",
        "  itemMaxValue = max(user.items(), key=lambda x: x[1])\n",
        "  for key, value in user.items():\n",
        "      if value == itemMaxValue[1]:\n",
        "          ans[nowShop].append(key)"
      ],
      "execution_count": null,
      "outputs": []
    },
    {
      "cell_type": "code",
      "metadata": {
        "id": "9phHYbGpvQaZ"
      },
      "source": [
        "formatAns = dict()\n",
        "shop = []\n",
        "buyer = []\n",
        "\n",
        "for nowshop in ans:\n",
        "  tmp = \"\"\n",
        "  first = 1\n",
        "  ans[nowshop].sort()\n",
        "  for user in ans[nowshop]:\n",
        "    if first==1 : \n",
        "      tmp = str(user)\n",
        "      first = 0\n",
        "    else:\n",
        "      tmp = tmp + \"&\" + str(user) \n",
        "  if tmp == \"\" : tmp = '0'\n",
        "  shop.append(nowshop)\n",
        "  buyer.append(tmp)\n",
        "\n",
        "formatAns['shopid'] = shop\n",
        "formatAns['userid'] = buyer\n",
        "\n",
        "df = pd.DataFrame.from_dict(formatAns)"
      ],
      "execution_count": null,
      "outputs": []
    },
    {
      "cell_type": "code",
      "metadata": {
        "id": "9Rn1A4_Vx7mR",
        "outputId": "419ba10d-a512-4165-f79e-cb4f2cdf7374",
        "colab": {
          "base_uri": "https://localhost:8080/",
          "height": 399
        }
      },
      "source": [
        "df"
      ],
      "execution_count": null,
      "outputs": [
        {
          "output_type": "execute_result",
          "data": {
            "text/html": [
              "<div>\n",
              "<style scoped>\n",
              "    .dataframe tbody tr th:only-of-type {\n",
              "        vertical-align: middle;\n",
              "    }\n",
              "\n",
              "    .dataframe tbody tr th {\n",
              "        vertical-align: top;\n",
              "    }\n",
              "\n",
              "    .dataframe thead th {\n",
              "        text-align: right;\n",
              "    }\n",
              "</style>\n",
              "<table border=\"1\" class=\"dataframe\">\n",
              "  <thead>\n",
              "    <tr style=\"text-align: right;\">\n",
              "      <th></th>\n",
              "      <th>shopid</th>\n",
              "      <th>userid</th>\n",
              "    </tr>\n",
              "  </thead>\n",
              "  <tbody>\n",
              "    <tr>\n",
              "      <th>0</th>\n",
              "      <td>10009</td>\n",
              "      <td>0</td>\n",
              "    </tr>\n",
              "    <tr>\n",
              "      <th>1</th>\n",
              "      <td>10051</td>\n",
              "      <td>0</td>\n",
              "    </tr>\n",
              "    <tr>\n",
              "      <th>2</th>\n",
              "      <td>10061</td>\n",
              "      <td>0</td>\n",
              "    </tr>\n",
              "    <tr>\n",
              "      <th>3</th>\n",
              "      <td>10084</td>\n",
              "      <td>0</td>\n",
              "    </tr>\n",
              "    <tr>\n",
              "      <th>4</th>\n",
              "      <td>10100</td>\n",
              "      <td>0</td>\n",
              "    </tr>\n",
              "    <tr>\n",
              "      <th>...</th>\n",
              "      <td>...</td>\n",
              "      <td>...</td>\n",
              "    </tr>\n",
              "    <tr>\n",
              "      <th>18765</th>\n",
              "      <td>214662358</td>\n",
              "      <td>0</td>\n",
              "    </tr>\n",
              "    <tr>\n",
              "      <th>18766</th>\n",
              "      <td>214949521</td>\n",
              "      <td>0</td>\n",
              "    </tr>\n",
              "    <tr>\n",
              "      <th>18767</th>\n",
              "      <td>214964814</td>\n",
              "      <td>0</td>\n",
              "    </tr>\n",
              "    <tr>\n",
              "      <th>18768</th>\n",
              "      <td>215175775</td>\n",
              "      <td>0</td>\n",
              "    </tr>\n",
              "    <tr>\n",
              "      <th>18769</th>\n",
              "      <td>215435223</td>\n",
              "      <td>0</td>\n",
              "    </tr>\n",
              "  </tbody>\n",
              "</table>\n",
              "<p>18770 rows × 2 columns</p>\n",
              "</div>"
            ],
            "text/plain": [
              "          shopid userid\n",
              "0          10009      0\n",
              "1          10051      0\n",
              "2          10061      0\n",
              "3          10084      0\n",
              "4          10100      0\n",
              "...          ...    ...\n",
              "18765  214662358      0\n",
              "18766  214949521      0\n",
              "18767  214964814      0\n",
              "18768  215175775      0\n",
              "18769  215435223      0\n",
              "\n",
              "[18770 rows x 2 columns]"
            ]
          },
          "metadata": {
            "tags": []
          },
          "execution_count": 233
        }
      ]
    },
    {
      "cell_type": "code",
      "metadata": {
        "id": "K-ITJioiyz_3"
      },
      "source": [
        "from google.colab import files\n",
        "df.to_csv('Olea.csv', index=False) \n",
        "files.download('Olea.csv')"
      ],
      "execution_count": null,
      "outputs": []
    }
  ]
}