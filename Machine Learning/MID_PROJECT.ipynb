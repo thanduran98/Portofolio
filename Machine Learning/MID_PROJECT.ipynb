{
  "nbformat": 4,
  "nbformat_minor": 0,
  "metadata": {
    "colab": {
      "name": "MID EXAM ML",
      "provenance": [],
      "collapsed_sections": []
    },
    "kernelspec": {
      "name": "python3",
      "display_name": "Python 3"
    }
  },
  "cells": [
    {
      "cell_type": "markdown",
      "metadata": {
        "id": "18NxIMW28eR6"
      },
      "source": [
        "# MID EXAM Machine Learning"
      ]
    },
    {
      "cell_type": "markdown",
      "metadata": {
        "id": "rWteiIvsj8Mv"
      },
      "source": [
        "Gabriela Nathania H.<br>\n",
        "2201797494<br>\n",
        "LA01<br>"
      ]
    },
    {
      "cell_type": "markdown",
      "metadata": {
        "id": "8iklXyxrkIsE"
      },
      "source": [
        "# Load Data"
      ]
    },
    {
      "cell_type": "code",
      "metadata": {
        "id": "p4xbOi8VT5p3"
      },
      "source": [
        "import pandas as pd\n",
        "data = pd.read_csv(\"datasetMidExamCOMP6577.csv\")"
      ],
      "execution_count": null,
      "outputs": []
    },
    {
      "cell_type": "code",
      "metadata": {
        "id": "MSoSCADSUKit",
        "outputId": "68dbdc63-553d-4840-d64a-5f30d4ceca26",
        "colab": {
          "base_uri": "https://localhost:8080/",
          "height": 431
        }
      },
      "source": [
        "data"
      ],
      "execution_count": null,
      "outputs": [
        {
          "output_type": "execute_result",
          "data": {
            "text/html": [
              "<div>\n",
              "<style scoped>\n",
              "    .dataframe tbody tr th:only-of-type {\n",
              "        vertical-align: middle;\n",
              "    }\n",
              "\n",
              "    .dataframe tbody tr th {\n",
              "        vertical-align: top;\n",
              "    }\n",
              "\n",
              "    .dataframe thead th {\n",
              "        text-align: right;\n",
              "    }\n",
              "</style>\n",
              "<table border=\"1\" class=\"dataframe\">\n",
              "  <thead>\n",
              "    <tr style=\"text-align: right;\">\n",
              "      <th></th>\n",
              "      <th>X1</th>\n",
              "      <th>X2</th>\n",
              "      <th>X3</th>\n",
              "      <th>X4</th>\n",
              "      <th>X5</th>\n",
              "      <th>X6</th>\n",
              "      <th>X7</th>\n",
              "      <th>X8</th>\n",
              "      <th>X9</th>\n",
              "      <th>X10</th>\n",
              "      <th>X11</th>\n",
              "      <th>X12</th>\n",
              "      <th>X13</th>\n",
              "      <th>X14</th>\n",
              "      <th>X15</th>\n",
              "      <th>X16</th>\n",
              "      <th>X17</th>\n",
              "      <th>X18</th>\n",
              "      <th>X19</th>\n",
              "      <th>X20</th>\n",
              "      <th>Y</th>\n",
              "    </tr>\n",
              "  </thead>\n",
              "  <tbody>\n",
              "    <tr>\n",
              "      <th>0</th>\n",
              "      <td>-1.642373</td>\n",
              "      <td>-1.891163</td>\n",
              "      <td>1.255130</td>\n",
              "      <td>0.704814</td>\n",
              "      <td>0.356427</td>\n",
              "      <td>-0.041620</td>\n",
              "      <td>1.041863</td>\n",
              "      <td>0.380663</td>\n",
              "      <td>2.426233</td>\n",
              "      <td>-1.235526</td>\n",
              "      <td>-2.257606</td>\n",
              "      <td>0.129417</td>\n",
              "      <td>0.752667</td>\n",
              "      <td>1.022619</td>\n",
              "      <td>-0.362493</td>\n",
              "      <td>-1.229912</td>\n",
              "      <td>0.192965</td>\n",
              "      <td>-0.647965</td>\n",
              "      <td>0.856564</td>\n",
              "      <td>0.109518</td>\n",
              "      <td>-31.739298</td>\n",
              "    </tr>\n",
              "    <tr>\n",
              "      <th>1</th>\n",
              "      <td>-0.236370</td>\n",
              "      <td>0.403301</td>\n",
              "      <td>0.226318</td>\n",
              "      <td>0.840127</td>\n",
              "      <td>0.913563</td>\n",
              "      <td>0.674385</td>\n",
              "      <td>-0.321146</td>\n",
              "      <td>-0.334045</td>\n",
              "      <td>-0.826258</td>\n",
              "      <td>0.109989</td>\n",
              "      <td>1.074009</td>\n",
              "      <td>-0.453897</td>\n",
              "      <td>-1.014470</td>\n",
              "      <td>-0.145812</td>\n",
              "      <td>0.347691</td>\n",
              "      <td>0.534088</td>\n",
              "      <td>-0.381251</td>\n",
              "      <td>0.409131</td>\n",
              "      <td>0.774001</td>\n",
              "      <td>0.207668</td>\n",
              "      <td>26.899336</td>\n",
              "    </tr>\n",
              "    <tr>\n",
              "      <th>2</th>\n",
              "      <td>0.583380</td>\n",
              "      <td>-0.108189</td>\n",
              "      <td>-1.625678</td>\n",
              "      <td>0.755708</td>\n",
              "      <td>0.585915</td>\n",
              "      <td>1.802448</td>\n",
              "      <td>-1.214784</td>\n",
              "      <td>0.560887</td>\n",
              "      <td>0.689383</td>\n",
              "      <td>-0.534512</td>\n",
              "      <td>0.359603</td>\n",
              "      <td>-0.695661</td>\n",
              "      <td>-0.989813</td>\n",
              "      <td>-0.581622</td>\n",
              "      <td>-0.496429</td>\n",
              "      <td>0.605437</td>\n",
              "      <td>-1.127485</td>\n",
              "      <td>1.480744</td>\n",
              "      <td>1.251860</td>\n",
              "      <td>0.523639</td>\n",
              "      <td>183.024854</td>\n",
              "    </tr>\n",
              "    <tr>\n",
              "      <th>3</th>\n",
              "      <td>-0.806393</td>\n",
              "      <td>0.478986</td>\n",
              "      <td>-0.233436</td>\n",
              "      <td>0.262014</td>\n",
              "      <td>1.020527</td>\n",
              "      <td>1.707140</td>\n",
              "      <td>-0.048339</td>\n",
              "      <td>1.484586</td>\n",
              "      <td>0.887573</td>\n",
              "      <td>0.791469</td>\n",
              "      <td>0.254291</td>\n",
              "      <td>1.448427</td>\n",
              "      <td>-0.186886</td>\n",
              "      <td>0.472222</td>\n",
              "      <td>1.297318</td>\n",
              "      <td>0.040038</td>\n",
              "      <td>0.989484</td>\n",
              "      <td>-0.321475</td>\n",
              "      <td>-0.538455</td>\n",
              "      <td>-0.962383</td>\n",
              "      <td>396.679552</td>\n",
              "    </tr>\n",
              "    <tr>\n",
              "      <th>4</th>\n",
              "      <td>1.298593</td>\n",
              "      <td>1.326947</td>\n",
              "      <td>0.580294</td>\n",
              "      <td>1.225229</td>\n",
              "      <td>-1.301900</td>\n",
              "      <td>-0.253788</td>\n",
              "      <td>0.700775</td>\n",
              "      <td>1.294974</td>\n",
              "      <td>-0.019954</td>\n",
              "      <td>0.030802</td>\n",
              "      <td>1.735332</td>\n",
              "      <td>-0.802592</td>\n",
              "      <td>1.317312</td>\n",
              "      <td>-0.039003</td>\n",
              "      <td>1.928265</td>\n",
              "      <td>1.166949</td>\n",
              "      <td>-1.206211</td>\n",
              "      <td>-0.157603</td>\n",
              "      <td>1.174179</td>\n",
              "      <td>0.501171</td>\n",
              "      <td>387.164191</td>\n",
              "    </tr>\n",
              "    <tr>\n",
              "      <th>...</th>\n",
              "      <td>...</td>\n",
              "      <td>...</td>\n",
              "      <td>...</td>\n",
              "      <td>...</td>\n",
              "      <td>...</td>\n",
              "      <td>...</td>\n",
              "      <td>...</td>\n",
              "      <td>...</td>\n",
              "      <td>...</td>\n",
              "      <td>...</td>\n",
              "      <td>...</td>\n",
              "      <td>...</td>\n",
              "      <td>...</td>\n",
              "      <td>...</td>\n",
              "      <td>...</td>\n",
              "      <td>...</td>\n",
              "      <td>...</td>\n",
              "      <td>...</td>\n",
              "      <td>...</td>\n",
              "      <td>...</td>\n",
              "      <td>...</td>\n",
              "    </tr>\n",
              "    <tr>\n",
              "      <th>4995</th>\n",
              "      <td>-1.763517</td>\n",
              "      <td>1.409303</td>\n",
              "      <td>-0.847103</td>\n",
              "      <td>-1.309791</td>\n",
              "      <td>0.701538</td>\n",
              "      <td>-1.047753</td>\n",
              "      <td>-1.120423</td>\n",
              "      <td>-1.108063</td>\n",
              "      <td>0.843118</td>\n",
              "      <td>-1.324085</td>\n",
              "      <td>1.255142</td>\n",
              "      <td>-0.901189</td>\n",
              "      <td>-0.455522</td>\n",
              "      <td>0.162444</td>\n",
              "      <td>-2.337168</td>\n",
              "      <td>-0.687933</td>\n",
              "      <td>1.572166</td>\n",
              "      <td>-0.577930</td>\n",
              "      <td>-0.847717</td>\n",
              "      <td>-0.487834</td>\n",
              "      <td>-486.366102</td>\n",
              "    </tr>\n",
              "    <tr>\n",
              "      <th>4996</th>\n",
              "      <td>-0.753434</td>\n",
              "      <td>0.305572</td>\n",
              "      <td>-0.388070</td>\n",
              "      <td>1.933120</td>\n",
              "      <td>1.629975</td>\n",
              "      <td>-0.846548</td>\n",
              "      <td>0.050100</td>\n",
              "      <td>0.409460</td>\n",
              "      <td>-1.586984</td>\n",
              "      <td>-0.123365</td>\n",
              "      <td>-2.763681</td>\n",
              "      <td>1.210202</td>\n",
              "      <td>0.435909</td>\n",
              "      <td>-1.076241</td>\n",
              "      <td>1.060913</td>\n",
              "      <td>0.188963</td>\n",
              "      <td>0.173448</td>\n",
              "      <td>-0.030442</td>\n",
              "      <td>-0.588082</td>\n",
              "      <td>0.293669</td>\n",
              "      <td>-78.667215</td>\n",
              "    </tr>\n",
              "    <tr>\n",
              "      <th>4997</th>\n",
              "      <td>0.705710</td>\n",
              "      <td>-0.201628</td>\n",
              "      <td>-0.974727</td>\n",
              "      <td>-1.043164</td>\n",
              "      <td>1.196562</td>\n",
              "      <td>-0.011345</td>\n",
              "      <td>-0.733875</td>\n",
              "      <td>1.287912</td>\n",
              "      <td>-1.319149</td>\n",
              "      <td>1.132581</td>\n",
              "      <td>-0.581551</td>\n",
              "      <td>-0.051830</td>\n",
              "      <td>-0.342204</td>\n",
              "      <td>0.289448</td>\n",
              "      <td>-0.792051</td>\n",
              "      <td>-0.301194</td>\n",
              "      <td>-0.857729</td>\n",
              "      <td>-0.277780</td>\n",
              "      <td>-0.049976</td>\n",
              "      <td>0.438051</td>\n",
              "      <td>122.827208</td>\n",
              "    </tr>\n",
              "    <tr>\n",
              "      <th>4998</th>\n",
              "      <td>-0.146282</td>\n",
              "      <td>-1.576102</td>\n",
              "      <td>0.614686</td>\n",
              "      <td>0.786695</td>\n",
              "      <td>0.896506</td>\n",
              "      <td>0.231904</td>\n",
              "      <td>-0.100321</td>\n",
              "      <td>0.152559</td>\n",
              "      <td>-0.157891</td>\n",
              "      <td>0.262598</td>\n",
              "      <td>1.496705</td>\n",
              "      <td>1.164698</td>\n",
              "      <td>1.521198</td>\n",
              "      <td>-1.678416</td>\n",
              "      <td>-0.171298</td>\n",
              "      <td>1.799270</td>\n",
              "      <td>0.090973</td>\n",
              "      <td>1.143055</td>\n",
              "      <td>2.484836</td>\n",
              "      <td>-0.418207</td>\n",
              "      <td>115.310630</td>\n",
              "    </tr>\n",
              "    <tr>\n",
              "      <th>4999</th>\n",
              "      <td>-0.594543</td>\n",
              "      <td>-0.446722</td>\n",
              "      <td>0.666065</td>\n",
              "      <td>0.210548</td>\n",
              "      <td>1.644780</td>\n",
              "      <td>1.246889</td>\n",
              "      <td>1.832158</td>\n",
              "      <td>0.727069</td>\n",
              "      <td>1.788376</td>\n",
              "      <td>1.847332</td>\n",
              "      <td>-1.357677</td>\n",
              "      <td>0.478637</td>\n",
              "      <td>0.077323</td>\n",
              "      <td>-0.571736</td>\n",
              "      <td>-1.733080</td>\n",
              "      <td>0.414342</td>\n",
              "      <td>0.576534</td>\n",
              "      <td>-0.039827</td>\n",
              "      <td>1.239755</td>\n",
              "      <td>0.520832</td>\n",
              "      <td>67.858739</td>\n",
              "    </tr>\n",
              "  </tbody>\n",
              "</table>\n",
              "<p>5000 rows × 21 columns</p>\n",
              "</div>"
            ],
            "text/plain": [
              "            X1        X2        X3  ...       X19       X20           Y\n",
              "0    -1.642373 -1.891163  1.255130  ...  0.856564  0.109518  -31.739298\n",
              "1    -0.236370  0.403301  0.226318  ...  0.774001  0.207668   26.899336\n",
              "2     0.583380 -0.108189 -1.625678  ...  1.251860  0.523639  183.024854\n",
              "3    -0.806393  0.478986 -0.233436  ... -0.538455 -0.962383  396.679552\n",
              "4     1.298593  1.326947  0.580294  ...  1.174179  0.501171  387.164191\n",
              "...        ...       ...       ...  ...       ...       ...         ...\n",
              "4995 -1.763517  1.409303 -0.847103  ... -0.847717 -0.487834 -486.366102\n",
              "4996 -0.753434  0.305572 -0.388070  ... -0.588082  0.293669  -78.667215\n",
              "4997  0.705710 -0.201628 -0.974727  ... -0.049976  0.438051  122.827208\n",
              "4998 -0.146282 -1.576102  0.614686  ...  2.484836 -0.418207  115.310630\n",
              "4999 -0.594543 -0.446722  0.666065  ...  1.239755  0.520832   67.858739\n",
              "\n",
              "[5000 rows x 21 columns]"
            ]
          },
          "metadata": {
            "tags": []
          },
          "execution_count": 127
        }
      ]
    },
    {
      "cell_type": "markdown",
      "metadata": {
        "id": "ta3vXHkWgsD9"
      },
      "source": [
        "All data do not have any null value"
      ]
    },
    {
      "cell_type": "code",
      "metadata": {
        "id": "p5sgmSVVC6K7",
        "outputId": "4537380f-74bc-4a35-f2c4-9a517863675c",
        "colab": {
          "base_uri": "https://localhost:8080/",
          "height": 408
        }
      },
      "source": [
        "data.any().isna()"
      ],
      "execution_count": null,
      "outputs": [
        {
          "output_type": "execute_result",
          "data": {
            "text/plain": [
              "X1     False\n",
              "X2     False\n",
              "X3     False\n",
              "X4     False\n",
              "X5     False\n",
              "X6     False\n",
              "X7     False\n",
              "X8     False\n",
              "X9     False\n",
              "X10    False\n",
              "X11    False\n",
              "X12    False\n",
              "X13    False\n",
              "X14    False\n",
              "X15    False\n",
              "X16    False\n",
              "X17    False\n",
              "X18    False\n",
              "X19    False\n",
              "X20    False\n",
              "Y      False\n",
              "dtype: bool"
            ]
          },
          "metadata": {
            "tags": []
          },
          "execution_count": 128
        }
      ]
    },
    {
      "cell_type": "code",
      "metadata": {
        "id": "DZA96dixC-YF",
        "outputId": "f25f7c73-694f-4bbe-86b1-9d72f1b96e8d",
        "colab": {
          "base_uri": "https://localhost:8080/",
          "height": 35
        }
      },
      "source": [
        "data.shape"
      ],
      "execution_count": null,
      "outputs": [
        {
          "output_type": "execute_result",
          "data": {
            "text/plain": [
              "(5000, 21)"
            ]
          },
          "metadata": {
            "tags": []
          },
          "execution_count": 129
        }
      ]
    },
    {
      "cell_type": "markdown",
      "metadata": {
        "id": "h4Bs_NaQgmPZ"
      },
      "source": [
        "All data are float"
      ]
    },
    {
      "cell_type": "code",
      "metadata": {
        "id": "xQrgH7srDBE3",
        "outputId": "05017005-a57f-4ff5-8b5f-57701dd47bfd",
        "colab": {
          "base_uri": "https://localhost:8080/",
          "height": 408
        }
      },
      "source": [
        "data.dtypes"
      ],
      "execution_count": null,
      "outputs": [
        {
          "output_type": "execute_result",
          "data": {
            "text/plain": [
              "X1     float64\n",
              "X2     float64\n",
              "X3     float64\n",
              "X4     float64\n",
              "X5     float64\n",
              "X6     float64\n",
              "X7     float64\n",
              "X8     float64\n",
              "X9     float64\n",
              "X10    float64\n",
              "X11    float64\n",
              "X12    float64\n",
              "X13    float64\n",
              "X14    float64\n",
              "X15    float64\n",
              "X16    float64\n",
              "X17    float64\n",
              "X18    float64\n",
              "X19    float64\n",
              "X20    float64\n",
              "Y      float64\n",
              "dtype: object"
            ]
          },
          "metadata": {
            "tags": []
          },
          "execution_count": 130
        }
      ]
    },
    {
      "cell_type": "markdown",
      "metadata": {
        "id": "G95QwpAtksaV"
      },
      "source": [
        "# Simple Exploratory Data Analysis (EDA)"
      ]
    },
    {
      "cell_type": "code",
      "metadata": {
        "id": "ZGfM1B0Ek_GX",
        "outputId": "ddf07a56-baed-4f97-c937-4200d3564890",
        "colab": {
          "base_uri": "https://localhost:8080/",
          "height": 686
        }
      },
      "source": [
        "data.describe().T"
      ],
      "execution_count": null,
      "outputs": [
        {
          "output_type": "execute_result",
          "data": {
            "text/html": [
              "<div>\n",
              "<style scoped>\n",
              "    .dataframe tbody tr th:only-of-type {\n",
              "        vertical-align: middle;\n",
              "    }\n",
              "\n",
              "    .dataframe tbody tr th {\n",
              "        vertical-align: top;\n",
              "    }\n",
              "\n",
              "    .dataframe thead th {\n",
              "        text-align: right;\n",
              "    }\n",
              "</style>\n",
              "<table border=\"1\" class=\"dataframe\">\n",
              "  <thead>\n",
              "    <tr style=\"text-align: right;\">\n",
              "      <th></th>\n",
              "      <th>count</th>\n",
              "      <th>mean</th>\n",
              "      <th>std</th>\n",
              "      <th>min</th>\n",
              "      <th>25%</th>\n",
              "      <th>50%</th>\n",
              "      <th>75%</th>\n",
              "      <th>max</th>\n",
              "    </tr>\n",
              "  </thead>\n",
              "  <tbody>\n",
              "    <tr>\n",
              "      <th>X1</th>\n",
              "      <td>5000.0</td>\n",
              "      <td>-0.001953</td>\n",
              "      <td>0.987112</td>\n",
              "      <td>-3.488324</td>\n",
              "      <td>-0.686743</td>\n",
              "      <td>0.001733</td>\n",
              "      <td>0.648212</td>\n",
              "      <td>3.318885</td>\n",
              "    </tr>\n",
              "    <tr>\n",
              "      <th>X2</th>\n",
              "      <td>5000.0</td>\n",
              "      <td>-0.015267</td>\n",
              "      <td>0.991450</td>\n",
              "      <td>-3.496688</td>\n",
              "      <td>-0.686823</td>\n",
              "      <td>-0.013995</td>\n",
              "      <td>0.649049</td>\n",
              "      <td>3.839527</td>\n",
              "    </tr>\n",
              "    <tr>\n",
              "      <th>X3</th>\n",
              "      <td>5000.0</td>\n",
              "      <td>0.022455</td>\n",
              "      <td>1.007237</td>\n",
              "      <td>-5.148485</td>\n",
              "      <td>-0.637566</td>\n",
              "      <td>0.013355</td>\n",
              "      <td>0.693568</td>\n",
              "      <td>3.735288</td>\n",
              "    </tr>\n",
              "    <tr>\n",
              "      <th>X4</th>\n",
              "      <td>5000.0</td>\n",
              "      <td>0.008668</td>\n",
              "      <td>0.998172</td>\n",
              "      <td>-3.573875</td>\n",
              "      <td>-0.687059</td>\n",
              "      <td>-0.005516</td>\n",
              "      <td>0.685630</td>\n",
              "      <td>3.803317</td>\n",
              "    </tr>\n",
              "    <tr>\n",
              "      <th>X5</th>\n",
              "      <td>5000.0</td>\n",
              "      <td>0.035632</td>\n",
              "      <td>1.005234</td>\n",
              "      <td>-3.224547</td>\n",
              "      <td>-0.658617</td>\n",
              "      <td>0.043228</td>\n",
              "      <td>0.705309</td>\n",
              "      <td>3.425089</td>\n",
              "    </tr>\n",
              "    <tr>\n",
              "      <th>X6</th>\n",
              "      <td>5000.0</td>\n",
              "      <td>0.013229</td>\n",
              "      <td>1.002731</td>\n",
              "      <td>-3.536761</td>\n",
              "      <td>-0.657587</td>\n",
              "      <td>0.030935</td>\n",
              "      <td>0.695355</td>\n",
              "      <td>3.467728</td>\n",
              "    </tr>\n",
              "    <tr>\n",
              "      <th>X7</th>\n",
              "      <td>5000.0</td>\n",
              "      <td>-0.000042</td>\n",
              "      <td>0.992107</td>\n",
              "      <td>-3.698173</td>\n",
              "      <td>-0.676569</td>\n",
              "      <td>0.007159</td>\n",
              "      <td>0.662130</td>\n",
              "      <td>3.657381</td>\n",
              "    </tr>\n",
              "    <tr>\n",
              "      <th>X8</th>\n",
              "      <td>5000.0</td>\n",
              "      <td>0.004030</td>\n",
              "      <td>1.000990</td>\n",
              "      <td>-3.671536</td>\n",
              "      <td>-0.662038</td>\n",
              "      <td>0.009486</td>\n",
              "      <td>0.668084</td>\n",
              "      <td>3.506429</td>\n",
              "    </tr>\n",
              "    <tr>\n",
              "      <th>X9</th>\n",
              "      <td>5000.0</td>\n",
              "      <td>-0.002143</td>\n",
              "      <td>0.989346</td>\n",
              "      <td>-3.677741</td>\n",
              "      <td>-0.673238</td>\n",
              "      <td>-0.004556</td>\n",
              "      <td>0.681150</td>\n",
              "      <td>3.645761</td>\n",
              "    </tr>\n",
              "    <tr>\n",
              "      <th>X10</th>\n",
              "      <td>5000.0</td>\n",
              "      <td>-0.004591</td>\n",
              "      <td>0.978357</td>\n",
              "      <td>-3.650546</td>\n",
              "      <td>-0.656132</td>\n",
              "      <td>-0.007645</td>\n",
              "      <td>0.641820</td>\n",
              "      <td>3.185439</td>\n",
              "    </tr>\n",
              "    <tr>\n",
              "      <th>X11</th>\n",
              "      <td>5000.0</td>\n",
              "      <td>0.004894</td>\n",
              "      <td>0.990287</td>\n",
              "      <td>-3.611693</td>\n",
              "      <td>-0.664718</td>\n",
              "      <td>0.014595</td>\n",
              "      <td>0.672667</td>\n",
              "      <td>3.249807</td>\n",
              "    </tr>\n",
              "    <tr>\n",
              "      <th>X12</th>\n",
              "      <td>5000.0</td>\n",
              "      <td>0.011416</td>\n",
              "      <td>1.006730</td>\n",
              "      <td>-3.702240</td>\n",
              "      <td>-0.656855</td>\n",
              "      <td>0.016766</td>\n",
              "      <td>0.709304</td>\n",
              "      <td>3.508102</td>\n",
              "    </tr>\n",
              "    <tr>\n",
              "      <th>X13</th>\n",
              "      <td>5000.0</td>\n",
              "      <td>-0.016291</td>\n",
              "      <td>1.002476</td>\n",
              "      <td>-3.361729</td>\n",
              "      <td>-0.677724</td>\n",
              "      <td>-0.008474</td>\n",
              "      <td>0.666127</td>\n",
              "      <td>3.859351</td>\n",
              "    </tr>\n",
              "    <tr>\n",
              "      <th>X14</th>\n",
              "      <td>5000.0</td>\n",
              "      <td>-0.013162</td>\n",
              "      <td>0.998426</td>\n",
              "      <td>-4.120041</td>\n",
              "      <td>-0.690374</td>\n",
              "      <td>0.002025</td>\n",
              "      <td>0.646379</td>\n",
              "      <td>3.650182</td>\n",
              "    </tr>\n",
              "    <tr>\n",
              "      <th>X15</th>\n",
              "      <td>5000.0</td>\n",
              "      <td>-0.021070</td>\n",
              "      <td>1.008069</td>\n",
              "      <td>-3.331187</td>\n",
              "      <td>-0.703024</td>\n",
              "      <td>-0.021598</td>\n",
              "      <td>0.659198</td>\n",
              "      <td>3.512230</td>\n",
              "    </tr>\n",
              "    <tr>\n",
              "      <th>X16</th>\n",
              "      <td>5000.0</td>\n",
              "      <td>0.002030</td>\n",
              "      <td>1.003447</td>\n",
              "      <td>-3.493909</td>\n",
              "      <td>-0.674925</td>\n",
              "      <td>-0.005992</td>\n",
              "      <td>0.660279</td>\n",
              "      <td>3.429935</td>\n",
              "    </tr>\n",
              "    <tr>\n",
              "      <th>X17</th>\n",
              "      <td>5000.0</td>\n",
              "      <td>0.003390</td>\n",
              "      <td>1.000931</td>\n",
              "      <td>-3.895678</td>\n",
              "      <td>-0.668757</td>\n",
              "      <td>-0.003707</td>\n",
              "      <td>0.680918</td>\n",
              "      <td>3.362256</td>\n",
              "    </tr>\n",
              "    <tr>\n",
              "      <th>X18</th>\n",
              "      <td>5000.0</td>\n",
              "      <td>0.006686</td>\n",
              "      <td>0.988397</td>\n",
              "      <td>-3.588884</td>\n",
              "      <td>-0.651438</td>\n",
              "      <td>0.001428</td>\n",
              "      <td>0.667997</td>\n",
              "      <td>3.634935</td>\n",
              "    </tr>\n",
              "    <tr>\n",
              "      <th>X19</th>\n",
              "      <td>5000.0</td>\n",
              "      <td>-0.015127</td>\n",
              "      <td>0.979994</td>\n",
              "      <td>-4.254218</td>\n",
              "      <td>-0.671516</td>\n",
              "      <td>-0.023324</td>\n",
              "      <td>0.648694</td>\n",
              "      <td>3.426333</td>\n",
              "    </tr>\n",
              "    <tr>\n",
              "      <th>X20</th>\n",
              "      <td>5000.0</td>\n",
              "      <td>-0.002235</td>\n",
              "      <td>1.007840</td>\n",
              "      <td>-4.013535</td>\n",
              "      <td>-0.678696</td>\n",
              "      <td>-0.000644</td>\n",
              "      <td>0.668391</td>\n",
              "      <td>4.162365</td>\n",
              "    </tr>\n",
              "    <tr>\n",
              "      <th>Y</th>\n",
              "      <td>5000.0</td>\n",
              "      <td>10.032261</td>\n",
              "      <td>200.192536</td>\n",
              "      <td>-749.578669</td>\n",
              "      <td>-121.919089</td>\n",
              "      <td>12.899559</td>\n",
              "      <td>146.512047</td>\n",
              "      <td>740.019221</td>\n",
              "    </tr>\n",
              "  </tbody>\n",
              "</table>\n",
              "</div>"
            ],
            "text/plain": [
              "      count       mean         std  ...        50%         75%         max\n",
              "X1   5000.0  -0.001953    0.987112  ...   0.001733    0.648212    3.318885\n",
              "X2   5000.0  -0.015267    0.991450  ...  -0.013995    0.649049    3.839527\n",
              "X3   5000.0   0.022455    1.007237  ...   0.013355    0.693568    3.735288\n",
              "X4   5000.0   0.008668    0.998172  ...  -0.005516    0.685630    3.803317\n",
              "X5   5000.0   0.035632    1.005234  ...   0.043228    0.705309    3.425089\n",
              "X6   5000.0   0.013229    1.002731  ...   0.030935    0.695355    3.467728\n",
              "X7   5000.0  -0.000042    0.992107  ...   0.007159    0.662130    3.657381\n",
              "X8   5000.0   0.004030    1.000990  ...   0.009486    0.668084    3.506429\n",
              "X9   5000.0  -0.002143    0.989346  ...  -0.004556    0.681150    3.645761\n",
              "X10  5000.0  -0.004591    0.978357  ...  -0.007645    0.641820    3.185439\n",
              "X11  5000.0   0.004894    0.990287  ...   0.014595    0.672667    3.249807\n",
              "X12  5000.0   0.011416    1.006730  ...   0.016766    0.709304    3.508102\n",
              "X13  5000.0  -0.016291    1.002476  ...  -0.008474    0.666127    3.859351\n",
              "X14  5000.0  -0.013162    0.998426  ...   0.002025    0.646379    3.650182\n",
              "X15  5000.0  -0.021070    1.008069  ...  -0.021598    0.659198    3.512230\n",
              "X16  5000.0   0.002030    1.003447  ...  -0.005992    0.660279    3.429935\n",
              "X17  5000.0   0.003390    1.000931  ...  -0.003707    0.680918    3.362256\n",
              "X18  5000.0   0.006686    0.988397  ...   0.001428    0.667997    3.634935\n",
              "X19  5000.0  -0.015127    0.979994  ...  -0.023324    0.648694    3.426333\n",
              "X20  5000.0  -0.002235    1.007840  ...  -0.000644    0.668391    4.162365\n",
              "Y    5000.0  10.032261  200.192536  ...  12.899559  146.512047  740.019221\n",
              "\n",
              "[21 rows x 8 columns]"
            ]
          },
          "metadata": {
            "tags": []
          },
          "execution_count": 131
        }
      ]
    },
    {
      "cell_type": "markdown",
      "metadata": {
        "id": "jPZyRDcJjjvL"
      },
      "source": [
        "Plot for every pair of features"
      ]
    },
    {
      "cell_type": "code",
      "metadata": {
        "id": "FlWGZl5JbcV1",
        "outputId": "fde43ca6-67d7-4f7e-9e2b-b65f4958ca95",
        "colab": {
          "base_uri": "https://localhost:8080/",
          "height": 1000
        }
      },
      "source": [
        "import seaborn as sns\n",
        "sns.pairplot(data, size = 4)"
      ],
      "execution_count": null,
      "outputs": []
    },
    {
      "cell_type": "markdown",
      "metadata": {
        "id": "hfT1hF49dbE_"
      },
      "source": [
        "Data correlation\n",
        "![correlation](https://drive.google.com/uc?id=1xJ9A9xgSIVluj5gll4b6bPweRePzRRNu)"
      ]
    },
    {
      "cell_type": "code",
      "metadata": {
        "id": "lO0NpfCkn4g6",
        "outputId": "5746f656-97f5-4dae-a169-397ae284d9cc",
        "colab": {
          "base_uri": "https://localhost:8080/",
          "height": 1000
        }
      },
      "source": [
        "import seaborn as sns\n",
        "import numpy as np\n",
        "import matplotlib.pyplot as plt\n",
        "matrix = np.triu(data.corr())\n",
        "plt.figure(figsize=(20, 20)) \n",
        "sns.heatmap(data.corr(), annot=True, vmin=-1, vmax=1, mask=matrix,cmap='YlGnBu')"
      ],
      "execution_count": null,
      "outputs": [
        {
          "output_type": "execute_result",
          "data": {
            "text/plain": [
              "<matplotlib.axes._subplots.AxesSubplot at 0x7fe10494a208>"
            ]
          },
          "metadata": {
            "tags": []
          },
          "execution_count": 133
        },
        {
          "output_type": "display_data",
          "data": {
            "image/png": "[encoded data removed]",
            "text/plain": [
              "<Figure size 1440x1440 with 2 Axes>"
            ]
          },
          "metadata": {
            "tags": [],
            "needs_background": "light"
          }
        }
      ]
    },
    {
      "cell_type": "markdown",
      "metadata": {
        "id": "wuspTiVpelvI"
      },
      "source": [
        "* X8 has the highest correlation value to Y \n",
        "* There are 8 features which have correlation values > 0.1 to Y\n",
        "* Every pair of features do not have any significant correlation value"
      ]
    },
    {
      "cell_type": "markdown",
      "metadata": {
        "id": "Bs-YzYcEdBCp"
      },
      "source": [
        "Value distribution of X1 to X20 follow the same pattern of Normal Distribution, so there's no need to do normalization."
      ]
    },
    {
      "cell_type": "code",
      "metadata": {
        "id": "yHKBEEoVwukw",
        "outputId": "f0d82fdc-30f7-4ef8-8e63-ebba7b54379d",
        "colab": {
          "base_uri": "https://localhost:8080/",
          "height": 428
        }
      },
      "source": [
        "plt.figure(figsize=(7, 7))\n",
        "for i in data.columns:\n",
        "  if i == \"Y\" : break\n",
        "  sns.kdeplot(data[i])"
      ],
      "execution_count": null,
      "outputs": [
        {
          "output_type": "display_data",
          "data": {
            "image/png": "[encoded data removed]",
            "text/plain": [
              "<Figure size 504x504 with 1 Axes>"
            ]
          },
          "metadata": {
            "tags": [],
            "needs_background": "light"
          }
        }
      ]
    },
    {
      "cell_type": "markdown",
      "metadata": {
        "id": "HNyxTFmmHIeh"
      },
      "source": [
        "# Choosing Learning Algorithm"
      ]
    },
    {
      "cell_type": "markdown",
      "metadata": {
        "id": "TOoCZkUBkhTY"
      },
      "source": [
        "![ML Map](https://drive.google.com/uc?id=1Jqp34aw-e3_uK3XN8LmzQ9vRYk1AG6U7)"
      ]
    },
    {
      "cell_type": "markdown",
      "metadata": {
        "id": "3SFkeSnTj-7-"
      },
      "source": [
        "Considering:\n",
        "* More than 50 sample of Data\n",
        "* Predicting continues values\n",
        "\n",
        "Thus, **Regression** model can be selected."
      ]
    },
    {
      "cell_type": "markdown",
      "metadata": {
        "id": "1WTiym93xGlh"
      },
      "source": [
        "# Features and Target"
      ]
    },
    {
      "cell_type": "code",
      "metadata": {
        "id": "hN2OtH1A3aVz"
      },
      "source": [
        "features = [\"X1\",   \"X2\",   \"X3\",   \"X4\",   \"X5\",\n",
        "            \"X6\",   \"X7\",   \"X8\",   \"X9\",   \"X10\",\n",
        "            \"X11\",  \"X12\",  \"X13\",  \"X14\",  \"X15\",\n",
        "            \"X16\",  \"X17\",  \"X18\",  \"X19\",  \"X20\"]\n",
        "target = [\"Y\"]"
      ],
      "execution_count": null,
      "outputs": []
    },
    {
      "cell_type": "markdown",
      "metadata": {
        "id": "MREUeR6nHQJy"
      },
      "source": [
        "# Features Selection"
      ]
    },
    {
      "cell_type": "markdown",
      "metadata": {
        "id": "_sF5FfIkucqw"
      },
      "source": [
        "## Filter Method\n",
        "* Based on EDA which has been done before\n",
        "* Choosing feature with correlation value >= 0.5 to Y"
      ]
    },
    {
      "cell_type": "code",
      "metadata": {
        "id": "cPooJQM_u9bL",
        "outputId": "2d592ab1-23ce-41f3-a921-3ba42db48c81",
        "colab": {
          "base_uri": "https://localhost:8080/",
          "height": 70
        }
      },
      "source": [
        "corr = data.corr()\n",
        "target_corr = abs(corr[\"Y\"])\n",
        "\n",
        "choosen_feature = target_corr[target_corr > 0.5]\n",
        "print(choosen_feature)\n",
        "\n",
        "selected_features_filter = [\"X8\"]"
      ],
      "execution_count": null,
      "outputs": [
        {
          "output_type": "stream",
          "text": [
            "X8    0.508951\n",
            "Y     1.000000\n",
            "Name: Y, dtype: float64\n"
          ],
          "name": "stdout"
        }
      ]
    },
    {
      "cell_type": "markdown",
      "metadata": {
        "id": "JNdmRpcDeX7S"
      },
      "source": [
        "One feature choosen by this method"
      ]
    },
    {
      "cell_type": "code",
      "metadata": {
        "id": "mgvR759x2oq2",
        "outputId": "02491bb3-0053-4001-e8f2-a7ea58dcb1b7",
        "colab": {
          "base_uri": "https://localhost:8080/",
          "height": 35
        }
      },
      "source": [
        "selected_features_filter"
      ],
      "execution_count": null,
      "outputs": [
        {
          "output_type": "execute_result",
          "data": {
            "text/plain": [
              "['X8']"
            ]
          },
          "metadata": {
            "tags": []
          },
          "execution_count": 137
        }
      ]
    },
    {
      "cell_type": "markdown",
      "metadata": {
        "id": "1yjfRes3vZnx"
      },
      "source": [
        "## Recursive Feature Elimination"
      ]
    },
    {
      "cell_type": "markdown",
      "metadata": {
        "id": "iQDouA7jvvSI"
      },
      "source": [
        "* Recursively removing attributes and building a model on those attributes that remain\n",
        "* Uses accuracy metric to rank the feature according to their importance"
      ]
    },
    {
      "cell_type": "markdown",
      "metadata": {
        "id": "3bmqNjXnxwKB"
      },
      "source": [
        "Find the optimum number of features with the highest accuracy metric score (R^2) using Linear Regression model"
      ]
    },
    {
      "cell_type": "code",
      "metadata": {
        "id": "zyduYCsZwcAM",
        "outputId": "2d8216be-68c4-4354-8ae0-cc81359a3861",
        "colab": {
          "base_uri": "https://localhost:8080/",
          "height": 408
        }
      },
      "source": [
        "from sklearn.linear_model import LinearRegression\n",
        "from sklearn.feature_selection import RFE\n",
        "from sklearn.model_selection import train_test_split\n",
        "\n",
        "model = LinearRegression()\n",
        "\n",
        "maxi = 0\n",
        "n_features = 0\n",
        "\n",
        "for n in range(1,20):\n",
        "  rfe = RFE(model, n)\n",
        "  x_train, x_test, y_train, y_test = train_test_split(data[features],data[target],test_size = 0.2, random_state= 0)\n",
        "  x_train_rfe = rfe.fit_transform(x_train,np.ravel(y_train))\n",
        "  x_test_rfe = rfe.transform(x_test)\n",
        "  model.fit(x_train_rfe, y_train)\n",
        "  score = model.score(x_test_rfe, y_test)\n",
        "  if score > maxi:\n",
        "    maxi = score\n",
        "    n_features = n\n",
        "    tmp = rfe.support_\n",
        "\n",
        "print(\"Optimum number of features: \", n_features)\n",
        "print(\"with R2 score: \", maxi)\n",
        "\n",
        "selected_features_rfe = []\n",
        "\n",
        "for id,i in enumerate(tmp):\n",
        "  if i == True:\n",
        "    print(\"X%2d  : selected\" % (id+1))\n",
        "    selected_features_rfe.append(\"X\"+str(id+1))\n",
        "  else:\n",
        "    print(\"X%2d  : not selected\" % (id+1))"
      ],
      "execution_count": null,
      "outputs": [
        {
          "output_type": "stream",
          "text": [
            "Optimum number of features:  10\n",
            "with R2 score:  0.9999940737815886\n",
            "X 1  : selected\n",
            "X 2  : not selected\n",
            "X 3  : not selected\n",
            "X 4  : selected\n",
            "X 5  : not selected\n",
            "X 6  : selected\n",
            "X 7  : not selected\n",
            "X 8  : selected\n",
            "X 9  : not selected\n",
            "X10  : selected\n",
            "X11  : selected\n",
            "X12  : not selected\n",
            "X13  : selected\n",
            "X14  : selected\n",
            "X15  : selected\n",
            "X16  : not selected\n",
            "X17  : not selected\n",
            "X18  : selected\n",
            "X19  : not selected\n",
            "X20  : not selected\n"
          ],
          "name": "stdout"
        }
      ]
    },
    {
      "cell_type": "markdown",
      "metadata": {
        "id": "kyjEYSXYeJTe"
      },
      "source": [
        "10 selected features which produce the highest R^2 score"
      ]
    },
    {
      "cell_type": "code",
      "metadata": {
        "id": "gfkxfpsk2IXg",
        "outputId": "85ec5a64-cdab-4f3c-b29b-0bcd1cc62c03",
        "colab": {
          "base_uri": "https://localhost:8080/",
          "height": 35
        }
      },
      "source": [
        "selected_features_rfe"
      ],
      "execution_count": null,
      "outputs": [
        {
          "output_type": "execute_result",
          "data": {
            "text/plain": [
              "['X1', 'X4', 'X6', 'X8', 'X10', 'X11', 'X13', 'X14', 'X15', 'X18']"
            ]
          },
          "metadata": {
            "tags": []
          },
          "execution_count": 139
        }
      ]
    },
    {
      "cell_type": "markdown",
      "metadata": {
        "id": "AH-wWFimHZS5"
      },
      "source": [
        "# Learning Model"
      ]
    },
    {
      "cell_type": "markdown",
      "metadata": {
        "id": "Mv85EXJEzIiK"
      },
      "source": [
        "LinearRegression fits a linear model with coefficients $w = (w_1, ..., w_p)$ to **minimize the residual sum of squares between the observed targets in the dataset**, and the targets predicted by the linear approximation. Mathematically it solves a problem of the form: <br>\n",
        "\n",
        "\\begin{equation}\n",
        "  \\min_{w} || X w - y||_2^2\n",
        "\\end{equation}\n"
      ]
    },
    {
      "cell_type": "markdown",
      "metadata": {
        "id": "in0pDAcdE5_-"
      },
      "source": [
        "**Illustration**: minimize the size of the blue square <br>\n",
        "![OLS](https://drive.google.com/uc?id=1beCICjnwvxFukuWP9q0tq5ztBbrddYzq)"
      ]
    },
    {
      "cell_type": "markdown",
      "metadata": {
        "id": "0tUEICIcHPCv"
      },
      "source": [
        "For minimizing, linear regression can perform gradient descent algorithm, but in practically use, **LinearRegression Class use Normal Equation**.<br><br>\n",
        "\n",
        "**Normal Equation** is an analytical approach to Linear Regression with a Least Square Cost Function. We can directly find out the value of $w$ without using Gradient Descent. Following this approach is an effective and a time-saving option when are working with a dataset with small features."
      ]
    },
    {
      "cell_type": "markdown",
      "metadata": {
        "id": "o1ZeiONcNR3f"
      },
      "source": [
        "Example:<br>\n",
        "if we have cost function:<br><br>\n",
        "\\begin{equation}\n",
        "Cost(w) = (Xw - y)^T (Xw - y)\n",
        "\\end{equation}\n",
        "<br>\n",
        "getting the value of $w$ using derivative:<br><br>\n",
        "\\begin{equation}\n",
        "  \\frac{\\partial Cost(w)}{\\partial w} = 2X^TXw - 2X^Ty\n",
        "\\end{equation}\n",
        "<br>\n",
        "\\begin{equation}\n",
        "  Cost'(w) = 0\n",
        "\\end{equation}\n",
        "<br>\n",
        "\\begin{equation}\n",
        "  2X^TXw - 2X^Ty = 0\n",
        "\\end{equation}\n",
        "<br>\n",
        "\\begin{equation}\n",
        "  2X^TXw = 2X^Ty\n",
        "\\end{equation}\n",
        "<br>\n",
        "\\begin{equation}\n",
        "  (X^TX)^{-1}(X^TX)w = (X^TX)^{-1}(X^Ty)\n",
        "\\end{equation}\n",
        "<br>\n",
        "so, we have:\n",
        "\\begin{equation}\n",
        "  w = (X^TX)^{-1}(X^Ty)\n",
        "\\end{equation}\n",
        "<br>\n",
        "this is the finally derived Normal Equation with $w$ giving the minimum cost value"
      ]
    },
    {
      "cell_type": "markdown",
      "metadata": {
        "id": "OhMBLuPTTCbj"
      },
      "source": [
        "**Let's compare the manual calculation of Normal Equation and the model using LinearRegression with selected features based on RFE**"
      ]
    },
    {
      "cell_type": "code",
      "metadata": {
        "id": "gOV2tzFdTAFC"
      },
      "source": [
        "x = data[selected_features_rfe]\n",
        "y = data[target]"
      ],
      "execution_count": null,
      "outputs": []
    },
    {
      "cell_type": "markdown",
      "metadata": {
        "id": "uptYXuTVTl2h"
      },
      "source": [
        "Manual Calculation"
      ]
    },
    {
      "cell_type": "code",
      "metadata": {
        "id": "eFGGw6DdTvaL",
        "outputId": "91ab1250-360f-4f77-8beb-8817bed772d0",
        "colab": {
          "base_uri": "https://localhost:8080/",
          "height": 195
        }
      },
      "source": [
        "from numpy.linalg import inv\n",
        "w = inv(x.T.dot(x)).dot(x.T.dot(y))\n",
        "print(w)"
      ],
      "execution_count": null,
      "outputs": [
        {
          "output_type": "stream",
          "text": [
            "[[30.78380415]\n",
            " [ 3.98184824]\n",
            " [82.1648312 ]\n",
            " [97.4144157 ]\n",
            " [42.87119867]\n",
            " [16.95468322]\n",
            " [65.19211834]\n",
            " [81.00216126]\n",
            " [64.07600868]\n",
            " [73.09124495]]\n"
          ],
          "name": "stdout"
        }
      ]
    },
    {
      "cell_type": "markdown",
      "metadata": {
        "id": "FdGWv2v3T9oT"
      },
      "source": [
        "Using LinearRegression model"
      ]
    },
    {
      "cell_type": "code",
      "metadata": {
        "id": "WKmtdtj6UBoC",
        "outputId": "eff131d2-faf1-4cee-c1cf-3f7158c3ca5b",
        "colab": {
          "base_uri": "https://localhost:8080/",
          "height": 195
        }
      },
      "source": [
        "model = LinearRegression(fit_intercept=False)\n",
        "model.fit(x,y)\n",
        "print(model.coef_.T)"
      ],
      "execution_count": null,
      "outputs": [
        {
          "output_type": "stream",
          "text": [
            "[[30.78380415]\n",
            " [ 3.98184824]\n",
            " [82.1648312 ]\n",
            " [97.4144157 ]\n",
            " [42.87119867]\n",
            " [16.95468322]\n",
            " [65.19211834]\n",
            " [81.00216126]\n",
            " [64.07600868]\n",
            " [73.09124495]]\n"
          ],
          "name": "stdout"
        }
      ]
    },
    {
      "cell_type": "markdown",
      "metadata": {
        "id": "rSbl1AaxUmae"
      },
      "source": [
        "We can see that the model and the manual calculation give the same results"
      ]
    },
    {
      "cell_type": "markdown",
      "metadata": {
        "id": "bWdRCJ8PejJ-"
      },
      "source": [
        "### Model : Linear Regression"
      ]
    },
    {
      "cell_type": "code",
      "metadata": {
        "id": "ChDaXSr228LH"
      },
      "source": [
        "from sklearn.linear_model import LinearRegression\n",
        "model = LinearRegression()"
      ],
      "execution_count": null,
      "outputs": []
    },
    {
      "cell_type": "markdown",
      "metadata": {
        "id": "WrknOsO-e5OW"
      },
      "source": [
        "### Split Data (80% train dan 20% test)<br>\n",
        "*random_state=1"
      ]
    },
    {
      "cell_type": "code",
      "metadata": {
        "id": "PU3CgVjt3N0q"
      },
      "source": [
        "x_train_filter, x_test_filter, y_train_filter, y_test_filter = train_test_split(data[selected_features_filter], data[target],test_size=0.2, random_state= 1)"
      ],
      "execution_count": null,
      "outputs": []
    },
    {
      "cell_type": "code",
      "metadata": {
        "id": "9wT6UuzygByE"
      },
      "source": [
        "x_train_rfe, x_test_rfe, y_train_rfe, y_test_rfe = train_test_split(data[selected_features_rfe], data[target],test_size=0.2, random_state= 1)"
      ],
      "execution_count": null,
      "outputs": []
    },
    {
      "cell_type": "markdown",
      "metadata": {
        "id": "SiyQYj9Le-Uv"
      },
      "source": [
        "### Train and Test Model"
      ]
    },
    {
      "cell_type": "markdown",
      "metadata": {
        "id": "u12drTlHguEd"
      },
      "source": [
        "with selected features beased on correlation score > 0.5"
      ]
    },
    {
      "cell_type": "code",
      "metadata": {
        "id": "NpMiM_pqFVYO",
        "outputId": "9db90b2f-abab-48f6-d30a-593be3acd776",
        "colab": {
          "base_uri": "https://localhost:8080/",
          "height": 52
        }
      },
      "source": [
        "model.fit(x_train_filter,y_train_filter)\n",
        "y_pred_train_filter = model.predict(x_train_filter)\n",
        "y_pred_test_filter = model.predict(x_test_filter)\n",
        "print('Coefficients: ', model.coef_)\n",
        "print('Intercept: ',model.intercept_)"
      ],
      "execution_count": null,
      "outputs": [
        {
          "output_type": "stream",
          "text": [
            "Coefficients:  [[103.41891043]]\n",
            "Intercept:  [11.02665639]\n"
          ],
          "name": "stdout"
        }
      ]
    },
    {
      "cell_type": "markdown",
      "metadata": {
        "id": "sFxsvBYVg2sX"
      },
      "source": [
        "with selected features based on RFE"
      ]
    },
    {
      "cell_type": "code",
      "metadata": {
        "id": "jGMp4ZumgPYs",
        "outputId": "33062b69-8a4b-4ae7-bc38-5605857b034e",
        "colab": {
          "base_uri": "https://localhost:8080/",
          "height": 70
        }
      },
      "source": [
        "model.fit(x_train_rfe,y_train_rfe)\n",
        "y_pred_train_rfe = model.predict(x_train_rfe)\n",
        "y_pred_test_rfe = model.predict(x_test_rfe)\n",
        "print('Coefficients: ', model.coef_)\n",
        "print('Intercept: ',model.intercept_)"
      ],
      "execution_count": null,
      "outputs": [
        {
          "output_type": "stream",
          "text": [
            "Coefficients:  [[30.81156145  3.88361067 82.01592862 97.36062413 42.92377626 16.89986221\n",
            "  65.38432887 81.14596444 64.30522037 73.0146807 ]]\n",
            "Intercept:  [11.69832901]\n"
          ],
          "name": "stdout"
        }
      ]
    },
    {
      "cell_type": "markdown",
      "metadata": {
        "id": "Qzscjf5_fDfB"
      },
      "source": [
        "### Visualization of Predicted and Actual Value\n",
        "* Green : train data\n",
        "* Red : test data\n",
        "* Blue Line : actual Y = predicted Y"
      ]
    },
    {
      "cell_type": "markdown",
      "metadata": {
        "id": "PjgIsj9zhZ1p"
      },
      "source": [
        "with selected features beased on correlation score > 0.5 to Y"
      ]
    },
    {
      "cell_type": "code",
      "metadata": {
        "id": "l9m5rLTLFpI7",
        "outputId": "73f0a3cf-ecb7-402d-947d-fce2934727cf",
        "colab": {
          "base_uri": "https://localhost:8080/",
          "height": 297
        }
      },
      "source": [
        "plt.scatter(y_train_filter, y_pred_train_filter, color='green')\n",
        "plt.scatter(y_test_filter, y_pred_test_filter, color='red')\n",
        "\n",
        "plt.xlabel(\"actual Y\")\n",
        "plt.ylabel(\"predicted Y\")\n",
        "\n",
        "x = np.linspace(-600,600)\n",
        "y = x\n",
        "plt.plot(x, y, '-b')\n",
        "plt.show"
      ],
      "execution_count": null,
      "outputs": [
        {
          "output_type": "execute_result",
          "data": {
            "text/plain": [
              "<function matplotlib.pyplot.show>"
            ]
          },
          "metadata": {
            "tags": []
          },
          "execution_count": 182
        },
        {
          "output_type": "display_data",
          "data": {
            "image/png": "[encoded data removed]",
            "text/plain": [
              "<Figure size 432x288 with 1 Axes>"
            ]
          },
          "metadata": {
            "tags": [],
            "needs_background": "light"
          }
        }
      ]
    },
    {
      "cell_type": "markdown",
      "metadata": {
        "id": "QSFNIo7EhiHw"
      },
      "source": [
        "with selected features based on RFE"
      ]
    },
    {
      "cell_type": "code",
      "metadata": {
        "id": "qEbmLnqahNMW",
        "outputId": "c2a01688-abe1-429d-a293-3432c3ab28ad",
        "colab": {
          "base_uri": "https://localhost:8080/",
          "height": 298
        }
      },
      "source": [
        "plt.scatter(y_train_rfe, y_pred_train_rfe, color='green')\n",
        "plt.scatter(y_test_rfe, y_pred_test_rfe, color='red')\n",
        "\n",
        "plt.xlabel(\"actual Y\")\n",
        "plt.ylabel(\"predicted Y\")\n",
        "\n",
        "x = np.linspace(-600,600)\n",
        "y = x\n",
        "plt.plot(x, y, '-b')\n",
        "plt.show"
      ],
      "execution_count": null,
      "outputs": [
        {
          "output_type": "execute_result",
          "data": {
            "text/plain": [
              "<function matplotlib.pyplot.show>"
            ]
          },
          "metadata": {
            "tags": []
          },
          "execution_count": 183
        },
        {
          "output_type": "display_data",
          "data": {
            "image/png": "[encoded data removed]",
            "text/plain": [
              "<Figure size 432x288 with 1 Axes>"
            ]
          },
          "metadata": {
            "tags": [],
            "needs_background": "light"
          }
        }
      ]
    },
    {
      "cell_type": "markdown",
      "metadata": {
        "id": "Srtbj13EfcvB"
      },
      "source": [
        "Base on the graph above, shows that the model do not overfitted witih trainning data."
      ]
    },
    {
      "cell_type": "markdown",
      "metadata": {
        "id": "RU56_OeHHf7x"
      },
      "source": [
        "# Evaluation"
      ]
    },
    {
      "cell_type": "markdown",
      "metadata": {
        "id": "psGB1SC33Hsd"
      },
      "source": [
        "When only use the sum of absolute error, the error will increase parallel to count of sample data, which is not fair enough. The error should decrease as we increase our sample data as the distribution of our data becomes more and more narrower (referring to normal distribution). The more data we have, the less is the error. So, Mean Absolute Error, Mean Squared Error, and R-Squared are the choosen metrics."
      ]
    },
    {
      "cell_type": "markdown",
      "metadata": {
        "id": "YZI1Ynh-bRMa"
      },
      "source": [
        "**MAE (Mean Absolute Error)** <br>\n",
        "This metric show the absolute difference between the target value and the value predicted by the model. The MAE is more robust to outliers and does not penalize the errors as extremely as mse. MAE is a linear score which means all the individual differences are weighted equally.<br>\n",
        "\\begin{equation}\n",
        "\\text{MAE}(y, \\hat{y}) = \\frac{1}{n_{\\text{samples}}} \\sum_{i=0}^{n_{\\text{samples}}-1} \\left| y_i - \\hat{y}_i \\right|.\n",
        "\\end{equation}\n",
        "**MSE (Mean Squared Error)** <br>\n",
        "It is simply the average of the squared difference between the target value and the value predicted by the regression model. As it squares the differences, it penalizes even a small error which leads to over-estimation of how bad the model is. It is preferred more than other metrics because it is differentiable and hence can be optimized better.<br>\n",
        "\\begin{equation}\n",
        "\\text{MSE}(y, \\hat{y}) = \\frac{1}{n_\\text{samples}} \\sum_{i=0}^{n_\\text{samples} - 1} (y_i - \\hat{y}_i)^2.\n",
        "\\end{equation}\n",
        "**R2 (R Squared)** <br>\n",
        "This metric helps us to compare our current model with a constant baseline and tells us how much our model is better. The constant baseline is chosen by taking the mean of the data and drawing a line at the mean. R² is a scale-free score that implies it doesn't matter whether the values are too large or too small, the R² will always be less than or equal to 1.<br>\n",
        "\\begin{equation}\n",
        "R^2(y, \\hat{y}) = 1 - \\frac{\\sum_{i=1}^{n} (y_i - \\hat{y}_i)^2}{\\sum_{i=1}^{n} (y_i - \\bar{y})^2}\n",
        "\\end{equation}"
      ]
    },
    {
      "cell_type": "markdown",
      "metadata": {
        "id": "CQA7wagBxuBU"
      },
      "source": [
        "with selected features beased on correlation score > 0.5 to Y"
      ]
    },
    {
      "cell_type": "code",
      "metadata": {
        "id": "ZyhpJvrKF57E",
        "outputId": "ef34832f-18d5-4f0e-fcab-cb6cee97fe7a",
        "colab": {
          "base_uri": "https://localhost:8080/",
          "height": 70
        }
      },
      "source": [
        "from sklearn.metrics import r2_score, mean_squared_error, mean_absolute_error\n",
        "\n",
        "print(\"MAE  : \", mean_absolute_error(y_test_filter, y_pred_test_filter))\n",
        "print(\"MSE  : \", mean_squared_error(y_test_filter, y_pred_test_filter))\n",
        "print(\"R2   : \", r2_score(y_test_filter, y_pred_test_filter))"
      ],
      "execution_count": null,
      "outputs": [
        {
          "output_type": "stream",
          "text": [
            "MAE  :  143.13538027631964\n",
            "MSE  :  31526.664491889806\n",
            "R2   :  0.23168942788046631\n"
          ],
          "name": "stdout"
        }
      ]
    },
    {
      "cell_type": "markdown",
      "metadata": {
        "id": "962HNDqfxyeE"
      },
      "source": [
        "with selected features based on RFE"
      ]
    },
    {
      "cell_type": "code",
      "metadata": {
        "id": "4LkzkxN0x4fq",
        "outputId": "6a3473ba-9015-44c7-ec1d-ac49b035a880",
        "colab": {
          "base_uri": "https://localhost:8080/",
          "height": 70
        }
      },
      "source": [
        "from sklearn.metrics import r2_score, mean_squared_error, mean_absolute_error\n",
        "\n",
        "print(\"MAE  : \", mean_absolute_error(y_test_rfe, y_pred_test_rfe))\n",
        "print(\"MSE  : \", mean_squared_error(y_test_rfe, y_pred_test_rfe))\n",
        "print(\"R2   : \", r2_score(y_test_rfe, y_pred_test_rfe))"
      ],
      "execution_count": null,
      "outputs": [
        {
          "output_type": "stream",
          "text": [
            "MAE  :  0.39966451476889303\n",
            "MSE  :  0.2547693014641236\n",
            "R2   :  0.9999937912255888\n"
          ],
          "name": "stdout"
        }
      ]
    },
    {
      "cell_type": "markdown",
      "metadata": {
        "id": "agBXZIvEHnrh"
      },
      "source": [
        "# Exploring Features Selection"
      ]
    },
    {
      "cell_type": "markdown",
      "metadata": {
        "id": "BHzUKym7u_5d"
      },
      "source": [
        "## Only Use 1 Feature\n",
        "Use X8 as the feature because it has the highest correlation value to Y"
      ]
    },
    {
      "cell_type": "code",
      "metadata": {
        "id": "EdgWz44ZviFX"
      },
      "source": [
        "selected_features = [\"X8\"]"
      ],
      "execution_count": null,
      "outputs": []
    },
    {
      "cell_type": "markdown",
      "metadata": {
        "id": "mjWisR3XwK1H"
      },
      "source": [
        "Split Data"
      ]
    },
    {
      "cell_type": "code",
      "metadata": {
        "id": "5CIdtIdmvz9U"
      },
      "source": [
        "x_train, x_test, y_train, y_test = train_test_split(data[selected_features], data[target],test_size=0.2, random_state= 1)"
      ],
      "execution_count": null,
      "outputs": []
    },
    {
      "cell_type": "markdown",
      "metadata": {
        "id": "IvkhKSYswOOT"
      },
      "source": [
        "Model : Linear Regression"
      ]
    },
    {
      "cell_type": "code",
      "metadata": {
        "id": "QeNvQC40wHpb"
      },
      "source": [
        "from sklearn.linear_model import LinearRegression\n",
        "model = LinearRegression()"
      ],
      "execution_count": null,
      "outputs": []
    },
    {
      "cell_type": "markdown",
      "metadata": {
        "id": "tyHbq-RqwR9D"
      },
      "source": [
        "Train and Test Model"
      ]
    },
    {
      "cell_type": "code",
      "metadata": {
        "id": "TPI-TbzFv--5",
        "outputId": "92f8cd59-10ac-4f20-8bcf-56069742c9df",
        "colab": {
          "base_uri": "https://localhost:8080/",
          "height": 52
        }
      },
      "source": [
        "model.fit(x_train,y_train)\n",
        "y_pred_train = model.predict(x_train)\n",
        "y_pred_test = model.predict(x_test)\n",
        "print('Coefficients: ', model.coef_)\n",
        "print('Intercept: ',model.intercept_)"
      ],
      "execution_count": null,
      "outputs": [
        {
          "output_type": "stream",
          "text": [
            "Coefficients:  [[103.41891043]]\n",
            "Intercept:  [11.02665639]\n"
          ],
          "name": "stdout"
        }
      ]
    },
    {
      "cell_type": "markdown",
      "metadata": {
        "id": "rOC24q9dwUdV"
      },
      "source": [
        "Visualize Model Result"
      ]
    },
    {
      "cell_type": "code",
      "metadata": {
        "id": "wDDTWdbBwCmj",
        "outputId": "52f8679a-fb71-4d56-e191-312217980e43",
        "colab": {
          "base_uri": "https://localhost:8080/",
          "height": 297
        }
      },
      "source": [
        "plt.scatter(y_train, y_pred_train, color='green')\n",
        "plt.scatter(y_test, y_pred_test, color='red')\n",
        "\n",
        "plt.xlabel(\"actual Y\")\n",
        "plt.ylabel(\"predicted Y\")\n",
        "\n",
        "x = np.linspace(-600,600)\n",
        "y = x\n",
        "plt.plot(x, y, '-b')\n",
        "plt.show"
      ],
      "execution_count": null,
      "outputs": [
        {
          "output_type": "execute_result",
          "data": {
            "text/plain": [
              "<function matplotlib.pyplot.show>"
            ]
          },
          "metadata": {
            "tags": []
          },
          "execution_count": 156
        },
        {
          "output_type": "display_data",
          "data": {
            "image/png": "[encoded data removed]",
            "text/plain": [
              "<Figure size 432x288 with 1 Axes>"
            ]
          },
          "metadata": {
            "tags": [],
            "needs_background": "light"
          }
        }
      ]
    },
    {
      "cell_type": "markdown",
      "metadata": {
        "id": "oo5wy2mUwY4e"
      },
      "source": [
        "Evaluation Metric"
      ]
    },
    {
      "cell_type": "code",
      "metadata": {
        "id": "QidNtJv8wDaz",
        "outputId": "418fccb9-74c0-4cba-e6e5-a6db070e1ac8",
        "colab": {
          "base_uri": "https://localhost:8080/",
          "height": 70
        }
      },
      "source": [
        "from sklearn.metrics import r2_score, mean_squared_error, mean_absolute_error\n",
        "\n",
        "print(\"MAE : \", mean_absolute_error(y_test, y_pred_test))\n",
        "print(\"MSE : \", mean_squared_error(y_test, y_pred_test))\n",
        "print(\"R2 : \", r2_score(y_test, y_pred_test))"
      ],
      "execution_count": null,
      "outputs": [
        {
          "output_type": "stream",
          "text": [
            "MAE :  143.13538027631964\n",
            "MSE :  31526.664491889806\n",
            "R2 :  0.23168942788046631\n"
          ],
          "name": "stdout"
        }
      ]
    },
    {
      "cell_type": "markdown",
      "metadata": {
        "id": "wqcEYthUYFDT"
      },
      "source": [
        "Based on this experiment, we can see that the predictor are not performing well because of the lack of feature choosen. The target is affected with many factor from X1 to X20 (the target probably is a linear combination of X1 to X20). Only choose 1 feature cause the model can't consider another factor to predict, so the predictor run poorly."
      ]
    },
    {
      "cell_type": "markdown",
      "metadata": {
        "id": "hlnyfyP9vdyj"
      },
      "source": [
        "## Use All of The Features (X1 to X20)"
      ]
    },
    {
      "cell_type": "markdown",
      "metadata": {
        "id": "3f5KxtULwqkA"
      },
      "source": [
        "Choose all the features"
      ]
    },
    {
      "cell_type": "code",
      "metadata": {
        "id": "7I8kIPPewvEr"
      },
      "source": [
        "selected_features = features"
      ],
      "execution_count": null,
      "outputs": []
    },
    {
      "cell_type": "markdown",
      "metadata": {
        "id": "4Cx_-Fy_w7UP"
      },
      "source": [
        "Split Data"
      ]
    },
    {
      "cell_type": "code",
      "metadata": {
        "id": "pFwaIzL6xAuP"
      },
      "source": [
        "x_train, x_test, y_train, y_test = train_test_split(data[selected_features], data[target],test_size=0.2, random_state= 1)"
      ],
      "execution_count": null,
      "outputs": []
    },
    {
      "cell_type": "markdown",
      "metadata": {
        "id": "QOBNZDWuxAuV"
      },
      "source": [
        "Model : Linear Regression"
      ]
    },
    {
      "cell_type": "code",
      "metadata": {
        "id": "G4LfzSRJwn2G"
      },
      "source": [
        "from sklearn.linear_model import LinearRegression\n",
        "model = LinearRegression()"
      ],
      "execution_count": null,
      "outputs": []
    },
    {
      "cell_type": "markdown",
      "metadata": {
        "id": "GT2qzIfAxGKx"
      },
      "source": [
        "Train and Test Model"
      ]
    },
    {
      "cell_type": "code",
      "metadata": {
        "id": "kMxsz81qxILU",
        "outputId": "065546a4-3a0b-4754-b00c-008f7916aa01",
        "colab": {
          "base_uri": "https://localhost:8080/",
          "height": 124
        }
      },
      "source": [
        "model.fit(x_train,y_train)\n",
        "y_pred_train = model.predict(x_train)\n",
        "y_pred_test = model.predict(x_test)\n",
        "print('Coefficients: ', model.coef_)\n",
        "print('Intercept: ',model.intercept_)"
      ],
      "execution_count": null,
      "outputs": [
        {
          "output_type": "stream",
          "text": [
            "Coefficients:  [[ 3.08115933e+01  6.83775976e-03 -4.70537946e-03  3.88392262e+00\n",
            "  -3.15377300e-03  8.20159360e+01 -7.27900893e-03  9.73610689e+01\n",
            "  -1.27121130e-04  4.29239298e+01  1.69001712e+01 -1.40649904e-02\n",
            "   6.53846242e+01  8.11460075e+01  6.43050738e+01 -1.64101400e-03\n",
            "  -1.90902292e-03  7.30145685e+01  1.28506477e-02  4.86389627e-03]]\n",
            "Intercept:  [11.69903711]\n"
          ],
          "name": "stdout"
        }
      ]
    },
    {
      "cell_type": "markdown",
      "metadata": {
        "id": "Gi6A_TOUxLVC"
      },
      "source": [
        "Visualize Model Result"
      ]
    },
    {
      "cell_type": "code",
      "metadata": {
        "id": "-tmdbXfDxQRe",
        "outputId": "e9e6fc8b-9e3b-4faa-f2ba-4c8c1380032a",
        "colab": {
          "base_uri": "https://localhost:8080/",
          "height": 298
        }
      },
      "source": [
        "plt.scatter(y_train, y_pred_train, color='green')\n",
        "plt.scatter(y_test, y_pred_test, color='red')\n",
        "\n",
        "plt.xlabel(\"actual Y\")\n",
        "plt.ylabel(\"predicted Y\")\n",
        "\n",
        "x = np.linspace(-600,600)\n",
        "y = x\n",
        "plt.plot(x, y, '-b')\n",
        "plt.show"
      ],
      "execution_count": null,
      "outputs": [
        {
          "output_type": "execute_result",
          "data": {
            "text/plain": [
              "<function matplotlib.pyplot.show>"
            ]
          },
          "metadata": {
            "tags": []
          },
          "execution_count": 162
        },
        {
          "output_type": "display_data",
          "data": {
            "image/png": "[encoded data removed]",
            "text/plain": [
              "<Figure size 432x288 with 1 Axes>"
            ]
          },
          "metadata": {
            "tags": [],
            "needs_background": "light"
          }
        }
      ]
    },
    {
      "cell_type": "markdown",
      "metadata": {
        "id": "IAhxycguxa3P"
      },
      "source": [
        "Evaluation Metric"
      ]
    },
    {
      "cell_type": "code",
      "metadata": {
        "id": "m2uHGMusxT_K",
        "outputId": "39edb4e4-cbbd-4489-e7b6-99a5dd470982",
        "colab": {
          "base_uri": "https://localhost:8080/",
          "height": 70
        }
      },
      "source": [
        "from sklearn.metrics import r2_score, mean_squared_error, mean_absolute_error\n",
        "\n",
        "print(\"MAE : \", mean_absolute_error(y_test, y_pred_test))\n",
        "print(\"MSE : \", mean_squared_error(y_test, y_pred_test))\n",
        "print(\"R2 : \", r2_score(y_test, y_pred_test))"
      ],
      "execution_count": null,
      "outputs": [
        {
          "output_type": "stream",
          "text": [
            "MAE :  0.40023886138448006\n",
            "MSE :  0.2554374213499504\n",
            "R2 :  0.9999937749433851\n"
          ],
          "name": "stdout"
        }
      ]
    },
    {
      "cell_type": "markdown",
      "metadata": {
        "id": "45wReFUSZZrL"
      },
      "source": [
        "Based on this experiment, we can see that the predictor are performing well as when using the best selected features based on RFE. The target is affected with many factor from X1 to X2 (the target probably is a linear combination of X1 to X20). The problem that can be arised when use all of the features is the computation cost. In this case, included all featues doesn't significantly worsen the result, but in another case it can be happend."
      ]
    }
  ]
}