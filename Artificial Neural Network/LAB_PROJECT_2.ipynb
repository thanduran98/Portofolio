{
  "nbformat": 4,
  "nbformat_minor": 0,
  "metadata": {
    "colab": {
      "name": "ANN_PROJECT_CLASSIFICATION.ipynb",
      "provenance": [],
      "collapsed_sections": []
    },
    "kernelspec": {
      "name": "python3",
      "display_name": "Python 3"
    }
  },
  "cells": [
    {
      "cell_type": "code",
      "metadata": {
        "id": "CHFm6JO4M-sJ"
      },
      "source": [
        "%tensorflow_version 1.x"
      ],
      "execution_count": null,
      "outputs": []
    },
    {
      "cell_type": "code",
      "metadata": {
        "id": "tirYcIlfNGKH"
      },
      "source": [
        "import pandas as pd\n",
        "import tensorflow as tf\n",
        "from sklearn.preprocessing import MinMaxScaler, OneHotEncoder, OrdinalEncoder\n",
        "from sklearn.model_selection import train_test_split\n",
        "from matplotlib import pyplot as plt\n",
        "from sklearn.preprocessing import Normalizer\n",
        "from sklearn.decomposition import PCA\n",
        "from sklearn.preprocessing import StandardScaler\n",
        "from sklearn.preprocessing import MaxAbsScaler\n",
        "from sklearn.preprocessing import MinMaxScaler\n",
        "from sklearn.preprocessing import PowerTransformer\n"
      ],
      "execution_count": null,
      "outputs": []
    },
    {
      "cell_type": "code",
      "metadata": {
        "id": "78Kf0qpwNhbJ"
      },
      "source": [
        "def prepro_data():\n",
        "  ###### Load Data and Features Selection ########\n",
        "  dataset = pd.read_csv(\"E202-COMP7117-TD01-00 - classification.csv\")\n",
        "\n",
        "  features = dataset[[ \n",
        "  \"volatile acidity\",  \n",
        "  \"chlorides\", \n",
        "  \"free sulfur dioxide\", \n",
        "  \"total sulfur dioxide\", \n",
        "  \"density\",\n",
        "  \"pH\",\n",
        "  \"sulphates\",\n",
        "  \"alcohol\"]]  \n",
        "\n",
        "  target = dataset[[\"quality\"]]\n",
        "  \n",
        "  ###### Encoding ########\n",
        "  sz = len(features)\n",
        "  tmp = []\n",
        "\n",
        "  for i in range(sz):\n",
        "    if (features[\"free sulfur dioxide\"].loc[i] == 'High'):\n",
        "      tmp.append(3)\n",
        "    elif (features[\"free sulfur dioxide\"].loc[i] == 'Medium'):\n",
        "      tmp.append(2)\n",
        "    elif (features[\"free sulfur dioxide\"].loc[i] == 'Low'):\n",
        "      tmp.append(1)\n",
        "    else:\n",
        "      tmp.append(0)\n",
        "  features.drop(columns=[\"free sulfur dioxide\"])\n",
        "  features[\"free sulfur dioxide\"] = tmp\n",
        "\n",
        "  tmp = []\n",
        "\n",
        "  for i in range(sz):\n",
        "    if (features[\"density\"].loc[i] == 'High'):\n",
        "      tmp.append(3)\n",
        "    elif (features[\"density\"].loc[i] == 'Medium'):\n",
        "      tmp.append(2)\n",
        "    elif (features[\"density\"].loc[i] == 'Low'):\n",
        "      tmp.append(1)\n",
        "    elif (features[\"density\"].loc[i] == 'Very High'):\n",
        "      tmp.append(0)\n",
        "  features.drop(columns=[\"density\"])\n",
        "  features[\"density\"] = tmp\n",
        "\n",
        "  tmp = []\n",
        "\n",
        "  for i in range(sz):\n",
        "    if (features[\"pH\"].loc[i] == 'Very Basic'):\n",
        "      tmp.append(3)\n",
        "    elif (features[\"pH\"].loc[i] == 'Normal'):\n",
        "      tmp.append(2)\n",
        "    elif (features[\"pH\"].loc[i] == 'Very Acidic'):\n",
        "      tmp.append(1)\n",
        "    else:\n",
        "      tmp.append(0)\n",
        "  features.drop(columns=[\"pH\"])\n",
        "  features[\"pH\"] = tmp\n",
        "\n",
        "  ###### Normalization ########\n",
        "  normalizer = PowerTransformer(method='box-cox', standardize=False)\n",
        "  normal_data = normalizer.fit_transform(features-features.min()+1)\n",
        "\n",
        "\n",
        "  ######## PCA ########\n",
        "  pca = PCA(n_components=4)\n",
        "  pca = pca.fit(normal_data)\n",
        "\n",
        "  data = pca.transform(normal_data)\n",
        "\n",
        "  encoder = OneHotEncoder(sparse=False)\n",
        "  target = encoder.fit_transform(target)\n",
        "\n",
        "  return data, target\n"
      ],
      "execution_count": null,
      "outputs": []
    },
    {
      "cell_type": "code",
      "metadata": {
        "id": "kRM1lzvKNzUq"
      },
      "source": [
        "################# Architecture #################\n",
        "layers = {\n",
        "    \"Input\" : 4,\n",
        "    \"Hidden\" : 15,\n",
        "    \"Output\" : 5\n",
        "}\n"
      ],
      "execution_count": null,
      "outputs": []
    },
    {
      "cell_type": "code",
      "metadata": {
        "id": "PRWJcExTN2sP",
        "outputId": "58e6b5a9-a60a-45c0-ae44-a444777399d2",
        "colab": {
          "base_uri": "https://localhost:8080/",
          "height": 284
        }
      },
      "source": [
        "################# Initialization #################\n",
        "input_dataset, output_dataset = prepro_data()\n",
        "\n",
        "weight = {\n",
        "    \"input_to_hidden\" : tf.Variable(tf.random_normal([layers[\"Input\"], layers[\"Hidden\"]])),\n",
        "    \"hidden_to_output\" : tf.Variable(tf.random_normal([layers[\"Hidden\"], layers[\"Output\"]]))\n",
        "}\n",
        "\n",
        "biases = {\n",
        "    \"input_to_hidden\" : tf.Variable(tf.random_normal([layers[\"Hidden\"]])),\n",
        "    \"hidden_to_output\" : tf.Variable(tf.random_normal([layers[\"Output\"]]))\n",
        "}\n",
        "\n",
        "input_placeholder = tf.placeholder(tf.float32, [None, layers[\"Input\"]])\n",
        "target_placeholder = tf.placeholder(tf.float32, [None, layers[\"Output\"]])\n"
      ],
      "execution_count": null,
      "outputs": [
        {
          "output_type": "stream",
          "text": [
            "/usr/local/lib/python3.6/dist-packages/ipykernel_launcher.py:31: SettingWithCopyWarning: \n",
            "A value is trying to be set on a copy of a slice from a DataFrame.\n",
            "Try using .loc[row_indexer,col_indexer] = value instead\n",
            "\n",
            "See the caveats in the documentation: https://pandas.pydata.org/pandas-docs/stable/user_guide/indexing.html#returning-a-view-versus-a-copy\n",
            "/usr/local/lib/python3.6/dist-packages/ipykernel_launcher.py:45: SettingWithCopyWarning: \n",
            "A value is trying to be set on a copy of a slice from a DataFrame.\n",
            "Try using .loc[row_indexer,col_indexer] = value instead\n",
            "\n",
            "See the caveats in the documentation: https://pandas.pydata.org/pandas-docs/stable/user_guide/indexing.html#returning-a-view-versus-a-copy\n",
            "/usr/local/lib/python3.6/dist-packages/ipykernel_launcher.py:59: SettingWithCopyWarning: \n",
            "A value is trying to be set on a copy of a slice from a DataFrame.\n",
            "Try using .loc[row_indexer,col_indexer] = value instead\n",
            "\n",
            "See the caveats in the documentation: https://pandas.pydata.org/pandas-docs/stable/user_guide/indexing.html#returning-a-view-versus-a-copy\n"
          ],
          "name": "stderr"
        }
      ]
    },
    {
      "cell_type": "markdown",
      "metadata": {
        "id": "pKX1cU-6fi6T"
      },
      "source": [
        "# Trainin and Tesing"
      ]
    },
    {
      "cell_type": "code",
      "metadata": {
        "id": "CaCDl8w5W6DQ"
      },
      "source": [
        "################## Split Dataset ####################\n",
        "input_train, input_test, output_train, output_test = train_test_split(input_dataset, output_dataset, test_size=0.3, random_state=4)  # 0.7 train, 0.3 test\n",
        "input_test, input_val, output_test, output_val = train_test_split(input_test, output_test, test_size = 0.67, random_state=1)  # 1/3 test, 2/3 val\n"
      ],
      "execution_count": null,
      "outputs": []
    },
    {
      "cell_type": "code",
      "metadata": {
        "id": "zhWNfMLkP-IN",
        "outputId": "1ea92b76-1250-49ea-ec81-1a85afdc2529",
        "colab": {
          "base_uri": "https://localhost:8080/",
          "height": 1000
        }
      },
      "source": [
        "################## Training ####################\n",
        "def feed_forward(datas):\n",
        "    input_to_hidden_bias = tf.matmul(datas, weight[\"input_to_hidden\"]) + biases[\"input_to_hidden\"]\n",
        "\n",
        "    activated_input_to_hidden = tf.nn.sigmoid(input_to_hidden_bias)\n",
        "\n",
        "    hidden_to_output_bias = tf.matmul(activated_input_to_hidden, weight[\"hidden_to_output\"]) + biases[\"hidden_to_output\"]\n",
        "    activated_hidden_to_output = tf.nn.sigmoid(hidden_to_output_bias)\n",
        "\n",
        "    return activated_hidden_to_output\n",
        "\n",
        "output = feed_forward(input_placeholder)\n",
        "\n",
        "\n",
        "epoch = 5000\n",
        "alpha = 0.5\n",
        "\n",
        "errors = tf.reduce_mean( 0.5 * (target_placeholder - output) ** 2 ) # 1. MSE\n",
        "\n",
        "optimizer = tf.train.GradientDescentOptimizer(alpha) # 2. \n",
        "train = optimizer.minimize(errors)\n",
        "\n",
        "matches = tf.equal(tf.argmax(target_placeholder, axis = 1), tf.argmax(output, axis = 1))\n",
        "accuracy = tf.reduce_mean(tf.cast(matches, tf.float32))\n",
        "\n",
        "saver = tf.train.Saver()\n",
        "\n",
        "loss_history = []\n",
        "minimum_error = 1000000000\n",
        "\n",
        "with tf.Session() as sess:  \n",
        "    sess.run(tf.global_variables_initializer())\n",
        "\n",
        "    for i in range(1, epoch+1):\n",
        "        train_dict = {\n",
        "            input_placeholder : input_train,\n",
        "            target_placeholder : output_train\n",
        "        }\n",
        "\n",
        "        sess.run(train, feed_dict=train_dict)\n",
        "        loss = sess.run(errors, feed_dict=train_dict)\n",
        "\n",
        "        if(i % 100 == 0): \n",
        "            print(\"Current error: {}, Epoch number: {}\".format(loss, i))\n",
        "\n",
        "        if(i % 500 == 0):\n",
        "          val_dict = {\n",
        "              input_placeholder : input_val,\n",
        "              target_placeholder : output_val\n",
        "          }\n",
        "          # sess.run(train, feed_dict=val_dict)\n",
        "          loss = sess.run(errors, feed_dict=val_dict)\n",
        "          loss_history.append(loss)\n",
        "\n",
        "          print(\"Accuracy: {}%\".format(sess.run(accuracy, feed_dict=val_dict) * 100))\n",
        "          if(loss < minimum_error):\n",
        "            minimum_error = loss\n",
        "            loss_history.append(loss)\n",
        "            saver.save(sess, \"my-model/model.ckpt\") #save model\n",
        "          else:\n",
        "            print(\"BAD\")\n",
        "\n",
        " \n",
        "\n",
        "    test_dict = {\n",
        "        input_placeholder : input_test,\n",
        "        target_placeholder : output_test\n",
        "    }\n",
        "\n",
        "    print(\"Accuracy: {}%\".format(sess.run(accuracy, feed_dict=test_dict) * 100))\n",
        "            "
      ],
      "execution_count": null,
      "outputs": [
        {
          "output_type": "stream",
          "text": [
            "Current error: 0.1457556039094925, Epoch number: 100\n",
            "Current error: 0.09083929657936096, Epoch number: 200\n",
            "Current error: 0.083224818110466, Epoch number: 300\n",
            "Current error: 0.07657535374164581, Epoch number: 400\n",
            "Current error: 0.06999406963586807, Epoch number: 500\n",
            "Accuracy: 41.61490797996521%\n",
            "Current error: 0.0666651800274849, Epoch number: 600\n",
            "Current error: 0.065141461789608, Epoch number: 700\n",
            "Current error: 0.0642874613404274, Epoch number: 800\n",
            "Current error: 0.06377502530813217, Epoch number: 900\n",
            "Current error: 0.06343697011470795, Epoch number: 1000\n",
            "Accuracy: 50.621116161346436%\n",
            "Current error: 0.06318406015634537, Epoch number: 1100\n",
            "Current error: 0.06297054886817932, Epoch number: 1200\n",
            "Current error: 0.062773697078228, Epoch number: 1300\n",
            "Current error: 0.06258386373519897, Epoch number: 1400\n",
            "Current error: 0.06239974871277809, Epoch number: 1500\n",
            "Accuracy: 51.552796363830566%\n",
            "Current error: 0.06222585588693619, Epoch number: 1600\n",
            "Current error: 0.062068402767181396, Epoch number: 1700\n",
            "Current error: 0.061931248754262924, Epoch number: 1800\n",
            "Current error: 0.06181405112147331, Epoch number: 1900\n",
            "Current error: 0.06171378120779991, Epoch number: 2000\n",
            "Accuracy: 50.621116161346436%\n",
            "Current error: 0.06162683293223381, Epoch number: 2100\n",
            "Current error: 0.06155015155673027, Epoch number: 2200\n",
            "Current error: 0.06148149445652962, Epoch number: 2300\n",
            "Current error: 0.061419256031513214, Epoch number: 2400\n",
            "Current error: 0.06136225163936615, Epoch number: 2500\n",
            "Accuracy: 50.93167424201965%\n",
            "Current error: 0.06130961328744888, Epoch number: 2600\n",
            "Current error: 0.061260730028152466, Epoch number: 2700\n",
            "Current error: 0.06121509149670601, Epoch number: 2800\n",
            "Current error: 0.061172328889369965, Epoch number: 2900\n",
            "Current error: 0.06113205477595329, Epoch number: 3000\n",
            "Accuracy: 52.173912525177%\n",
            "Current error: 0.061094075441360474, Epoch number: 3100\n",
            "Current error: 0.06105813756585121, Epoch number: 3200\n",
            "Current error: 0.061024025082588196, Epoch number: 3300\n",
            "Current error: 0.06099160388112068, Epoch number: 3400\n",
            "Current error: 0.060960687696933746, Epoch number: 3500\n",
            "Accuracy: 50.93167424201965%\n",
            "Current error: 0.06093115732073784, Epoch number: 3600\n",
            "Current error: 0.06090287119150162, Epoch number: 3700\n",
            "Current error: 0.06087576225399971, Epoch number: 3800\n",
            "Current error: 0.06084972247481346, Epoch number: 3900\n",
            "Current error: 0.060824621468782425, Epoch number: 4000\n",
            "Accuracy: 50.31055808067322%\n",
            "Current error: 0.06080043688416481, Epoch number: 4100\n",
            "Current error: 0.06077706813812256, Epoch number: 4200\n",
            "Current error: 0.060754477977752686, Epoch number: 4300\n",
            "Current error: 0.060732580721378326, Epoch number: 4400\n",
            "Current error: 0.0607113279402256, Epoch number: 4500\n",
            "Accuracy: 50.31055808067322%\n",
            "Current error: 0.06069067493081093, Epoch number: 4600\n",
            "Current error: 0.060670625418424606, Epoch number: 4700\n",
            "Current error: 0.06065107509493828, Epoch number: 4800\n",
            "Current error: 0.06063200905919075, Epoch number: 4900\n",
            "Current error: 0.06061338633298874, Epoch number: 5000\n",
            "Accuracy: 50.31055808067322%\n",
            "Accuracy: 53.797465562820435%\n"
          ],
          "name": "stdout"
        }
      ]
    },
    {
      "cell_type": "code",
      "metadata": {
        "id": "3HByje9foW3t",
        "outputId": "e23c313f-0d28-4c4e-a65f-25505d17185b",
        "colab": {
          "base_uri": "https://localhost:8080/",
          "height": 265
        }
      },
      "source": [
        "plt.plot(loss_history)\n",
        "plt.show()\n"
      ],
      "execution_count": null,
      "outputs": [
        {
          "output_type": "display_data",
          "data": {
            "image/png": "[encoded data removed]",
            "text/plain": [
              "<Figure size 432x288 with 1 Axes>"
            ]
          },
          "metadata": {
            "tags": [],
            "needs_background": "light"
          }
        }
      ]
    },
    {
      "cell_type": "code",
      "metadata": {
        "id": "skStwXvZSBE3",
        "outputId": "3f6215f0-49e7-4544-e13f-113555286e63",
        "colab": {
          "base_uri": "https://localhost:8080/",
          "height": 52
        }
      },
      "source": [
        "# ################## Testing ####################\n",
        "with tf.Session() as sess:\n",
        "    saver.restore(sess, \"my-model/model.ckpt\")\n",
        "\n",
        "    matches = tf.equal(tf.argmax(target_placeholder, axis = 1), tf.argmax(output, axis = 1))\n",
        "\n",
        "    accuracy = tf.reduce_mean(tf.cast(matches, tf.float32))\n",
        "\n",
        "    test_dict = {\n",
        "        input_placeholder : input_test,\n",
        "        target_placeholder : output_test\n",
        "    }\n",
        "\n",
        "    print(\"Accuracy: {}%\".format(sess.run(accuracy, feed_dict=test_dict) * 100))"
      ],
      "execution_count": null,
      "outputs": [
        {
          "output_type": "stream",
          "text": [
            "INFO:tensorflow:Restoring parameters from my-model/model.ckpt\n",
            "Accuracy: 53.797465562820435%\n"
          ],
          "name": "stdout"
        }
      ]
    }
  ]
}