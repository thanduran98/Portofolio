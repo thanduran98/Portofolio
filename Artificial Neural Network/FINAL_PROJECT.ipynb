{
  "nbformat": 4,
  "nbformat_minor": 0,
  "metadata": {
    "colab": {
      "name": "FINAL::ANN.ipynb",
      "provenance": [],
      "collapsed_sections": []
    },
    "kernelspec": {
      "name": "python3",
      "display_name": "Python 3"
    }
  },
  "cells": [
    {
      "cell_type": "markdown",
      "metadata": {
        "id": "CPq9XkCbcydJ"
      },
      "source": [
        "**Gabriela Nathania Harywanto <br>\n",
        "2201797494**"
      ]
    },
    {
      "cell_type": "markdown",
      "metadata": {
        "id": "5j3WdRGz718D"
      },
      "source": [
        "# 1. SOM"
      ]
    },
    {
      "cell_type": "markdown",
      "metadata": {
        "id": "aH4gIWm3KB4I"
      },
      "source": [
        "Import library yang diperlukan"
      ]
    },
    {
      "cell_type": "code",
      "metadata": {
        "id": "JseIYNYRi-Yv"
      },
      "source": [
        "import numpy as np\n",
        "from matplotlib import pyplot as plt"
      ],
      "execution_count": null,
      "outputs": []
    },
    {
      "cell_type": "markdown",
      "metadata": {
        "id": "t0vipEzbKIYw"
      },
      "source": [
        "Inisialisasi nilai-nilai yang ditetapkan pada soal"
      ]
    },
    {
      "cell_type": "code",
      "metadata": {
        "id": "tlBS9PkCmLun"
      },
      "source": [
        "P = np.array([\n",
        "    [ 1, 2, -1],\n",
        "    [-1, 3, -2]\n",
        "]).astype(np.float32)\n",
        " \n",
        "W = np.array([\n",
        "     [ 1, 1,-1],\n",
        "     [ 2, 1, 1],\n",
        "     [-1, 2,-3],\n",
        "     [ 1, 2, 3],\n",
        "     [ 1, 1, 3]\n",
        "]).astype(np.float32)\n",
        " \n",
        "alpha = 0.5\n",
        " \n",
        "r = 1\n",
        " \n",
        "sigma_0 = 1\n",
        " \n",
        "max_iter = 1000"
      ],
      "execution_count": null,
      "outputs": []
    },
    {
      "cell_type": "markdown",
      "metadata": {
        "id": "b5J4vqWYKPZu"
      },
      "source": [
        "Fungsi menghitung $Distance$"
      ]
    },
    {
      "cell_type": "code",
      "metadata": {
        "id": "jkZQSfUpm-_K"
      },
      "source": [
        "def D(p,w):\n",
        "  d = []\n",
        "  for i in range(len(w)):\n",
        "    tmp = 0\n",
        "    for j in range(len(p)):\n",
        "      tmp += (p[j]-w[i][j])**2\n",
        "    d.append(np.sqrt(tmp))\n",
        "  return d"
      ],
      "execution_count": null,
      "outputs": []
    },
    {
      "cell_type": "markdown",
      "metadata": {
        "id": "cH5zj9XmKSwO"
      },
      "source": [
        "Fungsi menghitung $\\sigma(n)$"
      ]
    },
    {
      "cell_type": "code",
      "metadata": {
        "id": "pQg7SotqpDLh"
      },
      "source": [
        "def sigma(n):\n",
        "  return sigma_0*np.exp(-n/max_iter)"
      ],
      "execution_count": null,
      "outputs": []
    },
    {
      "cell_type": "markdown",
      "metadata": {
        "id": "JIl7Mn9ZK422"
      },
      "source": [
        "Fungsi menghitung $Neighbour Strength$"
      ]
    },
    {
      "cell_type": "code",
      "metadata": {
        "id": "j2ojrqUsqqXX"
      },
      "source": [
        "def NS(d,sigma):\n",
        "  return np.exp(-(d*d)/(2*sigma*sigma))"
      ],
      "execution_count": null,
      "outputs": []
    },
    {
      "cell_type": "markdown",
      "metadata": {
        "id": "-2xgyPzKLLbs"
      },
      "source": [
        "Fungsi menghitung $W_{new}$"
      ]
    },
    {
      "cell_type": "code",
      "metadata": {
        "id": "hpiAUmUdp2qX"
      },
      "source": [
        "def W_new(W_old,p,ns):\n",
        "  return W_old + ns*alpha*(p-W_old)"
      ],
      "execution_count": null,
      "outputs": []
    },
    {
      "cell_type": "markdown",
      "metadata": {
        "id": "kEIj6cKMW1F3"
      },
      "source": [
        "## Calculation"
      ]
    },
    {
      "cell_type": "markdown",
      "metadata": {
        "id": "ETDPT7cMLoB0"
      },
      "source": [
        "Menjalankan perhitungan sebanyak ***maximum iteration***"
      ]
    },
    {
      "cell_type": "code",
      "metadata": {
        "id": "CIuyhkVmrcMe",
        "outputId": "a2a3274c-389c-4da5-d0b3-88d875f2e198",
        "colab": {
          "base_uri": "https://localhost:8080/",
          "height": 106
        }
      },
      "source": [
        "for iter in range(max_iter):\n",
        "  # memilih pattern secara random (online learning)\n",
        "  p = P[np.random.randint(0,2)]\n",
        " \n",
        "  # menghitung distance pattern dengan setiap neuron\n",
        "  dist = D(p,W)\n",
        " \n",
        "  # mendapatkan id neuron terdekat (BMU)\n",
        "  id_winner = np.argmin(dist)\n",
        " \n",
        "  # memperbaharui W neuron tetangga\n",
        "  for id in range(len(W)):\n",
        "    d = abs(id-id_winner) # cari jarak dengan neuron lain\n",
        " \n",
        "    if d <= r: #cari neuron yang jaraknya <= radius\n",
        " \n",
        "      sigma_n = sigma(iter) # hitung sigma(n)\n",
        " \n",
        "      ns = NS(d,sigma_n) # hitung neighbour strength\n",
        " \n",
        "      W[id] = W_new(W[id],p,ns) # update W\n",
        "      \n",
        "print(W)"
      ],
      "execution_count": null,
      "outputs": [
        {
          "output_type": "stream",
          "text": [
            "[[ 1.          2.         -1.        ]\n",
            " [ 0.06902723  2.465486   -1.4654864 ]\n",
            " [-1.          3.         -2.        ]\n",
            " [-0.99999994  2.9999998  -1.9999999 ]\n",
            " [ 1.          1.          3.        ]]\n"
          ],
          "name": "stdout"
        }
      ]
    },
    {
      "cell_type": "markdown",
      "metadata": {
        "id": "Ut0PEsNZW4W3"
      },
      "source": [
        "## Visualization"
      ]
    },
    {
      "cell_type": "markdown",
      "metadata": {
        "id": "qXp2ok0mONue"
      },
      "source": [
        "Visualisasi RGB"
      ]
    },
    {
      "cell_type": "code",
      "metadata": {
        "id": "60CJenup34cD",
        "outputId": "d97a6275-938e-4aeb-d33e-6a213a96e9fb",
        "colab": {
          "base_uri": "https://localhost:8080/",
          "height": 106
        }
      },
      "source": [
        "# normalisasi W menjadi range [0..1] \n",
        "# karena RGB pada imshow hanya menerima nilai RBG\n",
        "# [0..255] untuk bilangan bulat\n",
        "# [0..1] untuk float\n",
        " \n",
        "mini = 1000\n",
        "maxi = -1000\n",
        "for i in range(len(W)):\n",
        "  for j in range(len(W[i])):\n",
        "    mini = min(mini,W[i][j])\n",
        "    maxi = max(maxi,W[i][j])\n",
        " \n",
        "mini = -mini\n",
        "maxi += mini\n",
        "W += mini\n",
        " \n",
        "for i in range(len(W)):\n",
        "  for j in range(len(W[i])):\n",
        "    W[i][j] = W[i][j]/maxi\n",
        " \n",
        "W"
      ],
      "execution_count": null,
      "outputs": [
        {
          "output_type": "execute_result",
          "data": {
            "text/plain": [
              "array([[6.0000002e-01, 8.0000001e-01, 2.0000000e-01],\n",
              "       [4.1380543e-01, 8.9309722e-01, 1.0690272e-01],\n",
              "       [2.0000000e-01, 1.0000000e+00, 0.0000000e+00],\n",
              "       [2.0000000e-01, 1.0000000e+00, 2.3841858e-08],\n",
              "       [6.0000002e-01, 6.0000002e-01, 1.0000000e+00]], dtype=float32)"
            ]
          },
          "metadata": {
            "tags": []
          },
          "execution_count": 8
        }
      ]
    },
    {
      "cell_type": "code",
      "metadata": {
        "id": "HL8dbuwRzKTt",
        "outputId": "e752b643-bbc2-4e08-9d21-0249bb347f77",
        "colab": {
          "base_uri": "https://localhost:8080/",
          "height": 269
        }
      },
      "source": [
        "#visualisasi dengan imshow\n",
        "img = np.array(W).reshape((1, len(W), 3))\n",
        "plt.imshow(img, extent=[0,5, 0, 1], aspect='auto')\n",
        "plt.show()"
      ],
      "execution_count": null,
      "outputs": [
        {
          "output_type": "display_data",
          "data": {
            "image/png": "[encoded data removed]",
            "text/plain": [
              "<Figure size 432x288 with 1 Axes>"
            ]
          },
          "metadata": {
            "tags": [],
            "needs_background": "light"
          }
        }
      ]
    },
    {
      "cell_type": "code",
      "metadata": {
        "id": "VR_9Bs-Ta6xH",
        "outputId": "e1a15212-3ca1-49c0-c60f-7a9dd626fa09",
        "colab": {
          "base_uri": "https://localhost:8080/",
          "height": 35
        }
      },
      "source": [
        "img.shape"
      ],
      "execution_count": null,
      "outputs": [
        {
          "output_type": "execute_result",
          "data": {
            "text/plain": [
              "(1, 5, 3)"
            ]
          },
          "metadata": {
            "tags": []
          },
          "execution_count": 10
        }
      ]
    },
    {
      "cell_type": "markdown",
      "metadata": {
        "id": "vKTtbEW576Zt"
      },
      "source": [
        "# 2. PCA"
      ]
    },
    {
      "cell_type": "markdown",
      "metadata": {
        "id": "wtlcprppRbLh"
      },
      "source": [
        "Import library yang diperlukan"
      ]
    },
    {
      "cell_type": "code",
      "metadata": {
        "id": "Ds4QIC3KRN0I"
      },
      "source": [
        "import pandas as pd\n",
        "from numpy import linalg as LA\n",
        "from sklearn.decomposition import PCA"
      ],
      "execution_count": null,
      "outputs": []
    },
    {
      "cell_type": "markdown",
      "metadata": {
        "id": "zDxgDwc5Rd0x"
      },
      "source": [
        "Inisialisasi data"
      ]
    },
    {
      "cell_type": "code",
      "metadata": {
        "id": "KJXuXOCePrcE"
      },
      "source": [
        "data = [\n",
        "        \n",
        "    # Data I\n",
        "    [5.1, 3.5, 1.4, 0.2, 0],\n",
        "    [4.9,   3, 1.4, 0.2, 0],\n",
        "    [4.7, 3.2, 1.3, 0.2, 0],\n",
        "    [4.6, 3.1, 1.5, 0.2, 0],\n",
        "    [  5, 3.6, 1.4, 0.2, 0],\n",
        "    [5.4, 3.9, 1.7, 0.4, 0],\n",
        "    [4.6, 3.4, 1.4, 0.3, 0],\n",
        "    [  5, 3.4, 1.5, 0.2, 0],\n",
        "    [4.4, 2.9, 1.4, 0.2, 0],\n",
        "    [4.9, 3.1, 1.5, 0.1, 0],\n",
        "\n",
        "    # Data II\n",
        "    [  7, 3.2, 4.7, 1.4, 1],\n",
        "    [6.4, 3.2, 4.5, 1.5, 1],\n",
        "    [6.9, 3.1, 4.9, 1.5, 1],\n",
        "    [5.5, 2.3,   4, 1.3, 1],\n",
        "    [6.5, 2.8, 4.6, 1.5, 1],\n",
        "    [5.7, 2.8, 4.5, 1.3, 1],\n",
        "    [6.3, 3.3, 4.7, 1.6, 1],\n",
        "    [4.9, 2.4, 3.3,   1, 1],\n",
        "    [6.6, 2.9, 4.6, 1.3, 1],\n",
        "    [5.2, 2.7, 3.9, 1.4, 1],\n",
        "\n",
        "    # Data III\n",
        "    [6.3, 3.3,   6, 2.5, 2],\n",
        "    [5.8, 2.7, 5.1, 1.9, 2],\n",
        "    [7.1,   3, 5.9, 2.1, 2],\n",
        "    [6.3, 2.9, 5.6, 1.8, 2],\n",
        "    [6.5,   3, 5.8, 2.2, 2],\n",
        "    [7.6,   3, 6.6, 2.1, 2],\n",
        "    [4.9, 2.5, 4.5, 1.7, 2],\n",
        "    [7.3, 2.9, 6.3, 1.8, 2],\n",
        "    [6.7, 2.5, 5.8, 1.8, 2],\n",
        "    [7.2, 3.6, 6.1, 2.5, 2]\n",
        "]"
      ],
      "execution_count": null,
      "outputs": []
    },
    {
      "cell_type": "markdown",
      "metadata": {
        "id": "xIiZ1-TuRg2f"
      },
      "source": [
        "Ubah data menjadi dataframe"
      ]
    },
    {
      "cell_type": "code",
      "metadata": {
        "id": "oWjeyy_D8BSO",
        "outputId": "998ef682-04ca-4e7e-e558-82ac8a9733b9",
        "colab": {
          "base_uri": "https://localhost:8080/",
          "height": 927
        }
      },
      "source": [
        "data = pd.DataFrame(data, columns=['sepal_length', 'sepal_width', 'petal_length', 'petal_width', 'cluster'])\n",
        "\n",
        "data"
      ],
      "execution_count": null,
      "outputs": [
        {
          "output_type": "execute_result",
          "data": {
            "text/html": [
              "<div>\n",
              "<style scoped>\n",
              "    .dataframe tbody tr th:only-of-type {\n",
              "        vertical-align: middle;\n",
              "    }\n",
              "\n",
              "    .dataframe tbody tr th {\n",
              "        vertical-align: top;\n",
              "    }\n",
              "\n",
              "    .dataframe thead th {\n",
              "        text-align: right;\n",
              "    }\n",
              "</style>\n",
              "<table border=\"1\" class=\"dataframe\">\n",
              "  <thead>\n",
              "    <tr style=\"text-align: right;\">\n",
              "      <th></th>\n",
              "      <th>sepal_length</th>\n",
              "      <th>sepal_width</th>\n",
              "      <th>petal_length</th>\n",
              "      <th>petal_width</th>\n",
              "      <th>cluster</th>\n",
              "    </tr>\n",
              "  </thead>\n",
              "  <tbody>\n",
              "    <tr>\n",
              "      <th>0</th>\n",
              "      <td>5.1</td>\n",
              "      <td>3.5</td>\n",
              "      <td>1.4</td>\n",
              "      <td>0.2</td>\n",
              "      <td>0</td>\n",
              "    </tr>\n",
              "    <tr>\n",
              "      <th>1</th>\n",
              "      <td>4.9</td>\n",
              "      <td>3.0</td>\n",
              "      <td>1.4</td>\n",
              "      <td>0.2</td>\n",
              "      <td>0</td>\n",
              "    </tr>\n",
              "    <tr>\n",
              "      <th>2</th>\n",
              "      <td>4.7</td>\n",
              "      <td>3.2</td>\n",
              "      <td>1.3</td>\n",
              "      <td>0.2</td>\n",
              "      <td>0</td>\n",
              "    </tr>\n",
              "    <tr>\n",
              "      <th>3</th>\n",
              "      <td>4.6</td>\n",
              "      <td>3.1</td>\n",
              "      <td>1.5</td>\n",
              "      <td>0.2</td>\n",
              "      <td>0</td>\n",
              "    </tr>\n",
              "    <tr>\n",
              "      <th>4</th>\n",
              "      <td>5.0</td>\n",
              "      <td>3.6</td>\n",
              "      <td>1.4</td>\n",
              "      <td>0.2</td>\n",
              "      <td>0</td>\n",
              "    </tr>\n",
              "    <tr>\n",
              "      <th>5</th>\n",
              "      <td>5.4</td>\n",
              "      <td>3.9</td>\n",
              "      <td>1.7</td>\n",
              "      <td>0.4</td>\n",
              "      <td>0</td>\n",
              "    </tr>\n",
              "    <tr>\n",
              "      <th>6</th>\n",
              "      <td>4.6</td>\n",
              "      <td>3.4</td>\n",
              "      <td>1.4</td>\n",
              "      <td>0.3</td>\n",
              "      <td>0</td>\n",
              "    </tr>\n",
              "    <tr>\n",
              "      <th>7</th>\n",
              "      <td>5.0</td>\n",
              "      <td>3.4</td>\n",
              "      <td>1.5</td>\n",
              "      <td>0.2</td>\n",
              "      <td>0</td>\n",
              "    </tr>\n",
              "    <tr>\n",
              "      <th>8</th>\n",
              "      <td>4.4</td>\n",
              "      <td>2.9</td>\n",
              "      <td>1.4</td>\n",
              "      <td>0.2</td>\n",
              "      <td>0</td>\n",
              "    </tr>\n",
              "    <tr>\n",
              "      <th>9</th>\n",
              "      <td>4.9</td>\n",
              "      <td>3.1</td>\n",
              "      <td>1.5</td>\n",
              "      <td>0.1</td>\n",
              "      <td>0</td>\n",
              "    </tr>\n",
              "    <tr>\n",
              "      <th>10</th>\n",
              "      <td>7.0</td>\n",
              "      <td>3.2</td>\n",
              "      <td>4.7</td>\n",
              "      <td>1.4</td>\n",
              "      <td>1</td>\n",
              "    </tr>\n",
              "    <tr>\n",
              "      <th>11</th>\n",
              "      <td>6.4</td>\n",
              "      <td>3.2</td>\n",
              "      <td>4.5</td>\n",
              "      <td>1.5</td>\n",
              "      <td>1</td>\n",
              "    </tr>\n",
              "    <tr>\n",
              "      <th>12</th>\n",
              "      <td>6.9</td>\n",
              "      <td>3.1</td>\n",
              "      <td>4.9</td>\n",
              "      <td>1.5</td>\n",
              "      <td>1</td>\n",
              "    </tr>\n",
              "    <tr>\n",
              "      <th>13</th>\n",
              "      <td>5.5</td>\n",
              "      <td>2.3</td>\n",
              "      <td>4.0</td>\n",
              "      <td>1.3</td>\n",
              "      <td>1</td>\n",
              "    </tr>\n",
              "    <tr>\n",
              "      <th>14</th>\n",
              "      <td>6.5</td>\n",
              "      <td>2.8</td>\n",
              "      <td>4.6</td>\n",
              "      <td>1.5</td>\n",
              "      <td>1</td>\n",
              "    </tr>\n",
              "    <tr>\n",
              "      <th>15</th>\n",
              "      <td>5.7</td>\n",
              "      <td>2.8</td>\n",
              "      <td>4.5</td>\n",
              "      <td>1.3</td>\n",
              "      <td>1</td>\n",
              "    </tr>\n",
              "    <tr>\n",
              "      <th>16</th>\n",
              "      <td>6.3</td>\n",
              "      <td>3.3</td>\n",
              "      <td>4.7</td>\n",
              "      <td>1.6</td>\n",
              "      <td>1</td>\n",
              "    </tr>\n",
              "    <tr>\n",
              "      <th>17</th>\n",
              "      <td>4.9</td>\n",
              "      <td>2.4</td>\n",
              "      <td>3.3</td>\n",
              "      <td>1.0</td>\n",
              "      <td>1</td>\n",
              "    </tr>\n",
              "    <tr>\n",
              "      <th>18</th>\n",
              "      <td>6.6</td>\n",
              "      <td>2.9</td>\n",
              "      <td>4.6</td>\n",
              "      <td>1.3</td>\n",
              "      <td>1</td>\n",
              "    </tr>\n",
              "    <tr>\n",
              "      <th>19</th>\n",
              "      <td>5.2</td>\n",
              "      <td>2.7</td>\n",
              "      <td>3.9</td>\n",
              "      <td>1.4</td>\n",
              "      <td>1</td>\n",
              "    </tr>\n",
              "    <tr>\n",
              "      <th>20</th>\n",
              "      <td>6.3</td>\n",
              "      <td>3.3</td>\n",
              "      <td>6.0</td>\n",
              "      <td>2.5</td>\n",
              "      <td>2</td>\n",
              "    </tr>\n",
              "    <tr>\n",
              "      <th>21</th>\n",
              "      <td>5.8</td>\n",
              "      <td>2.7</td>\n",
              "      <td>5.1</td>\n",
              "      <td>1.9</td>\n",
              "      <td>2</td>\n",
              "    </tr>\n",
              "    <tr>\n",
              "      <th>22</th>\n",
              "      <td>7.1</td>\n",
              "      <td>3.0</td>\n",
              "      <td>5.9</td>\n",
              "      <td>2.1</td>\n",
              "      <td>2</td>\n",
              "    </tr>\n",
              "    <tr>\n",
              "      <th>23</th>\n",
              "      <td>6.3</td>\n",
              "      <td>2.9</td>\n",
              "      <td>5.6</td>\n",
              "      <td>1.8</td>\n",
              "      <td>2</td>\n",
              "    </tr>\n",
              "    <tr>\n",
              "      <th>24</th>\n",
              "      <td>6.5</td>\n",
              "      <td>3.0</td>\n",
              "      <td>5.8</td>\n",
              "      <td>2.2</td>\n",
              "      <td>2</td>\n",
              "    </tr>\n",
              "    <tr>\n",
              "      <th>25</th>\n",
              "      <td>7.6</td>\n",
              "      <td>3.0</td>\n",
              "      <td>6.6</td>\n",
              "      <td>2.1</td>\n",
              "      <td>2</td>\n",
              "    </tr>\n",
              "    <tr>\n",
              "      <th>26</th>\n",
              "      <td>4.9</td>\n",
              "      <td>2.5</td>\n",
              "      <td>4.5</td>\n",
              "      <td>1.7</td>\n",
              "      <td>2</td>\n",
              "    </tr>\n",
              "    <tr>\n",
              "      <th>27</th>\n",
              "      <td>7.3</td>\n",
              "      <td>2.9</td>\n",
              "      <td>6.3</td>\n",
              "      <td>1.8</td>\n",
              "      <td>2</td>\n",
              "    </tr>\n",
              "    <tr>\n",
              "      <th>28</th>\n",
              "      <td>6.7</td>\n",
              "      <td>2.5</td>\n",
              "      <td>5.8</td>\n",
              "      <td>1.8</td>\n",
              "      <td>2</td>\n",
              "    </tr>\n",
              "    <tr>\n",
              "      <th>29</th>\n",
              "      <td>7.2</td>\n",
              "      <td>3.6</td>\n",
              "      <td>6.1</td>\n",
              "      <td>2.5</td>\n",
              "      <td>2</td>\n",
              "    </tr>\n",
              "  </tbody>\n",
              "</table>\n",
              "</div>"
            ],
            "text/plain": [
              "    sepal_length  sepal_width  petal_length  petal_width  cluster\n",
              "0            5.1          3.5           1.4          0.2        0\n",
              "1            4.9          3.0           1.4          0.2        0\n",
              "2            4.7          3.2           1.3          0.2        0\n",
              "3            4.6          3.1           1.5          0.2        0\n",
              "4            5.0          3.6           1.4          0.2        0\n",
              "5            5.4          3.9           1.7          0.4        0\n",
              "6            4.6          3.4           1.4          0.3        0\n",
              "7            5.0          3.4           1.5          0.2        0\n",
              "8            4.4          2.9           1.4          0.2        0\n",
              "9            4.9          3.1           1.5          0.1        0\n",
              "10           7.0          3.2           4.7          1.4        1\n",
              "11           6.4          3.2           4.5          1.5        1\n",
              "12           6.9          3.1           4.9          1.5        1\n",
              "13           5.5          2.3           4.0          1.3        1\n",
              "14           6.5          2.8           4.6          1.5        1\n",
              "15           5.7          2.8           4.5          1.3        1\n",
              "16           6.3          3.3           4.7          1.6        1\n",
              "17           4.9          2.4           3.3          1.0        1\n",
              "18           6.6          2.9           4.6          1.3        1\n",
              "19           5.2          2.7           3.9          1.4        1\n",
              "20           6.3          3.3           6.0          2.5        2\n",
              "21           5.8          2.7           5.1          1.9        2\n",
              "22           7.1          3.0           5.9          2.1        2\n",
              "23           6.3          2.9           5.6          1.8        2\n",
              "24           6.5          3.0           5.8          2.2        2\n",
              "25           7.6          3.0           6.6          2.1        2\n",
              "26           4.9          2.5           4.5          1.7        2\n",
              "27           7.3          2.9           6.3          1.8        2\n",
              "28           6.7          2.5           5.8          1.8        2\n",
              "29           7.2          3.6           6.1          2.5        2"
            ]
          },
          "metadata": {
            "tags": []
          },
          "execution_count": 13
        }
      ]
    },
    {
      "cell_type": "markdown",
      "metadata": {
        "id": "Hvx2d-mH_wv-"
      },
      "source": [
        "## Covariance Matrix, Eigen Value, and Eigen Vector"
      ]
    },
    {
      "cell_type": "markdown",
      "metadata": {
        "id": "Km-DhHTK_5zc"
      },
      "source": [
        "### Covariance Matrix "
      ]
    },
    {
      "cell_type": "code",
      "metadata": {
        "id": "ZRucjy0o9pE8",
        "outputId": "5f60a904-d1e6-4990-c3a9-f457c6524d70",
        "colab": {
          "base_uri": "https://localhost:8080/",
          "height": 164
        }
      },
      "source": [
        "covariance_matrix = data.drop(columns=['cluster']).cov()\n",
        "\n",
        "covariance_matrix"
      ],
      "execution_count": null,
      "outputs": [
        {
          "output_type": "execute_result",
          "data": {
            "text/html": [
              "<div>\n",
              "<style scoped>\n",
              "    .dataframe tbody tr th:only-of-type {\n",
              "        vertical-align: middle;\n",
              "    }\n",
              "\n",
              "    .dataframe tbody tr th {\n",
              "        vertical-align: top;\n",
              "    }\n",
              "\n",
              "    .dataframe thead th {\n",
              "        text-align: right;\n",
              "    }\n",
              "</style>\n",
              "<table border=\"1\" class=\"dataframe\">\n",
              "  <thead>\n",
              "    <tr style=\"text-align: right;\">\n",
              "      <th></th>\n",
              "      <th>sepal_length</th>\n",
              "      <th>sepal_width</th>\n",
              "      <th>petal_length</th>\n",
              "      <th>petal_width</th>\n",
              "    </tr>\n",
              "  </thead>\n",
              "  <tbody>\n",
              "    <tr>\n",
              "      <th>sepal_length</th>\n",
              "      <td>0.929437</td>\n",
              "      <td>-0.006621</td>\n",
              "      <td>1.589920</td>\n",
              "      <td>0.613195</td>\n",
              "    </tr>\n",
              "    <tr>\n",
              "      <th>sepal_width</th>\n",
              "      <td>-0.006621</td>\n",
              "      <td>0.139034</td>\n",
              "      <td>-0.237448</td>\n",
              "      <td>-0.085034</td>\n",
              "    </tr>\n",
              "    <tr>\n",
              "      <th>petal_length</th>\n",
              "      <td>1.589920</td>\n",
              "      <td>-0.237448</td>\n",
              "      <td>3.539644</td>\n",
              "      <td>1.446713</td>\n",
              "    </tr>\n",
              "    <tr>\n",
              "      <th>petal_width</th>\n",
              "      <td>0.613195</td>\n",
              "      <td>-0.085034</td>\n",
              "      <td>1.446713</td>\n",
              "      <td>0.622575</td>\n",
              "    </tr>\n",
              "  </tbody>\n",
              "</table>\n",
              "</div>"
            ],
            "text/plain": [
              "              sepal_length  sepal_width  petal_length  petal_width\n",
              "sepal_length      0.929437    -0.006621      1.589920     0.613195\n",
              "sepal_width      -0.006621     0.139034     -0.237448    -0.085034\n",
              "petal_length      1.589920    -0.237448      3.539644     1.446713\n",
              "petal_width       0.613195    -0.085034      1.446713     0.622575"
            ]
          },
          "metadata": {
            "tags": []
          },
          "execution_count": 14
        }
      ]
    },
    {
      "cell_type": "markdown",
      "metadata": {
        "id": "WMWPwOTE_-QT"
      },
      "source": [
        "### Eigen Vlaue"
      ]
    },
    {
      "cell_type": "code",
      "metadata": {
        "id": "Q92i8BtYACCT",
        "outputId": "70e7aff4-5481-4be1-cfb9-18feb6168e6d",
        "colab": {
          "base_uri": "https://localhost:8080/",
          "height": 35
        }
      },
      "source": [
        "eigen_value, eigen_vector = LA.eig(covariance_matrix)\n",
        "\n",
        "eigen_value"
      ],
      "execution_count": null,
      "outputs": [
        {
          "output_type": "execute_result",
          "data": {
            "text/plain": [
              "array([4.88325892, 0.26187349, 0.07725825, 0.00829899])"
            ]
          },
          "metadata": {
            "tags": []
          },
          "execution_count": 15
        }
      ]
    },
    {
      "cell_type": "markdown",
      "metadata": {
        "id": "ZnSIr_LhTRl9"
      },
      "source": [
        "### Eigen Vector"
      ]
    },
    {
      "cell_type": "code",
      "metadata": {
        "id": "4hO7DTlFTQcS",
        "outputId": "58d9ce0a-94e3-4247-f865-1724f5d98321",
        "colab": {
          "base_uri": "https://localhost:8080/",
          "height": 88
        }
      },
      "source": [
        "eigen_vector"
      ],
      "execution_count": null,
      "outputs": [
        {
          "output_type": "execute_result",
          "data": {
            "text/plain": [
              "array([[ 0.39532578, -0.76391507, -0.40461393,  0.31054608],\n",
              "       [-0.04926785, -0.56346221,  0.74617672, -0.35114573],\n",
              "       [ 0.84934414,  0.23996295,  0.01616932, -0.4698626 ],\n",
              "       [ 0.34627263,  0.20337622,  0.52843773,  0.7479886 ]])"
            ]
          },
          "metadata": {
            "tags": []
          },
          "execution_count": 16
        }
      ]
    },
    {
      "cell_type": "markdown",
      "metadata": {
        "id": "SOjFiZwNCh19"
      },
      "source": [
        "## PCA"
      ]
    },
    {
      "cell_type": "code",
      "metadata": {
        "id": "mPiJbejnC6DK",
        "outputId": "7982abb8-d34e-4ed6-a59d-3aa014948035",
        "colab": {
          "base_uri": "https://localhost:8080/",
          "height": 550
        }
      },
      "source": [
        "pca = PCA(n_components=2)\n",
        "pca = pca.fit(data.drop(columns=['cluster']))\n",
        "decomposed_data = pca.transform(data.drop(columns=['cluster']))\n",
        "\n",
        "decomposed_data"
      ],
      "execution_count": null,
      "outputs": [
        {
          "output_type": "execute_result",
          "data": {
            "text/plain": [
              "array([[-2.75962938, -0.48854573],\n",
              "       [-2.81406061, -0.05403161],\n",
              "       [-2.98791375, -0.03793733],\n",
              "       [-2.85265071,  0.14279299],\n",
              "       [-2.80408874, -0.46850044],\n",
              "       [-2.33668102, -0.830441  ],\n",
              "       [-2.91773822, -0.02990435],\n",
              "       [-2.70930076, -0.3318117 ],\n",
              "       [-3.00679671,  0.38427215],\n",
              "       [-2.76868024, -0.10671916],\n",
              "       [ 1.22463279, -0.73501648],\n",
              "       [ 0.85219575, -0.30432241],\n",
              "       [ 1.39452308, -0.53394854],\n",
              "       [ 0.04681702,  0.72966042],\n",
              "       [ 0.99636989, -0.13133274],\n",
              "       [ 0.52592032,  0.41512778],\n",
              "       [ 1.01223248, -0.21594691],\n",
              "       [-0.89372792,  0.9026763 ],\n",
              "       [ 0.96172115, -0.30474571],\n",
              "       [-0.14179501,  0.72979138],\n",
              "       [ 2.42802523,  0.27904353],\n",
              "       [ 1.28774975,  0.66108599],\n",
              "       [ 2.53562275, -0.26839665],\n",
              "       [ 1.86560388,  0.26607987],\n",
              "       [ 2.24812013,  0.18629372],\n",
              "       [ 3.32782654, -0.48238012],\n",
              "       [ 0.36294911,  1.27664898],\n",
              "       [ 2.85547056, -0.32986113],\n",
              "       [ 2.21331016,  0.23389132],\n",
              "       [ 2.85397249, -0.5535224 ]])"
            ]
          },
          "metadata": {
            "tags": []
          },
          "execution_count": 17
        }
      ]
    },
    {
      "cell_type": "markdown",
      "metadata": {
        "id": "6hbLLkIID7VS"
      },
      "source": [
        "## Visualization\n",
        "Pada visualisasi ini:\n",
        "*   Ketiga kluster di lambangkan dengan 3 warna yang berbeda yang mana:\n",
        "  *   **cluster 0** adalah Data I\n",
        "  *   **cluster 1** adalah Data II\n",
        "  *   **cluster 2** adalah Data III\n",
        "*   Data di plot pada bidang koordinat x adalah komponen 1 dan y adalah komponen 2 dari hasil PCA\n",
        "*   Terlihat ketiga kluster yang terpisah dengan baik\n"
      ]
    },
    {
      "cell_type": "code",
      "metadata": {
        "id": "wTiXqJ4FDlfq",
        "outputId": "55b5807e-24d3-4a5b-d39b-849966d60f03",
        "colab": {
          "base_uri": "https://localhost:8080/",
          "height": 265
        }
      },
      "source": [
        "X,Y = decomposed_data.T\n",
        "\n",
        "fig, ax = plt.subplots()\n",
        "\n",
        "scatter = ax.scatter(X, Y, c = data['cluster'])\n",
        "\n",
        "legend1 = ax.legend(*scatter.legend_elements(),\n",
        "                    loc=\"upper right\", title=\"Cluster\")\n",
        "ax.add_artist(legend1)\n",
        "\n",
        "plt.show()"
      ],
      "execution_count": null,
      "outputs": [
        {
          "output_type": "display_data",
          "data": {
            "image/png": "[encoded data removed]",
            "text/plain": [
              "<Figure size 432x288 with 1 Axes>"
            ]
          },
          "metadata": {
            "tags": [],
            "needs_background": "light"
          }
        }
      ]
    },
    {
      "cell_type": "markdown",
      "metadata": {
        "id": "wNegJ3imHSVL"
      },
      "source": [
        "# 3. Convolution"
      ]
    },
    {
      "cell_type": "markdown",
      "metadata": {
        "id": "1i4XFFZGTj9R"
      },
      "source": [
        "Import library yang diperlukan"
      ]
    },
    {
      "cell_type": "code",
      "metadata": {
        "id": "g8k-g1fSTfwa"
      },
      "source": [
        "from PIL import Image\n",
        "import numpy as np"
      ],
      "execution_count": null,
      "outputs": []
    },
    {
      "cell_type": "markdown",
      "metadata": {
        "id": "a1r3CwRSTm-g"
      },
      "source": [
        "Inisialisasi"
      ]
    },
    {
      "cell_type": "code",
      "metadata": {
        "id": "cwnihALFJGqT"
      },
      "source": [
        "kernels = np.array(\n",
        "    [\n",
        "     [\n",
        "      [   0, 1/4,   0],\n",
        "      [ 1/4, 1/4, 1/4],\n",
        "      [   0, 1/4,   0]\n",
        "     ],\n",
        "     [\n",
        "      [   1,   0, -1],\n",
        "      [   1,   0, -1],\n",
        "      [   1,   0, -1]\n",
        "     ]\n",
        "    ]\n",
        ").astype('float32')\n",
        " \n",
        "image = np.array(\n",
        "    [\n",
        "      [1,0,1,1,1,1,1,1,0,1],\n",
        "      [1,0,1,1,1,1,1,1,1,1],\n",
        "      [1,0,1,1,1,1,1,1,1,1],\n",
        "      [1,0,0,0,0,0,0,1,1,1],\n",
        "      [1,0,1,0,0,0,0,1,1,1],\n",
        "      [1,0,0,0,0,0,0,1,1,1],\n",
        "      [1,0,1,0,0,0,0,1,1,1],\n",
        "      [1,1,0,0,0,0,0,0,0,0],\n",
        "      [1,0,1,1,1,1,1,1,1,1],\n",
        "      [1,0,1,1,1,1,1,1,1,1]\n",
        "    ]\n",
        ").astype('float32')\n",
        " \n",
        "img_size = 10\n",
        "kernel_size = 3\n",
        "stride_kernel = 1\n",
        " \n",
        "channel = len(kernels)\n",
        " \n",
        "col_filtered = row_filtered = int((img_size-kernel_size)/stride_kernel+1)\n",
        " \n",
        "filtered = np.zeros((row_filtered,col_filtered,channel))\n",
        " \n",
        "pool_size = 2\n",
        "stride_pool = 2\n",
        " \n",
        "col_pooled = row_pooled= int((row_filtered-pool_size)/stride_pool+1)\n",
        "pooled = np.zeros((row_pooled,col_pooled,channel))"
      ],
      "execution_count": null,
      "outputs": []
    },
    {
      "cell_type": "markdown",
      "metadata": {
        "id": "o_CFdSS-Tv2v"
      },
      "source": [
        "Fungsi aktivasi **ReLU**\n",
        "\n",
        "$ReLU(x) = max(0,x)$"
      ]
    },
    {
      "cell_type": "code",
      "metadata": {
        "id": "syxSwhryOl6l"
      },
      "source": [
        "def ReLU(x):\n",
        "  x[x<0] = 0\n",
        "  return x"
      ],
      "execution_count": null,
      "outputs": []
    },
    {
      "cell_type": "markdown",
      "metadata": {
        "id": "2i6o2bvIW-zu"
      },
      "source": [
        "## Calculation"
      ]
    },
    {
      "cell_type": "markdown",
      "metadata": {
        "id": "qGfla_DXT1LP"
      },
      "source": [
        "Menghitung **Convolution operation without border padding**, karena ada 2 kernel maka hasil konvolusi memiliki bentuk **(8x8x2)**\n",
        "*   stride = 1\n",
        "*   kernel shape = 3x3\n",
        "*   number of kernel = 2\n",
        "*   input shape = 10x10\n",
        "*   output shape = 8x8x2"
      ]
    },
    {
      "cell_type": "code",
      "metadata": {
        "id": "MhNYZVFsO5wJ",
        "outputId": "0a6255ba-1c5f-41f2-bf42-39e5f4e4d2d0",
        "colab": {
          "base_uri": "https://localhost:8080/",
          "height": 301
        }
      },
      "source": [
        "for i in range(row_filtered):\n",
        "  for j in range(col_filtered):   \n",
        "    for ch in range(channel):\n",
        "     tmp = 0      \n",
        "     for ii in range(kernel_size):\n",
        "        for jj in range(kernel_size):\n",
        "          id_i = stride_kernel*i + ii\n",
        "          id_j = stride_kernel*j + jj\n",
        "          tmp += image[id_i][id_j]*kernels[ch][ii][jj]\n",
        "     filtered[i][j][ch] = tmp\n",
        "print(filtered[:,:,0])\n",
        "print(filtered[:,:,1])"
      ],
      "execution_count": null,
      "outputs": [
        {
          "output_type": "stream",
          "text": [
            "[[0.5  1.   1.25 1.25 1.25 1.25 1.25 1.  ]\n",
            " [0.5  0.75 1.   1.   1.   1.   1.25 1.25]\n",
            " [0.25 0.5  0.25 0.25 0.25 0.5  1.   1.25]\n",
            " [0.5  0.25 0.25 0.   0.   0.25 1.   1.25]\n",
            " [0.25 0.5  0.   0.   0.   0.25 1.   1.25]\n",
            " [0.75 0.25 0.25 0.   0.   0.25 0.75 1.  ]\n",
            " [0.5  0.75 0.25 0.25 0.25 0.25 0.5  0.5 ]\n",
            " [0.75 0.75 1.   1.   1.   1.   1.   1.  ]]\n",
            "[[ 0. -3.  0.  0.  0.  0.  1.  0.]\n",
            " [ 1. -2.  0.  0.  0. -1. -1.  0.]\n",
            " [ 1. -1.  1.  0.  0. -2. -2.  0.]\n",
            " [ 2.  0.  1.  0.  0. -3. -3.  0.]\n",
            " [ 1.  0.  2.  0.  0. -3. -3.  0.]\n",
            " [ 2.  1.  1.  0.  0. -2. -2.  0.]\n",
            " [ 1.  0.  1.  0.  0. -1. -1.  0.]\n",
            " [ 1. -1.  0.  0.  0.  0.  0.  0.]]\n"
          ],
          "name": "stdout"
        }
      ]
    },
    {
      "cell_type": "markdown",
      "metadata": {
        "id": "XOJ2vZhoUPui"
      },
      "source": [
        "Menerapkan fungsi aktivasi **ReLU**"
      ]
    },
    {
      "cell_type": "code",
      "metadata": {
        "id": "p4lLCHg-WwAf",
        "outputId": "934d1209-6717-4a2a-9f55-1c090ede29e0",
        "colab": {
          "base_uri": "https://localhost:8080/",
          "height": 301
        }
      },
      "source": [
        "out_Relu = ReLU(filtered.copy())\n",
        "print(out_Relu[:,:,0])\n",
        "print(out_Relu[:,:,1])"
      ],
      "execution_count": null,
      "outputs": [
        {
          "output_type": "stream",
          "text": [
            "[[0.5  1.   1.25 1.25 1.25 1.25 1.25 1.  ]\n",
            " [0.5  0.75 1.   1.   1.   1.   1.25 1.25]\n",
            " [0.25 0.5  0.25 0.25 0.25 0.5  1.   1.25]\n",
            " [0.5  0.25 0.25 0.   0.   0.25 1.   1.25]\n",
            " [0.25 0.5  0.   0.   0.   0.25 1.   1.25]\n",
            " [0.75 0.25 0.25 0.   0.   0.25 0.75 1.  ]\n",
            " [0.5  0.75 0.25 0.25 0.25 0.25 0.5  0.5 ]\n",
            " [0.75 0.75 1.   1.   1.   1.   1.   1.  ]]\n",
            "[[0. 0. 0. 0. 0. 0. 1. 0.]\n",
            " [1. 0. 0. 0. 0. 0. 0. 0.]\n",
            " [1. 0. 1. 0. 0. 0. 0. 0.]\n",
            " [2. 0. 1. 0. 0. 0. 0. 0.]\n",
            " [1. 0. 2. 0. 0. 0. 0. 0.]\n",
            " [2. 1. 1. 0. 0. 0. 0. 0.]\n",
            " [1. 0. 1. 0. 0. 0. 0. 0.]\n",
            " [1. 0. 0. 0. 0. 0. 0. 0.]]\n"
          ],
          "name": "stdout"
        }
      ]
    },
    {
      "cell_type": "markdown",
      "metadata": {
        "id": "sJ_fPGTFU4Cd"
      },
      "source": [
        "Melakukan **Max pooling for each 2x2 pixel**\n",
        "*   stride = 2\n",
        "*   pool shape = 2x2\n",
        "*   input shape = 8x8x2\n",
        "*   output shape = 4x4x2"
      ]
    },
    {
      "cell_type": "code",
      "metadata": {
        "id": "sALTSWa0XX-Z",
        "outputId": "8d8c5283-1e16-46c5-f77d-09e3ee2c2d8f",
        "colab": {
          "base_uri": "https://localhost:8080/",
          "height": 159
        }
      },
      "source": [
        "for i in range(row_pooled):\n",
        "  for j in range(col_pooled):\n",
        "    for ch in range(channel):\n",
        "      tmp = 0\n",
        "      for ii in range(pool_size):\n",
        "        for jj in range(pool_size):\n",
        "          id_i = stride_pool*i + ii\n",
        "          id_j = stride_pool*j + jj\n",
        "          tmp = max(tmp,out_Relu[id_i][id_j][ch])\n",
        "      pooled[i][j][ch] = tmp\n",
        "print(pooled[:,:,0])\n",
        "print(pooled[:,:,1])"
      ],
      "execution_count": null,
      "outputs": [
        {
          "output_type": "stream",
          "text": [
            "[[1.   1.25 1.25 1.25]\n",
            " [0.5  0.25 0.5  1.25]\n",
            " [0.75 0.25 0.25 1.25]\n",
            " [0.75 1.   1.   1.  ]]\n",
            "[[1. 0. 0. 1.]\n",
            " [2. 1. 0. 0.]\n",
            " [2. 2. 0. 0.]\n",
            " [1. 1. 0. 0.]]\n"
          ],
          "name": "stdout"
        }
      ]
    },
    {
      "cell_type": "markdown",
      "metadata": {
        "id": "t8vCGpBOXCTI"
      },
      "source": [
        "## Visualization"
      ]
    },
    {
      "cell_type": "markdown",
      "metadata": {
        "id": "rOWz0t1PV0Xy"
      },
      "source": [
        "Visualisasi input image data (sebelum dilakukan konvolusi, Relu, pooling)"
      ]
    },
    {
      "cell_type": "code",
      "metadata": {
        "id": "HCZqvjBYWGlo",
        "outputId": "84649dd6-c6ca-4973-b08b-20f3bf7d0a2d",
        "colab": {
          "base_uri": "https://localhost:8080/",
          "height": 317
        }
      },
      "source": [
        "tmp = (image * 255).astype(np.uint8)\n",
        "img = Image.fromarray(tmp)\n",
        "img = img.convert('L')\n",
        "img = img.resize((300, 300), Image.NEAREST)\n",
        "img"
      ],
      "execution_count": null,
      "outputs": [
        {
          "output_type": "execute_result",
          "data": {
            "image/png": "[encoded data removed]",
            "text/plain": [
              "<PIL.Image.Image image mode=L size=300x300 at 0x7F0484EEC668>"
            ]
          },
          "metadata": {
            "tags": []
          },
          "execution_count": 63
        }
      ]
    },
    {
      "cell_type": "markdown",
      "metadata": {
        "id": "BUozNCvJXcDg"
      },
      "source": [
        "Visualisasi setelah dilakukan konvolusi"
      ]
    },
    {
      "cell_type": "code",
      "metadata": {
        "id": "b1ah0QrE42gP",
        "outputId": "393011bd-a313-4242-c820-400841a1faa1",
        "colab": {
          "base_uri": "https://localhost:8080/",
          "height": 257
        }
      },
      "source": [
        "# channel 1\n",
        " \n",
        "filtered[:,:,0] = filtered[:,:,0] - filtered[:,:,0].min()\n",
        "filtered[:,:,0] = filtered[:,:,0] / filtered[:,:,0].max()\n",
        " \n",
        "tmp = (filtered[:,:,0] * 255).astype(np.uint8)\n",
        "img = Image.fromarray(tmp)\n",
        "img = img.convert('L')\n",
        "img = img.resize((240, 240), Image.NEAREST)\n",
        "img"
      ],
      "execution_count": null,
      "outputs": [
        {
          "output_type": "execute_result",
          "data": {
            "image/png": "[encoded data removed]",
            "text/plain": [
              "<PIL.Image.Image image mode=L size=240x240 at 0x7F0485EC57B8>"
            ]
          },
          "metadata": {
            "tags": []
          },
          "execution_count": 64
        }
      ]
    },
    {
      "cell_type": "code",
      "metadata": {
        "id": "0MH_cDpu5gii",
        "outputId": "9d74fde0-3de9-4bb7-b66c-4dd8bbad9aff",
        "colab": {
          "base_uri": "https://localhost:8080/",
          "height": 257
        }
      },
      "source": [
        "# channel 2\n",
        " \n",
        "filtered[:,:,1] = filtered[:,:,1] - filtered[:,:,1].min()\n",
        "filtered[:,:,1] = filtered[:,:,1] / filtered[:,:,1].max()\n",
        " \n",
        "tmp = (filtered[:,:,1] * 255).astype(np.uint8)\n",
        "img = Image.fromarray(tmp)\n",
        "img = img.convert('L')\n",
        "img = img.resize((240, 240), Image.NEAREST)\n",
        "img"
      ],
      "execution_count": null,
      "outputs": [
        {
          "output_type": "execute_result",
          "data": {
            "image/png": "[encoded data removed]",
            "text/plain": [
              "<PIL.Image.Image image mode=L size=240x240 at 0x7F0485EB0390>"
            ]
          },
          "metadata": {
            "tags": []
          },
          "execution_count": 65
        }
      ]
    },
    {
      "cell_type": "markdown",
      "metadata": {
        "id": "i5jcmxTzXnGW"
      },
      "source": [
        "Visualisasi setelah diterapkan fungsi aktivasi ReLU"
      ]
    },
    {
      "cell_type": "code",
      "metadata": {
        "id": "qCL5bmDUXjT2",
        "outputId": "f543cc3b-30a3-40f4-ae13-ebff54c347b7",
        "colab": {
          "base_uri": "https://localhost:8080/",
          "height": 257
        }
      },
      "source": [
        "# channel 1\n",
        " \n",
        "out_Relu[:,:,0] = out_Relu[:,:,0] - out_Relu[:,:,0].min()\n",
        "out_Relu[:,:,0] = out_Relu[:,:,0] / out_Relu[:,:,0].max()\n",
        " \n",
        "tmp = (out_Relu[:,:,0] * 255).astype(np.uint8)\n",
        "img = Image.fromarray(tmp)\n",
        "img = img.convert('L')\n",
        "img = img.resize((240, 240), Image.NEAREST)\n",
        "img"
      ],
      "execution_count": null,
      "outputs": [
        {
          "output_type": "execute_result",
          "data": {
            "image/png": "[encoded data removed]",
            "text/plain": [
              "<PIL.Image.Image image mode=L size=240x240 at 0x7F0485EA4F98>"
            ]
          },
          "metadata": {
            "tags": []
          },
          "execution_count": 66
        }
      ]
    },
    {
      "cell_type": "code",
      "metadata": {
        "id": "k556PlgT55vh",
        "outputId": "db32303c-e17a-4a66-d803-86cb4de4612f",
        "colab": {
          "base_uri": "https://localhost:8080/",
          "height": 257
        }
      },
      "source": [
        "# channel 2\n",
        " \n",
        "out_Relu[:,:,1] = out_Relu[:,:,1] - out_Relu[:,:,1].min()\n",
        "out_Relu[:,:,1] = out_Relu[:,:,1] / out_Relu[:,:,1].max()\n",
        " \n",
        "tmp = (out_Relu[:,:,1] * 255).astype(np.uint8)\n",
        "img = Image.fromarray(tmp)\n",
        "img = img.convert('L')\n",
        "img = img.resize((240, 240), Image.NEAREST)\n",
        "img"
      ],
      "execution_count": null,
      "outputs": [
        {
          "output_type": "execute_result",
          "data": {
            "image/png": "[encoded data removed]",
            "text/plain": [
              "<PIL.Image.Image image mode=L size=240x240 at 0x7F0485E6C3C8>"
            ]
          },
          "metadata": {
            "tags": []
          },
          "execution_count": 67
        }
      ]
    },
    {
      "cell_type": "markdown",
      "metadata": {
        "id": "p7WbJUA9XRDF"
      },
      "source": [
        "Visualisai setelah pooling"
      ]
    },
    {
      "cell_type": "code",
      "metadata": {
        "id": "aOYG_wxccsXo",
        "outputId": "c2be71e7-fbe9-440e-a4e5-853bac58e3c4",
        "colab": {
          "base_uri": "https://localhost:8080/",
          "height": 137
        }
      },
      "source": [
        "# channel 1\n",
        " \n",
        "pooled[:,:,0] = pooled[:,:,0] - pooled[:,:,0].min()\n",
        "pooled[:,:,0] = pooled[:,:,0] / pooled[:,:,0].max()\n",
        " \n",
        "tmp = (pooled[:,:,0] * 255).astype(np.uint8)\n",
        "img = Image.fromarray(tmp)\n",
        "img = img.convert('L')\n",
        "img = img.resize((120, 120), Image.NEAREST)\n",
        "img"
      ],
      "execution_count": null,
      "outputs": [
        {
          "output_type": "execute_result",
          "data": {
            "image/png": "[encoded data removed]",
            "text/plain": [
              "<PIL.Image.Image image mode=L size=120x120 at 0x7F0485EA4BE0>"
            ]
          },
          "metadata": {
            "tags": []
          },
          "execution_count": 68
        }
      ]
    },
    {
      "cell_type": "code",
      "metadata": {
        "id": "JW-NrnlQ5_Z4",
        "outputId": "10755630-5cf4-4e82-958f-cd71c6c52a24",
        "colab": {
          "base_uri": "https://localhost:8080/",
          "height": 137
        }
      },
      "source": [
        "# channel 2\n",
        " \n",
        "pooled[:,:,1] = pooled[:,:,1] - pooled[:,:,1].min()\n",
        "pooled[:,:,1] = pooled[:,:,1] / pooled[:,:,1].max()\n",
        " \n",
        "tmp = (pooled[:,:,1] * 255).astype(np.uint8)\n",
        "img = Image.fromarray(tmp)\n",
        "img = img.convert('L')\n",
        "img = img.resize((120, 120), Image.NEAREST)\n",
        "img"
      ],
      "execution_count": null,
      "outputs": [
        {
          "output_type": "execute_result",
          "data": {
            "image/png": "[encoded data removed]",
            "text/plain": [
              "<PIL.Image.Image image mode=L size=120x120 at 0x7F0485EA4EB8>"
            ]
          },
          "metadata": {
            "tags": []
          },
          "execution_count": 69
        }
      ]
    },
    {
      "cell_type": "markdown",
      "metadata": {
        "id": "TpyWxr7FhVqH"
      },
      "source": [
        "# 4. CNN"
      ]
    },
    {
      "cell_type": "markdown",
      "metadata": {
        "id": "JqJyZ9B9QylH"
      },
      "source": [
        "## Questions Answers"
      ]
    },
    {
      "cell_type": "markdown",
      "metadata": {
        "id": "S_6XDihTwYRL"
      },
      "source": [
        "**Why LeNet-5 is said consist of 5-layer networks? Please explain it!** <br><br>\n",
        "LeNet-5 memiliki 7 layer tidak termasuk input layer. Lima layer pertama adalah layer untuk memproses kovolusi dan layer 2 layer sisanya adalah layer fully connected seperti neural network pada umumnya."
      ]
    },
    {
      "cell_type": "markdown",
      "metadata": {
        "id": "VXczmSHwN21t"
      },
      "source": [
        "**Why in C1 there is 28x28 image pixels? Please sketch the process!** <br> <br>\n",
        "\n",
        "karena pada layer C1, input yang memiliki ukuran 32x32 di konvolusi dengan kernel 5x5, tanpa padding nol(0), dan stride 1 sehingga menghasilkan output berukuran 28x28. Berikut ilustrasinya: (gambar animasi GIF)"
      ]
    },
    {
      "cell_type": "code",
      "metadata": {
        "id": "BmDOlhGXNV2c",
        "outputId": "29e16beb-a23a-4a42-d162-d19a289a553b",
        "colab": {
          "base_uri": "https://localhost:8080/",
          "height": 380
        }
      },
      "source": [
        "from IPython.display import Image\n",
        "Image(url='https://i.ibb.co/3rnWGnF/convo.gif')"
      ],
      "execution_count": null,
      "outputs": [
        {
          "output_type": "execute_result",
          "data": {
            "text/html": [
              "<img src=\"https://i.ibb.co/3rnWGnF/convo.gif\"/>"
            ],
            "text/plain": [
              "<IPython.core.display.Image object>"
            ]
          },
          "metadata": {
            "tags": []
          },
          "execution_count": 33
        }
      ]
    },
    {
      "cell_type": "markdown",
      "metadata": {
        "id": "mMBfWYttOfHB"
      },
      "source": [
        "**Why in S2 there is 14x14 image pixels? Please draw the process!** <br> <br>\n",
        "\n",
        "karena pada layer S2, input yang memiliki ukuran 28x28 di pooling dengan ukuran pool 2x2 dan stride 2 sehingga menghasilkan output berukuran 14x14. Berikut ilustrasinya: (gambar animasi GIF)"
      ]
    },
    {
      "cell_type": "code",
      "metadata": {
        "id": "mUBOr_riOfHC",
        "outputId": "c69a01fc-2596-4857-eef6-f51e7cdb84a4",
        "colab": {
          "base_uri": "https://localhost:8080/",
          "height": 396
        }
      },
      "source": [
        "from IPython.display import Image\n",
        "Image(url='https://i.ibb.co/tYmGvwg/pooling.gif')"
      ],
      "execution_count": null,
      "outputs": [
        {
          "output_type": "execute_result",
          "data": {
            "text/html": [
              "<img src=\"https://i.ibb.co/tYmGvwg/pooling.gif\"/>"
            ],
            "text/plain": [
              "<IPython.core.display.Image object>"
            ]
          },
          "metadata": {
            "tags": []
          },
          "execution_count": 34
        }
      ]
    },
    {
      "cell_type": "markdown",
      "metadata": {
        "id": "AnN6XcYBPLHe"
      },
      "source": [
        "**How many numbers of CNN weights in C1 and C3?** <br> <br>\n",
        "*   C1 -> 150 (5x5x1x6)\n",
        "*   C3 -> 2400 (5x5x6x16)\n",
        "\n"
      ]
    },
    {
      "cell_type": "markdown",
      "metadata": {
        "id": "HOiaafVgQuZa"
      },
      "source": [
        "## Implementataion"
      ]
    },
    {
      "cell_type": "markdown",
      "metadata": {
        "id": "jdfZ9cFtS8Xc"
      },
      "source": [
        "### LeNet-5"
      ]
    },
    {
      "cell_type": "markdown",
      "metadata": {
        "id": "03mH8yG4Q7Go"
      },
      "source": [
        "Import library yang diperlukan"
      ]
    },
    {
      "cell_type": "code",
      "metadata": {
        "id": "MeD0W-e8hag0",
        "outputId": "369f14ab-ac65-41a0-851d-4039547819f2",
        "colab": {
          "base_uri": "https://localhost:8080/",
          "height": 35
        }
      },
      "source": [
        "import os\n",
        "os.environ['KERAS_BACKEND'] = 'tensorflow'\n",
        "from keras.utils import np_utils\n",
        "import gzip\n",
        "from requests import get\n",
        "from keras.models import Sequential\n",
        "from keras import models, layers\n",
        "import keras\n",
        "from sklearn.model_selection import train_test_split\n",
        "import matplotlib.pyplot as plt"
      ],
      "execution_count": null,
      "outputs": [
        {
          "output_type": "stream",
          "text": [
            "Using TensorFlow backend.\n"
          ],
          "name": "stderr"
        }
      ]
    },
    {
      "cell_type": "markdown",
      "metadata": {
        "id": "e9h30wkFQ9pN"
      },
      "source": [
        "Download dataset"
      ]
    },
    {
      "cell_type": "code",
      "metadata": {
        "id": "-1pY6ZqJmKJS"
      },
      "source": [
        "def download_file(url, file_name):\n",
        "    with open(file_name, \"wb\") as file:\n",
        "        response = get(url)\n",
        "        file.write(response.content)"
      ],
      "execution_count": null,
      "outputs": []
    },
    {
      "cell_type": "code",
      "metadata": {
        "id": "4Z8873a3oprU"
      },
      "source": [
        "download_file('http://yann.lecun.com/exdb/mnist/train-images-idx3-ubyte.gz', 'train-images-idx3-ubyte.gz')\n",
        "download_file('http://yann.lecun.com/exdb/mnist/train-labels-idx1-ubyte.gz', 'train-labels-idx1-ubyte.gz')\n",
        "download_file('http://yann.lecun.com/exdb/mnist/t10k-images-idx3-ubyte.gz', 't10k-images-idx3-ubyte.gz')\n",
        "download_file('http://yann.lecun.com/exdb/mnist/t10k-labels-idx1-ubyte.gz', 't10k-labels-idx1-ubyte.gz')"
      ],
      "execution_count": null,
      "outputs": []
    },
    {
      "cell_type": "code",
      "metadata": {
        "id": "cyRo7QLBlPz6"
      },
      "source": [
        "def read_mnist(images_path: str, labels_path: str):\n",
        "    with gzip.open(labels_path, 'rb') as labelsFile:\n",
        "        labels = np.frombuffer(labelsFile.read(), dtype=np.uint8, offset=8)\n",
        "\n",
        "    with gzip.open(images_path,'rb') as imagesFile:\n",
        "        length = len(labels)\n",
        "        # Load flat 28x28 px images (784 px), and convert them to 28x28 px\n",
        "        features = np.frombuffer(imagesFile.read(), dtype=np.uint8, offset=16) \\\n",
        "                        .reshape(length, 784) \\\n",
        "                        .reshape(length, 28, 28, 1)\n",
        "        \n",
        "    return features, labels"
      ],
      "execution_count": null,
      "outputs": []
    },
    {
      "cell_type": "markdown",
      "metadata": {
        "id": "bDxhP9K3RCnZ"
      },
      "source": [
        "Prepare Train and Test set"
      ]
    },
    {
      "cell_type": "code",
      "metadata": {
        "id": "GrFPdvPslPz9"
      },
      "source": [
        "x_train, y_train = read_mnist('train-images-idx3-ubyte.gz', 'train-labels-idx1-ubyte.gz')\n",
        "x_test, y_test = read_mnist('t10k-images-idx3-ubyte.gz', 't10k-labels-idx1-ubyte.gz')"
      ],
      "execution_count": null,
      "outputs": []
    },
    {
      "cell_type": "markdown",
      "metadata": {
        "id": "zETkUwUaVf7a"
      },
      "source": [
        "One-Hot encoding target (Y)"
      ]
    },
    {
      "cell_type": "code",
      "metadata": {
        "id": "gwwYwbH79qOp"
      },
      "source": [
        "y_train = np_utils.to_categorical(y_train, 10)\n",
        "y_test = np_utils.to_categorical(y_test, 10)"
      ],
      "execution_count": null,
      "outputs": []
    },
    {
      "cell_type": "code",
      "metadata": {
        "id": "Q1m6q5tN9d0q",
        "outputId": "ae759887-c4bc-412b-884c-a772c3cc3029",
        "colab": {
          "base_uri": "https://localhost:8080/",
          "height": 88
        }
      },
      "source": [
        "print(x_train.shape)\n",
        "print(y_train.shape)\n",
        "print(x_test.shape)\n",
        "print(y_test.shape)"
      ],
      "execution_count": null,
      "outputs": [
        {
          "output_type": "stream",
          "text": [
            "(60000, 28, 28, 1)\n",
            "(60000, 10)\n",
            "(10000, 28, 28, 1)\n",
            "(10000, 10)\n"
          ],
          "name": "stdout"
        }
      ]
    },
    {
      "cell_type": "markdown",
      "metadata": {
        "id": "FZCrZJkCRJeO"
      },
      "source": [
        "Split Train set into train and validation"
      ]
    },
    {
      "cell_type": "code",
      "metadata": {
        "id": "n0QTE02f_9Ob"
      },
      "source": [
        "x_train, x_val, y_train, y_val = train_test_split(x_train, y_train, test_size=0.2)"
      ],
      "execution_count": null,
      "outputs": []
    },
    {
      "cell_type": "markdown",
      "metadata": {
        "id": "Uo2cJ8LtRRC1"
      },
      "source": [
        "Arsitektur Model LeNet-5, dengan rincian sebagai berikut:"
      ]
    },
    {
      "cell_type": "markdown",
      "metadata": {
        "id": "OnoYi2iNpSCB"
      },
      "source": [
        "<table>\n",
        "<thead>\n",
        "<tr>\n",
        "<th>Layer Type</th>\n",
        "<th>Feature Map</th>\n",
        "<th>Size</th>\n",
        "<th>Kernel Size</th>\n",
        "<th>Stride</th>\n",
        "<th>Activation</th>\n",
        "</tr>\n",
        "</thead>\n",
        "<tbody>\n",
        "\n",
        "<tr align=\"center\">\n",
        "<td>Image</td>\n",
        "<td>1</td>\n",
        "<td>28x28</td>\n",
        "<td>-</td>\n",
        "<td>-</td>\n",
        "<td>-</td>\n",
        "</tr>\n",
        "\n",
        "<tr align=\"center\">\n",
        "<td>Convolution</td>\n",
        "<td>6</td>\n",
        "<td>28x28</td>\n",
        "<td>5×5</td>\n",
        "<td>1</td>\n",
        "<td>tanh</td>\n",
        "</tr>\n",
        "\n",
        "<tr align=\"center\">\n",
        "<td>Average Pooling</td>\n",
        "<td>6</td>\n",
        "<td>14x14</td>\n",
        "<td>2×2</td>\n",
        "<td>2</td>\n",
        "<td>-</td>\n",
        "</tr>\n",
        "\n",
        "<tr align=\"center\">\n",
        "<td>Convolution</td>\n",
        "<td>16</td>\n",
        "<td>10x10</td>\n",
        "<td>5×5</td>\n",
        "<td>1</td>\n",
        "<td>tanh</td>\n",
        "</tr>\n",
        "\n",
        "<tr align=\"center\">\n",
        "<td>Average Pooling</td>\n",
        "<td>16</td>\n",
        "<td>5x5</td>\n",
        "<td>2×2</td>\n",
        "<td>2</td>\n",
        "<td>-</td>\n",
        "</tr>\n",
        "\n",
        "<tr align=\"center\">\n",
        "<td>Convolution</td>\n",
        "<td>120</td>\n",
        "<td>1x1</td>\n",
        "<td>5×5</td>\n",
        "<td>1</td>\n",
        "<td>tanh</td>\n",
        "</tr>\n",
        "\n",
        "<tr align=\"center\">\n",
        "<td>Fully Connected</td>\n",
        "<td>-</td>\n",
        "<td>84</td>\n",
        "<td>-</td>\n",
        "<td>-</td>\n",
        "<td>tanh</td>\n",
        "</tr>\n",
        "\n",
        "<tr align=\"center\">\n",
        "<td>Fully Connected</td>\n",
        "<td>-</td>\n",
        "<td>10</td>\n",
        "<td>-</td>\n",
        "<td>-</td>\n",
        "<td>softmax</td>\n",
        "</tr>\n",
        "\n",
        "\n",
        "</tbody>\n",
        "</table>"
      ]
    },
    {
      "cell_type": "markdown",
      "metadata": {
        "id": "UYTqMsFJRf-R"
      },
      "source": [
        "Membangun model sesuai arsitektur"
      ]
    },
    {
      "cell_type": "code",
      "metadata": {
        "id": "cSXa0wMj2eid",
        "outputId": "5412fdd4-e667-4370-b40a-02833e03b7e4",
        "colab": {
          "base_uri": "https://localhost:8080/",
          "height": 444
        }
      },
      "source": [
        "model = Sequential()\n",
        "\n",
        "# C1 Convolutional Layer\n",
        "model.add(layers.Conv2D(6, kernel_size=(5, 5), strides=(1, 1), activation=\"tanh\", input_shape=(28,28,1), padding=\"same\"))\n",
        "\n",
        "# S2 Pooling Layer\n",
        "model.add(layers.AveragePooling2D(pool_size=(2, 2), strides=(2, 2)))\n",
        "\n",
        "# C3 Convolutional Layer\n",
        "model.add(layers.Conv2D(16, kernel_size=(5, 5), strides=(1, 1), activation=\"tanh\"))\n",
        "\n",
        "# S4 Pooling Layer\n",
        "model.add(layers.AveragePooling2D(pool_size=(2, 2), strides=(2, 2)))\n",
        "\n",
        "# C5 Fully Connected Convolutional Layer\n",
        "model.add(layers.Conv2D(120, kernel_size=(5, 5), strides=(1, 1), activation=\"tanh\"))\n",
        "\n",
        "#Flatten the CNN output so that we can connect it with fully connected layers\n",
        "model.add(layers.Flatten())\n",
        "\n",
        "# FC6 Fully Connected Layer\n",
        "model.add(layers.Dense(84, activation=\"tanh\"))\n",
        "\n",
        "#Output Layer with softmax activation\n",
        "model.add(layers.Dense(10, activation=\"softmax\"))\n",
        "\n",
        "# Compile the model\n",
        "model.compile(loss=keras.losses.categorical_crossentropy, optimizer=\"SGD\", metrics=[\"accuracy\"])\n",
        "\n",
        "model.summary()"
      ],
      "execution_count": null,
      "outputs": [
        {
          "output_type": "stream",
          "text": [
            "Model: \"sequential_1\"\n",
            "_________________________________________________________________\n",
            "Layer (type)                 Output Shape              Param #   \n",
            "=================================================================\n",
            "conv2d_1 (Conv2D)            (None, 28, 28, 6)         156       \n",
            "_________________________________________________________________\n",
            "average_pooling2d_1 (Average (None, 14, 14, 6)         0         \n",
            "_________________________________________________________________\n",
            "conv2d_2 (Conv2D)            (None, 10, 10, 16)        2416      \n",
            "_________________________________________________________________\n",
            "average_pooling2d_2 (Average (None, 5, 5, 16)          0         \n",
            "_________________________________________________________________\n",
            "conv2d_3 (Conv2D)            (None, 1, 1, 120)         48120     \n",
            "_________________________________________________________________\n",
            "flatten_1 (Flatten)          (None, 120)               0         \n",
            "_________________________________________________________________\n",
            "dense_1 (Dense)              (None, 84)                10164     \n",
            "_________________________________________________________________\n",
            "dense_2 (Dense)              (None, 10)                850       \n",
            "=================================================================\n",
            "Total params: 61,706\n",
            "Trainable params: 61,706\n",
            "Non-trainable params: 0\n",
            "_________________________________________________________________\n"
          ],
          "name": "stdout"
        }
      ]
    },
    {
      "cell_type": "markdown",
      "metadata": {
        "id": "vnPLaAoERjzH"
      },
      "source": [
        "Training process"
      ]
    },
    {
      "cell_type": "code",
      "metadata": {
        "id": "yJUM7w3f7DYP",
        "outputId": "a3f547a3-84c7-4ad8-9a6c-9482f66b0608",
        "colab": {
          "base_uri": "https://localhost:8080/",
          "height": 390
        }
      },
      "source": [
        "hist = model.fit(x=x_train,y=y_train, epochs=10, batch_size=128, validation_data=(x_val, y_val), verbose=1)"
      ],
      "execution_count": null,
      "outputs": [
        {
          "output_type": "stream",
          "text": [
            "Train on 48000 samples, validate on 12000 samples\n",
            "Epoch 1/10\n",
            "48000/48000 [==============================] - 28s 573us/step - loss: 0.9850 - accuracy: 0.7929 - val_loss: 0.4195 - val_accuracy: 0.9133\n",
            "Epoch 2/10\n",
            "48000/48000 [==============================] - 27s 567us/step - loss: 0.3273 - accuracy: 0.9253 - val_loss: 0.2639 - val_accuracy: 0.9350\n",
            "Epoch 3/10\n",
            "48000/48000 [==============================] - 27s 567us/step - loss: 0.2342 - accuracy: 0.9420 - val_loss: 0.2063 - val_accuracy: 0.9485\n",
            "Epoch 4/10\n",
            "48000/48000 [==============================] - 27s 567us/step - loss: 0.1912 - accuracy: 0.9501 - val_loss: 0.1734 - val_accuracy: 0.9541\n",
            "Epoch 5/10\n",
            "48000/48000 [==============================] - 27s 569us/step - loss: 0.1650 - accuracy: 0.9560 - val_loss: 0.1548 - val_accuracy: 0.9585\n",
            "Epoch 6/10\n",
            "48000/48000 [==============================] - 27s 566us/step - loss: 0.1470 - accuracy: 0.9598 - val_loss: 0.1367 - val_accuracy: 0.9631\n",
            "Epoch 7/10\n",
            "48000/48000 [==============================] - 27s 568us/step - loss: 0.1335 - accuracy: 0.9633 - val_loss: 0.1277 - val_accuracy: 0.9644\n",
            "Epoch 8/10\n",
            "48000/48000 [==============================] - 27s 568us/step - loss: 0.1228 - accuracy: 0.9663 - val_loss: 0.1245 - val_accuracy: 0.9660\n",
            "Epoch 9/10\n",
            "48000/48000 [==============================] - 27s 568us/step - loss: 0.1139 - accuracy: 0.9688 - val_loss: 0.1129 - val_accuracy: 0.9684\n",
            "Epoch 10/10\n",
            "48000/48000 [==============================] - 27s 568us/step - loss: 0.1077 - accuracy: 0.9701 - val_loss: 0.1060 - val_accuracy: 0.9701\n"
          ],
          "name": "stdout"
        }
      ]
    },
    {
      "cell_type": "markdown",
      "metadata": {
        "id": "qn73cNkQRmaH"
      },
      "source": [
        "Testing process"
      ]
    },
    {
      "cell_type": "code",
      "metadata": {
        "id": "Awfj5MSZ9O-P",
        "outputId": "14d66fab-377c-4326-c00e-97d18e8ae075",
        "colab": {
          "base_uri": "https://localhost:8080/",
          "height": 70
        }
      },
      "source": [
        "test_score = model.evaluate(x_test, y_test)\n",
        "print(\"Loss {:.3f}\".format(test_score[0]))\n",
        "print(\"Accuracy {:.2f}%\".format(test_score[1] * 100))"
      ],
      "execution_count": null,
      "outputs": [
        {
          "output_type": "stream",
          "text": [
            "10000/10000 [==============================] - 3s 345us/step\n",
            "Loss 0.094\n",
            "Accuracy 97.30%\n"
          ],
          "name": "stdout"
        }
      ]
    },
    {
      "cell_type": "markdown",
      "metadata": {
        "id": "bVlKzI-bSsNT"
      },
      "source": [
        "Visualisasi"
      ]
    },
    {
      "cell_type": "code",
      "metadata": {
        "id": "7NFd8P4HStqI",
        "outputId": "286186ad-f255-409d-ae68-91df30e76790",
        "colab": {
          "base_uri": "https://localhost:8080/",
          "height": 313
        }
      },
      "source": [
        "f, ax = plt.subplots()\n",
        "ax.plot([None] + hist.history[\"accuracy\"], \"o-\")\n",
        "ax.plot([None] + hist.history[\"val_accuracy\"], \"x-\")\n",
        "ax.legend([\"Train acc\", \"Validation acc\"], loc = 0)\n",
        "ax.set_title(\"Training/Validation acc per Epoch\")\n",
        "ax.set_xlabel(\"Epoch\")\n",
        "ax.set_ylabel(\"acc\")"
      ],
      "execution_count": null,
      "outputs": [
        {
          "output_type": "execute_result",
          "data": {
            "text/plain": [
              "Text(0, 0.5, 'acc')"
            ]
          },
          "metadata": {
            "tags": []
          },
          "execution_count": 47
        },
        {
          "output_type": "display_data",
          "data": {
            "image/png": "[encoded data removed]",
            "text/plain": [
              "<Figure size 432x288 with 1 Axes>"
            ]
          },
          "metadata": {
            "tags": [],
            "needs_background": "light"
          }
        }
      ]
    },
    {
      "cell_type": "code",
      "metadata": {
        "id": "Nw2f_PVHSvdx",
        "outputId": "34f42733-1b45-4937-f8ee-9f72fed093fd",
        "colab": {
          "base_uri": "https://localhost:8080/",
          "height": 313
        }
      },
      "source": [
        "f, ax = plt.subplots()\n",
        "ax.plot([None] + hist.history[\"loss\"], \"o-\")\n",
        "ax.plot([None] + hist.history[\"val_loss\"], \"x-\")\n",
        "ax.legend([\"Train Loss\", \"Validation Loss\"], loc = 0)\n",
        "ax.set_title(\"Training/Validation Loss per Epoch\")\n",
        "ax.set_xlabel(\"Epoch\")\n",
        "ax.set_ylabel(\"Loss\")"
      ],
      "execution_count": null,
      "outputs": [
        {
          "output_type": "execute_result",
          "data": {
            "text/plain": [
              "Text(0, 0.5, 'Loss')"
            ]
          },
          "metadata": {
            "tags": []
          },
          "execution_count": 48
        },
        {
          "output_type": "display_data",
          "data": {
            "image/png": "[encoded data removed]",
            "text/plain": [
              "<Figure size 432x288 with 1 Axes>"
            ]
          },
          "metadata": {
            "tags": [],
            "needs_background": "light"
          }
        }
      ]
    },
    {
      "cell_type": "markdown",
      "metadata": {
        "id": "FH7OLkh7RpoQ"
      },
      "source": [
        "### Modifikasi LeNet-5 \n",
        "(menghilangkan 1 Fully Connected layer)"
      ]
    },
    {
      "cell_type": "markdown",
      "metadata": {
        "id": "ftdZKDdER7ED"
      },
      "source": [
        "Arsitektur Model LeNet-5 yang termodifikasi, dengan rincian sebagai berikut:"
      ]
    },
    {
      "cell_type": "markdown",
      "metadata": {
        "id": "enF0Xl11R7EE"
      },
      "source": [
        "<table>\n",
        "<thead>\n",
        "<tr>\n",
        "<th>Layer Type</th>\n",
        "<th>Feature Map</th>\n",
        "<th>Size</th>\n",
        "<th>Kernel Size</th>\n",
        "<th>Stride</th>\n",
        "<th>Activation</th>\n",
        "</tr>\n",
        "</thead>\n",
        "<tbody>\n",
        "\n",
        "<tr align=\"center\">\n",
        "<td>Image</td>\n",
        "<td>1</td>\n",
        "<td>28x28</td>\n",
        "<td>-</td>\n",
        "<td>-</td>\n",
        "<td>-</td>\n",
        "</tr>\n",
        "\n",
        "<tr align=\"center\">\n",
        "<td>Convolution</td>\n",
        "<td>6</td>\n",
        "<td>28x28</td>\n",
        "<td>5×5</td>\n",
        "<td>1</td>\n",
        "<td>tanh</td>\n",
        "</tr>\n",
        "\n",
        "<tr align=\"center\">\n",
        "<td>Average Pooling</td>\n",
        "<td>6</td>\n",
        "<td>14x14</td>\n",
        "<td>2×2</td>\n",
        "<td>2</td>\n",
        "<td>-</td>\n",
        "</tr>\n",
        "\n",
        "<tr align=\"center\">\n",
        "<td>Convolution</td>\n",
        "<td>16</td>\n",
        "<td>10x10</td>\n",
        "<td>5×5</td>\n",
        "<td>1</td>\n",
        "<td>tanh</td>\n",
        "</tr>\n",
        "\n",
        "<tr align=\"center\">\n",
        "<td>Average Pooling</td>\n",
        "<td>16</td>\n",
        "<td>5x5</td>\n",
        "<td>2×2</td>\n",
        "<td>2</td>\n",
        "<td>-</td>\n",
        "</tr>\n",
        "\n",
        "<tr align=\"center\">\n",
        "<td>Convolution</td>\n",
        "<td>120</td>\n",
        "<td>1x1</td>\n",
        "<td>5×5</td>\n",
        "<td>1</td>\n",
        "<td>tanh</td>\n",
        "</tr>\n",
        "\n",
        "\n",
        "<tr align=\"center\">\n",
        "<td>Fully Connected</td>\n",
        "<td>-</td>\n",
        "<td>10</td>\n",
        "<td>-</td>\n",
        "<td>-</td>\n",
        "<td>softmax</td>\n",
        "</tr>\n",
        "\n",
        "\n",
        "</tbody>\n",
        "</table>"
      ]
    },
    {
      "cell_type": "markdown",
      "metadata": {
        "id": "NuqBnEjfR7EF"
      },
      "source": [
        "Membangun model sesuai arsitektur"
      ]
    },
    {
      "cell_type": "code",
      "metadata": {
        "id": "2e_jJr2QBNdi",
        "outputId": "258bb960-5c67-46f2-8321-5807da7db8de",
        "colab": {
          "base_uri": "https://localhost:8080/",
          "height": 408
        }
      },
      "source": [
        "model = Sequential()\n",
        "\n",
        "# C1 Convolutional Layer\n",
        "model.add(layers.Conv2D(6, kernel_size=(5, 5), strides=(1, 1), activation=\"tanh\", input_shape=(28,28,1), padding=\"same\"))\n",
        "\n",
        "# S2 Pooling Layer\n",
        "model.add(layers.AveragePooling2D(pool_size=(2, 2), strides=(2, 2)))\n",
        "\n",
        "# C3 Convolutional Layer\n",
        "model.add(layers.Conv2D(16, kernel_size=(5, 5), strides=(1, 1), activation=\"tanh\"))\n",
        "\n",
        "# S4 Pooling Layer\n",
        "model.add(layers.AveragePooling2D(pool_size=(2, 2), strides=(2, 2)))\n",
        "\n",
        "# C5 Fully Connected Convolutional Layer\n",
        "model.add(layers.Conv2D(120, kernel_size=(5, 5), strides=(1, 1), activation=\"tanh\"))\n",
        "\n",
        "#Flatten the CNN output so that we can connect it with fully connected layers\n",
        "model.add(layers.Flatten())\n",
        "\n",
        "#Output Layer with softmax activation\n",
        "model.add(layers.Dense(10, activation=\"softmax\"))\n",
        "\n",
        "# Compile the model\n",
        "model.compile(loss=keras.losses.categorical_crossentropy, optimizer=\"SGD\", metrics=[\"accuracy\"])\n",
        "\n",
        "model.summary()"
      ],
      "execution_count": null,
      "outputs": [
        {
          "output_type": "stream",
          "text": [
            "Model: \"sequential_2\"\n",
            "_________________________________________________________________\n",
            "Layer (type)                 Output Shape              Param #   \n",
            "=================================================================\n",
            "conv2d_4 (Conv2D)            (None, 28, 28, 6)         156       \n",
            "_________________________________________________________________\n",
            "average_pooling2d_3 (Average (None, 14, 14, 6)         0         \n",
            "_________________________________________________________________\n",
            "conv2d_5 (Conv2D)            (None, 10, 10, 16)        2416      \n",
            "_________________________________________________________________\n",
            "average_pooling2d_4 (Average (None, 5, 5, 16)          0         \n",
            "_________________________________________________________________\n",
            "conv2d_6 (Conv2D)            (None, 1, 1, 120)         48120     \n",
            "_________________________________________________________________\n",
            "flatten_2 (Flatten)          (None, 120)               0         \n",
            "_________________________________________________________________\n",
            "dense_3 (Dense)              (None, 10)                1210      \n",
            "=================================================================\n",
            "Total params: 51,902\n",
            "Trainable params: 51,902\n",
            "Non-trainable params: 0\n",
            "_________________________________________________________________\n"
          ],
          "name": "stdout"
        }
      ]
    },
    {
      "cell_type": "markdown",
      "metadata": {
        "id": "I29FJeJPSFyq"
      },
      "source": [
        "Training process"
      ]
    },
    {
      "cell_type": "code",
      "metadata": {
        "id": "Ni3qTYM5FXkW",
        "outputId": "c04a9d7c-9815-4339-c6ad-629f6f30fc79",
        "colab": {
          "base_uri": "https://localhost:8080/",
          "height": 390
        }
      },
      "source": [
        "hist = model.fit(x=x_train,y=y_train, epochs=10, batch_size=128, validation_data=(x_val, y_val), verbose=1)"
      ],
      "execution_count": null,
      "outputs": [
        {
          "output_type": "stream",
          "text": [
            "Train on 48000 samples, validate on 12000 samples\n",
            "Epoch 1/10\n",
            "48000/48000 [==============================] - 27s 567us/step - loss: 0.9161 - accuracy: 0.8072 - val_loss: 0.4432 - val_accuracy: 0.8923\n",
            "Epoch 2/10\n",
            "48000/48000 [==============================] - 27s 563us/step - loss: 0.3562 - accuracy: 0.9120 - val_loss: 0.2844 - val_accuracy: 0.9280\n",
            "Epoch 3/10\n",
            "48000/48000 [==============================] - 27s 562us/step - loss: 0.2549 - accuracy: 0.9358 - val_loss: 0.2201 - val_accuracy: 0.9431\n",
            "Epoch 4/10\n",
            "48000/48000 [==============================] - 27s 561us/step - loss: 0.2071 - accuracy: 0.9461 - val_loss: 0.1857 - val_accuracy: 0.9517\n",
            "Epoch 5/10\n",
            "48000/48000 [==============================] - 27s 563us/step - loss: 0.1791 - accuracy: 0.9529 - val_loss: 0.1642 - val_accuracy: 0.9560\n",
            "Epoch 6/10\n",
            "48000/48000 [==============================] - 27s 567us/step - loss: 0.1599 - accuracy: 0.9575 - val_loss: 0.1496 - val_accuracy: 0.9600\n",
            "Epoch 7/10\n",
            "48000/48000 [==============================] - 27s 564us/step - loss: 0.1464 - accuracy: 0.9604 - val_loss: 0.1374 - val_accuracy: 0.9632\n",
            "Epoch 8/10\n",
            "48000/48000 [==============================] - 27s 564us/step - loss: 0.1360 - accuracy: 0.9628 - val_loss: 0.1279 - val_accuracy: 0.9655\n",
            "Epoch 9/10\n",
            "48000/48000 [==============================] - 27s 566us/step - loss: 0.1274 - accuracy: 0.9647 - val_loss: 0.1235 - val_accuracy: 0.9667\n",
            "Epoch 10/10\n",
            "48000/48000 [==============================] - 27s 563us/step - loss: 0.1206 - accuracy: 0.9669 - val_loss: 0.1156 - val_accuracy: 0.9694\n"
          ],
          "name": "stdout"
        }
      ]
    },
    {
      "cell_type": "markdown",
      "metadata": {
        "id": "k0sr72aZSJkR"
      },
      "source": [
        "Testing process"
      ]
    },
    {
      "cell_type": "code",
      "metadata": {
        "id": "VODIkOrfFXkb",
        "outputId": "d5889694-9e13-4992-a232-d324cb78a663",
        "colab": {
          "base_uri": "https://localhost:8080/",
          "height": 70
        }
      },
      "source": [
        "test_score = model.evaluate(x_test, y_test)\n",
        "print(\"Loss {:.3f}\".format(test_score[0]))\n",
        "print(\"Accuracy {:.2f}%\".format(test_score[1] * 100))"
      ],
      "execution_count": null,
      "outputs": [
        {
          "output_type": "stream",
          "text": [
            "10000/10000 [==============================] - 3s 340us/step\n",
            "Loss 0.102\n",
            "Accuracy 97.18%\n"
          ],
          "name": "stdout"
        }
      ]
    },
    {
      "cell_type": "markdown",
      "metadata": {
        "id": "F0QirT3fS5pa"
      },
      "source": [
        "Visualisasi"
      ]
    },
    {
      "cell_type": "code",
      "metadata": {
        "id": "ZjEJw2VES5pd",
        "outputId": "de38d3b6-4221-4332-ff48-1c9b6538a86f",
        "colab": {
          "base_uri": "https://localhost:8080/",
          "height": 313
        }
      },
      "source": [
        "f, ax = plt.subplots()\n",
        "ax.plot([None] + hist.history[\"accuracy\"], \"o-\")\n",
        "ax.plot([None] + hist.history[\"val_accuracy\"], \"x-\")\n",
        "ax.legend([\"Train acc\", \"Validation acc\"], loc = 0)\n",
        "ax.set_title(\"Training/Validation acc per Epoch\")\n",
        "ax.set_xlabel(\"Epoch\")\n",
        "ax.set_ylabel(\"acc\")"
      ],
      "execution_count": null,
      "outputs": [
        {
          "output_type": "execute_result",
          "data": {
            "text/plain": [
              "Text(0, 0.5, 'acc')"
            ]
          },
          "metadata": {
            "tags": []
          },
          "execution_count": 52
        },
        {
          "output_type": "display_data",
          "data": {
            "image/png": "[encoded data removed]",
            "text/plain": [
              "<Figure size 432x288 with 1 Axes>"
            ]
          },
          "metadata": {
            "tags": [],
            "needs_background": "light"
          }
        }
      ]
    },
    {
      "cell_type": "code",
      "metadata": {
        "id": "pVxqy85RS5pj",
        "outputId": "aa33f04a-abee-49c9-dab0-2623e19c6674",
        "colab": {
          "base_uri": "https://localhost:8080/",
          "height": 313
        }
      },
      "source": [
        "f, ax = plt.subplots()\n",
        "ax.plot([None] + hist.history[\"loss\"], \"o-\")\n",
        "ax.plot([None] + hist.history[\"val_loss\"], \"x-\")\n",
        "ax.legend([\"Train Loss\", \"Validation Loss\"], loc = 0)\n",
        "ax.set_title(\"Training/Validation Loss per Epoch\")\n",
        "ax.set_xlabel(\"Epoch\")\n",
        "ax.set_ylabel(\"Loss\")"
      ],
      "execution_count": null,
      "outputs": [
        {
          "output_type": "execute_result",
          "data": {
            "text/plain": [
              "Text(0, 0.5, 'Loss')"
            ]
          },
          "metadata": {
            "tags": []
          },
          "execution_count": 53
        },
        {
          "output_type": "display_data",
          "data": {
            "image/png": "[encoded data removed]",
            "text/plain": [
              "<Figure size 432x288 with 1 Axes>"
            ]
          },
          "metadata": {
            "tags": [],
            "needs_background": "light"
          }
        }
      ]
    },
    {
      "cell_type": "markdown",
      "metadata": {
        "id": "NJUURfvgaKDL"
      },
      "source": [
        "### Conclusion\n",
        "Dari hasil modifikasi membuang 1 layer fully connected, di dapat hasil akurasi yang sedikit lebih rendah dari pada arsitektur LeNet-5 tanpa modofikasi. Layer-layer konvolusi telah memberikan dampak yang besar sehingga penghapusan 1 layer fully connected tidak memperngaruhi hasil akurasi secara signifikan."
      ]
    }
  ]
}