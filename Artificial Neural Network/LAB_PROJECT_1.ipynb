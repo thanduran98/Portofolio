{
  "nbformat": 4,
  "nbformat_minor": 0,
  "metadata": {
    "colab": {
      "name": "ANN_PROJECT_CLUSTERING.ipynb",
      "provenance": [],
      "collapsed_sections": []
    },
    "kernelspec": {
      "name": "python3",
      "display_name": "Python 3"
    }
  },
  "cells": [
    {
      "cell_type": "code",
      "metadata": {
        "id": "X_JOfJkIxOjf",
        "outputId": "ab195706-f126-46d5-d036-84ed2f305bd4",
        "colab": {
          "base_uri": "https://localhost:8080/",
          "height": 34
        }
      },
      "source": [
        "%tensorflow_version 1.x"
      ],
      "execution_count": null,
      "outputs": [
        {
          "output_type": "stream",
          "text": [
            "TensorFlow 1.x selected.\n"
          ],
          "name": "stdout"
        }
      ]
    },
    {
      "cell_type": "code",
      "metadata": {
        "id": "Llyh6fLhxSLC"
      },
      "source": [
        "import tensorflow as tf\n",
        "from matplotlib import pyplot as plt\n",
        "\n",
        "import pandas as pd\n",
        "\n",
        "from sklearn.preprocessing import Normalizer\n",
        "from sklearn.decomposition import PCA"
      ],
      "execution_count": null,
      "outputs": []
    },
    {
      "cell_type": "code",
      "metadata": {
        "id": "kpcbKml8GIFV"
      },
      "source": [
        "dataset = pd.read_csv(\"E202-COMP7117-TD01-00 - clustering.csv\")"
      ],
      "execution_count": null,
      "outputs": []
    },
    {
      "cell_type": "code",
      "metadata": {
        "id": "LOA-MZLgHEWl",
        "outputId": "49c18adb-fc4d-4ed4-d94f-7e10ed4736b8",
        "colab": {
          "base_uri": "https://localhost:8080/",
          "height": 204
        }
      },
      "source": [
        "features = dataset[[\"SpecialDay\", \"VisitorType\", \"Weekend\", \"ProductRelated_Duration\", \"ExitRates\"]]\n",
        "features.head(5)"
      ],
      "execution_count": null,
      "outputs": [
        {
          "output_type": "execute_result",
          "data": {
            "text/html": [
              "<div>\n",
              "<style scoped>\n",
              "    .dataframe tbody tr th:only-of-type {\n",
              "        vertical-align: middle;\n",
              "    }\n",
              "\n",
              "    .dataframe tbody tr th {\n",
              "        vertical-align: top;\n",
              "    }\n",
              "\n",
              "    .dataframe thead th {\n",
              "        text-align: right;\n",
              "    }\n",
              "</style>\n",
              "<table border=\"1\" class=\"dataframe\">\n",
              "  <thead>\n",
              "    <tr style=\"text-align: right;\">\n",
              "      <th></th>\n",
              "      <th>SpecialDay</th>\n",
              "      <th>VisitorType</th>\n",
              "      <th>Weekend</th>\n",
              "      <th>ProductRelated_Duration</th>\n",
              "      <th>ExitRates</th>\n",
              "    </tr>\n",
              "  </thead>\n",
              "  <tbody>\n",
              "    <tr>\n",
              "      <th>0</th>\n",
              "      <td>LOW</td>\n",
              "      <td>Returning_Visitor</td>\n",
              "      <td>False</td>\n",
              "      <td>0</td>\n",
              "      <td>3</td>\n",
              "    </tr>\n",
              "    <tr>\n",
              "      <th>1</th>\n",
              "      <td>LOW</td>\n",
              "      <td>Returning_Visitor</td>\n",
              "      <td>False</td>\n",
              "      <td>0</td>\n",
              "      <td>3</td>\n",
              "    </tr>\n",
              "    <tr>\n",
              "      <th>2</th>\n",
              "      <td>LOW</td>\n",
              "      <td>Returning_Visitor</td>\n",
              "      <td>False</td>\n",
              "      <td>0</td>\n",
              "      <td>3</td>\n",
              "    </tr>\n",
              "    <tr>\n",
              "      <th>3</th>\n",
              "      <td>LOW</td>\n",
              "      <td>Returning_Visitor</td>\n",
              "      <td>False</td>\n",
              "      <td>0</td>\n",
              "      <td>3</td>\n",
              "    </tr>\n",
              "    <tr>\n",
              "      <th>4</th>\n",
              "      <td>LOW</td>\n",
              "      <td>Returning_Visitor</td>\n",
              "      <td>True</td>\n",
              "      <td>1</td>\n",
              "      <td>2</td>\n",
              "    </tr>\n",
              "  </tbody>\n",
              "</table>\n",
              "</div>"
            ],
            "text/plain": [
              "  SpecialDay        VisitorType  Weekend  ProductRelated_Duration  ExitRates\n",
              "0        LOW  Returning_Visitor    False                        0          3\n",
              "1        LOW  Returning_Visitor    False                        0          3\n",
              "2        LOW  Returning_Visitor    False                        0          3\n",
              "3        LOW  Returning_Visitor    False                        0          3\n",
              "4        LOW  Returning_Visitor     True                        1          2"
            ]
          },
          "metadata": {
            "tags": []
          },
          "execution_count": 4
        }
      ]
    },
    {
      "cell_type": "code",
      "metadata": {
        "id": "c31MnrlHIYz1",
        "outputId": "352ff6fd-9eed-440a-fca1-d9cf99cd08c1",
        "colab": {
          "base_uri": "https://localhost:8080/",
          "height": 306
        }
      },
      "source": [
        "#Features Extraction\n",
        "features = dataset[[\"SpecialDay\", \"VisitorType\", \"Weekend\", \"ProductRelated_Duration\", \"ExitRates\"]]\n",
        "sz = len(features)\n",
        "\n",
        "print(sz)\n",
        "\n",
        "tmp = []\n",
        "\n",
        "for i in range(sz):\n",
        "  if (features[\"SpecialDay\"].loc[i] == 'HIGH'):\n",
        "    tmp.append(2)\n",
        "  elif (features[\"SpecialDay\"].loc[i] == 'NORMAL'):\n",
        "    tmp.append(1)\n",
        "  elif (features[\"SpecialDay\"].loc[i] == 'LOW'):\n",
        "    tmp.append(0)\n",
        "features.drop(columns=[\"SpecialDay\"])\n",
        "features[\"SpecialDay\"] = tmp\n",
        "\n",
        "tmp = []\n",
        "\n",
        "for i in range(sz):\n",
        "  if (features[\"VisitorType\"].loc[i] == 'Returning_Visitor'):\n",
        "    tmp.append(2)\n",
        "  elif (features[\"VisitorType\"].loc[i] == 'New_Visitor'):\n",
        "    tmp.append(1)\n",
        "  elif (features[\"VisitorType\"].loc[i] == 'Other'):\n",
        "    tmp.append(0)\n",
        "\n",
        "features.drop(columns=[\"VisitorType\"])\n",
        "features[\"VisitorType\"] = tmp\n",
        "\n",
        "tmp = []\n",
        "\n",
        "for i in range(sz):\n",
        "  if (features[\"Weekend\"].loc[i] == True):\n",
        "    tmp.append(1)\n",
        "  elif (features[\"Weekend\"].loc[i] == False):\n",
        "    tmp.append(0)\n",
        "\n",
        "print(len(tmp))\n",
        "features.drop(columns=[\"Weekend\"])\n",
        "features[\"Weekend\"] = tmp"
      ],
      "execution_count": null,
      "outputs": [
        {
          "output_type": "stream",
          "text": [
            "3632\n"
          ],
          "name": "stdout"
        },
        {
          "output_type": "stream",
          "text": [
            "/usr/local/lib/python3.6/dist-packages/ipykernel_launcher.py:17: SettingWithCopyWarning: \n",
            "A value is trying to be set on a copy of a slice from a DataFrame.\n",
            "Try using .loc[row_indexer,col_indexer] = value instead\n",
            "\n",
            "See the caveats in the documentation: https://pandas.pydata.org/pandas-docs/stable/user_guide/indexing.html#returning-a-view-versus-a-copy\n",
            "/usr/local/lib/python3.6/dist-packages/ipykernel_launcher.py:30: SettingWithCopyWarning: \n",
            "A value is trying to be set on a copy of a slice from a DataFrame.\n",
            "Try using .loc[row_indexer,col_indexer] = value instead\n",
            "\n",
            "See the caveats in the documentation: https://pandas.pydata.org/pandas-docs/stable/user_guide/indexing.html#returning-a-view-versus-a-copy\n"
          ],
          "name": "stderr"
        },
        {
          "output_type": "stream",
          "text": [
            "3632\n"
          ],
          "name": "stdout"
        },
        {
          "output_type": "stream",
          "text": [
            "/usr/local/lib/python3.6/dist-packages/ipykernel_launcher.py:42: SettingWithCopyWarning: \n",
            "A value is trying to be set on a copy of a slice from a DataFrame.\n",
            "Try using .loc[row_indexer,col_indexer] = value instead\n",
            "\n",
            "See the caveats in the documentation: https://pandas.pydata.org/pandas-docs/stable/user_guide/indexing.html#returning-a-view-versus-a-copy\n"
          ],
          "name": "stderr"
        }
      ]
    },
    {
      "cell_type": "code",
      "metadata": {
        "id": "iu2oRbAAJTJ5",
        "outputId": "7f8d3cd1-8bd3-43bf-f868-3f5bab8fdd27",
        "colab": {
          "base_uri": "https://localhost:8080/",
          "height": 669
        }
      },
      "source": [
        "features.head(20)"
      ],
      "execution_count": null,
      "outputs": [
        {
          "output_type": "execute_result",
          "data": {
            "text/html": [
              "<div>\n",
              "<style scoped>\n",
              "    .dataframe tbody tr th:only-of-type {\n",
              "        vertical-align: middle;\n",
              "    }\n",
              "\n",
              "    .dataframe tbody tr th {\n",
              "        vertical-align: top;\n",
              "    }\n",
              "\n",
              "    .dataframe thead th {\n",
              "        text-align: right;\n",
              "    }\n",
              "</style>\n",
              "<table border=\"1\" class=\"dataframe\">\n",
              "  <thead>\n",
              "    <tr style=\"text-align: right;\">\n",
              "      <th></th>\n",
              "      <th>SpecialDay</th>\n",
              "      <th>VisitorType</th>\n",
              "      <th>Weekend</th>\n",
              "      <th>ProductRelated_Duration</th>\n",
              "      <th>ExitRates</th>\n",
              "    </tr>\n",
              "  </thead>\n",
              "  <tbody>\n",
              "    <tr>\n",
              "      <th>0</th>\n",
              "      <td>0</td>\n",
              "      <td>2</td>\n",
              "      <td>0</td>\n",
              "      <td>0</td>\n",
              "      <td>3</td>\n",
              "    </tr>\n",
              "    <tr>\n",
              "      <th>1</th>\n",
              "      <td>0</td>\n",
              "      <td>2</td>\n",
              "      <td>0</td>\n",
              "      <td>0</td>\n",
              "      <td>3</td>\n",
              "    </tr>\n",
              "    <tr>\n",
              "      <th>2</th>\n",
              "      <td>0</td>\n",
              "      <td>2</td>\n",
              "      <td>0</td>\n",
              "      <td>0</td>\n",
              "      <td>3</td>\n",
              "    </tr>\n",
              "    <tr>\n",
              "      <th>3</th>\n",
              "      <td>0</td>\n",
              "      <td>2</td>\n",
              "      <td>0</td>\n",
              "      <td>0</td>\n",
              "      <td>3</td>\n",
              "    </tr>\n",
              "    <tr>\n",
              "      <th>4</th>\n",
              "      <td>0</td>\n",
              "      <td>2</td>\n",
              "      <td>1</td>\n",
              "      <td>1</td>\n",
              "      <td>2</td>\n",
              "    </tr>\n",
              "    <tr>\n",
              "      <th>5</th>\n",
              "      <td>0</td>\n",
              "      <td>2</td>\n",
              "      <td>0</td>\n",
              "      <td>1</td>\n",
              "      <td>1</td>\n",
              "    </tr>\n",
              "    <tr>\n",
              "      <th>6</th>\n",
              "      <td>1</td>\n",
              "      <td>2</td>\n",
              "      <td>0</td>\n",
              "      <td>0</td>\n",
              "      <td>3</td>\n",
              "    </tr>\n",
              "    <tr>\n",
              "      <th>7</th>\n",
              "      <td>0</td>\n",
              "      <td>2</td>\n",
              "      <td>1</td>\n",
              "      <td>0</td>\n",
              "      <td>3</td>\n",
              "    </tr>\n",
              "    <tr>\n",
              "      <th>8</th>\n",
              "      <td>2</td>\n",
              "      <td>2</td>\n",
              "      <td>0</td>\n",
              "      <td>0</td>\n",
              "      <td>3</td>\n",
              "    </tr>\n",
              "    <tr>\n",
              "      <th>9</th>\n",
              "      <td>1</td>\n",
              "      <td>2</td>\n",
              "      <td>0</td>\n",
              "      <td>1</td>\n",
              "      <td>1</td>\n",
              "    </tr>\n",
              "    <tr>\n",
              "      <th>10</th>\n",
              "      <td>0</td>\n",
              "      <td>2</td>\n",
              "      <td>0</td>\n",
              "      <td>1</td>\n",
              "      <td>3</td>\n",
              "    </tr>\n",
              "    <tr>\n",
              "      <th>11</th>\n",
              "      <td>1</td>\n",
              "      <td>2</td>\n",
              "      <td>0</td>\n",
              "      <td>1</td>\n",
              "      <td>1</td>\n",
              "    </tr>\n",
              "    <tr>\n",
              "      <th>12</th>\n",
              "      <td>0</td>\n",
              "      <td>2</td>\n",
              "      <td>0</td>\n",
              "      <td>1</td>\n",
              "      <td>1</td>\n",
              "    </tr>\n",
              "    <tr>\n",
              "      <th>13</th>\n",
              "      <td>0</td>\n",
              "      <td>2</td>\n",
              "      <td>0</td>\n",
              "      <td>0</td>\n",
              "      <td>3</td>\n",
              "    </tr>\n",
              "    <tr>\n",
              "      <th>14</th>\n",
              "      <td>0</td>\n",
              "      <td>2</td>\n",
              "      <td>0</td>\n",
              "      <td>0</td>\n",
              "      <td>3</td>\n",
              "    </tr>\n",
              "    <tr>\n",
              "      <th>15</th>\n",
              "      <td>0</td>\n",
              "      <td>2</td>\n",
              "      <td>0</td>\n",
              "      <td>1</td>\n",
              "      <td>1</td>\n",
              "    </tr>\n",
              "    <tr>\n",
              "      <th>16</th>\n",
              "      <td>0</td>\n",
              "      <td>2</td>\n",
              "      <td>0</td>\n",
              "      <td>0</td>\n",
              "      <td>3</td>\n",
              "    </tr>\n",
              "    <tr>\n",
              "      <th>17</th>\n",
              "      <td>0</td>\n",
              "      <td>2</td>\n",
              "      <td>1</td>\n",
              "      <td>1</td>\n",
              "      <td>0</td>\n",
              "    </tr>\n",
              "    <tr>\n",
              "      <th>18</th>\n",
              "      <td>0</td>\n",
              "      <td>2</td>\n",
              "      <td>0</td>\n",
              "      <td>0</td>\n",
              "      <td>3</td>\n",
              "    </tr>\n",
              "    <tr>\n",
              "      <th>19</th>\n",
              "      <td>0</td>\n",
              "      <td>2</td>\n",
              "      <td>0</td>\n",
              "      <td>1</td>\n",
              "      <td>0</td>\n",
              "    </tr>\n",
              "  </tbody>\n",
              "</table>\n",
              "</div>"
            ],
            "text/plain": [
              "    SpecialDay  VisitorType  Weekend  ProductRelated_Duration  ExitRates\n",
              "0            0            2        0                        0          3\n",
              "1            0            2        0                        0          3\n",
              "2            0            2        0                        0          3\n",
              "3            0            2        0                        0          3\n",
              "4            0            2        1                        1          2\n",
              "5            0            2        0                        1          1\n",
              "6            1            2        0                        0          3\n",
              "7            0            2        1                        0          3\n",
              "8            2            2        0                        0          3\n",
              "9            1            2        0                        1          1\n",
              "10           0            2        0                        1          3\n",
              "11           1            2        0                        1          1\n",
              "12           0            2        0                        1          1\n",
              "13           0            2        0                        0          3\n",
              "14           0            2        0                        0          3\n",
              "15           0            2        0                        1          1\n",
              "16           0            2        0                        0          3\n",
              "17           0            2        1                        1          0\n",
              "18           0            2        0                        0          3\n",
              "19           0            2        0                        1          0"
            ]
          },
          "metadata": {
            "tags": []
          },
          "execution_count": 6
        }
      ]
    },
    {
      "cell_type": "code",
      "metadata": {
        "id": "app4qszGLeh8"
      },
      "source": [
        "# Normalization\n",
        "normalizer = Normalizer()\n",
        "normal_data = normalizer.fit_transform(features)"
      ],
      "execution_count": null,
      "outputs": []
    },
    {
      "cell_type": "code",
      "metadata": {
        "id": "4haKhQc_Mgl6"
      },
      "source": [
        "#PCA\n",
        "pca = PCA(n_components=3)\n",
        "pca = pca.fit(normal_data)\n",
        "\n",
        "data = pca.transform(normal_data)"
      ],
      "execution_count": null,
      "outputs": []
    },
    {
      "cell_type": "code",
      "metadata": {
        "id": "VykJBvzUxn8g"
      },
      "source": [
        "class SOM:\n",
        "  def __init__ (self, height, width, input_dimension):\n",
        "    self.height = height\n",
        "    self.width = width\n",
        "    self.input_dimension = input_dimension\n",
        "    self.location = [tf.to_float([y,x]) for y in range(height) for x in range(width)]\n",
        "\n",
        "    self.weight = tf.Variable(tf.random_normal([width*height, input_dimension]))\n",
        "    self.input = tf.placeholder(tf.float32, [input_dimension])\n",
        "\n",
        "    bmu = self.get_bmu()\n",
        "\n",
        "    self.updated_weight, self.rate_stacked = self.updt_neighbour(bmu)\n",
        "\n",
        "\n",
        "  def get_bmu(self):\n",
        "    sq_diff = tf.square(self.input - self.weight)\n",
        "    dist = tf.sqrt(tf.reduce_mean(sq_diff, axis = 1))\n",
        "\n",
        "    bmu_index = tf.argmin(dist)\n",
        "    bmu_location = tf.to_float([tf.div(bmu_index, self.width), tf.mod(bmu_index, self.width)])\n",
        "\n",
        "    return bmu_location\n",
        "  \n",
        "  def updt_neighbour(self, bmu):\n",
        "    alfa = 0.1\n",
        "    sigma = tf.to_float(tf.maximum(self.width,self.height)/2)\n",
        "\n",
        "    sq_diff = tf.square(self.location-bmu)\n",
        "    dist = tf.sqrt(tf.reduce_mean(sq_diff, axis = 1))\n",
        "\n",
        "    neighbour_strength = tf.exp(tf.div(tf.negative(tf.square(dist)), 2*tf.square(sigma)))\n",
        "\n",
        "    rate = neighbour_strength*alfa\n",
        "    total_node = self.width * self.height\n",
        "    rate_stacked = tf.stack([tf.tile(tf.slice(rate, [i],[1]),[self.input_dimension]) for i in range(total_node)])\n",
        "\n",
        "    input_weigth_diff = tf.subtract(self.input, self.weight)\n",
        "    weight_diff = tf.multiply(rate_stacked, input_weigth_diff)\n",
        "    weight_new = tf.add(self.weight, weight_diff)\n",
        "\n",
        "    return tf.assign(self.weight, weight_new), rate_stacked\n",
        "  \n",
        "  def train(self, dataset, epoch):\n",
        "    init = tf.global_variables_initializer()\n",
        "\n",
        "    with tf.Session() as sess:\n",
        "      sess.run(init)\n",
        "\n",
        "      for i in range(epoch):\n",
        "        for data in dataset:\n",
        "          sess.run(self.updated_weight, feed_dict = {self.input: data})\n",
        "      cluster = [[] for i in range(self.height)]\n",
        "      location = sess.run(self.location)\n",
        "      weight = sess.run(self.weight)\n",
        "\n",
        "      for i, loc in enumerate(location):\n",
        "        cluster[int(loc[0])].append(weight[i])\n",
        "      \n",
        "      self.cluster = cluster"
      ],
      "execution_count": null,
      "outputs": []
    },
    {
      "cell_type": "code",
      "metadata": {
        "id": "zLb2To1RFClI",
        "outputId": "50708d17-f4f6-4270-ca64-17ddfcace1e9",
        "colab": {
          "base_uri": "https://localhost:8080/",
          "height": 119
        }
      },
      "source": [
        "# SOM Architecture\n",
        "\n",
        "height = 5\n",
        "width = 5\n",
        "input_dimension = 3\n",
        "\n",
        "som = SOM(height, width, input_dimension)\n"
      ],
      "execution_count": null,
      "outputs": [
        {
          "output_type": "stream",
          "text": [
            "WARNING:tensorflow:From <ipython-input-9-acba37e2b75b>:6: to_float (from tensorflow.python.ops.math_ops) is deprecated and will be removed in a future version.\n",
            "Instructions for updating:\n",
            "Use `tf.cast` instead.\n",
            "WARNING:tensorflow:From <ipython-input-9-acba37e2b75b>:21: div (from tensorflow.python.ops.math_ops) is deprecated and will be removed in a future version.\n",
            "Instructions for updating:\n",
            "Deprecated in favor of operator or tf.math.divide.\n"
          ],
          "name": "stdout"
        }
      ]
    },
    {
      "cell_type": "code",
      "metadata": {
        "id": "kNOWVzYwFEMv"
      },
      "source": [
        "# SOM Trainning\n",
        "\n",
        "epoch = 5000\n",
        "\n",
        "som.train(data, epoch)"
      ],
      "execution_count": null,
      "outputs": []
    },
    {
      "cell_type": "code",
      "metadata": {
        "id": "lQkUyBe5_vVr",
        "outputId": "a127dadd-cc6d-4035-9e9f-c0a5ce828e88",
        "colab": {
          "base_uri": "https://localhost:8080/",
          "height": 282
        }
      },
      "source": [
        "som.cluster\n",
        "\n",
        "plt.imshow(som.cluster)\n",
        "plt.show()"
      ],
      "execution_count": null,
      "outputs": [
        {
          "output_type": "stream",
          "text": [
            "Clipping input data to the valid range for imshow with RGB data ([0..1] for floats or [0..255] for integers).\n"
          ],
          "name": "stderr"
        },
        {
          "output_type": "display_data",
          "data": {
            "image/png": "[encoded data removed]",
            "text/plain": [
              "<Figure size 432x288 with 1 Axes>"
            ]
          },
          "metadata": {
            "tags": [],
            "needs_background": "light"
          }
        }
      ]
    },
    {
      "cell_type": "code",
      "metadata": {
        "id": "L2KdGGV2sj1q",
        "outputId": "d9d850c0-c508-4204-b07a-df3f0ea5e482",
        "colab": {
          "base_uri": "https://localhost:8080/",
          "height": 442
        }
      },
      "source": [
        "som.cluster"
      ],
      "execution_count": null,
      "outputs": [
        {
          "output_type": "execute_result",
          "data": {
            "text/plain": [
              "[[array([-0.2372747 , -0.07919236, -0.47213116], dtype=float32),\n",
              "  array([-0.17192881, -0.08575603, -0.47232258], dtype=float32),\n",
              "  array([-0.09944563, -0.09276242, -0.47112113], dtype=float32),\n",
              "  array([-0.02223273, -0.09996201, -0.4684546 ], dtype=float32),\n",
              "  array([ 0.05558777, -0.10682657, -0.46356773], dtype=float32)],\n",
              " [array([-0.1654088 , -0.08840168, -0.48084882], dtype=float32),\n",
              "  array([-0.09263148, -0.09571197, -0.48105097], dtype=float32),\n",
              "  array([-0.01438863, -0.10326647, -0.47983563], dtype=float32),\n",
              "  array([ 0.06621367, -0.11079831, -0.47738633], dtype=float32),\n",
              "  array([ 0.14461268, -0.11780229, -0.47340202], dtype=float32)],\n",
              " [array([-0.09229019, -0.09750987, -0.48842472], dtype=float32),\n",
              "  array([-0.01424095, -0.10533878, -0.48858   ], dtype=float32),\n",
              "  array([ 0.06694182, -0.11311974, -0.48714778], dtype=float32),\n",
              "  array([ 0.14774472, -0.12060027, -0.48452356], dtype=float32),\n",
              "  array([ 0.22367345, -0.12733956, -0.48069662], dtype=float32)],\n",
              " [array([-0.02091813, -0.10598356, -0.49414694], dtype=float32),\n",
              "  array([ 0.05989958, -0.11412879, -0.49435803], dtype=float32),\n",
              "  array([ 0.14116848, -0.12185784, -0.4926882 ], dtype=float32),\n",
              "  array([ 0.21939221, -0.1289879 , -0.48974505], dtype=float32),\n",
              "  array([ 0.29058856, -0.13517854, -0.48571935], dtype=float32)],\n",
              " [array([ 0.04665483, -0.11325332, -0.49701482], dtype=float32),\n",
              "  array([ 0.12779455, -0.12166064, -0.49771678], dtype=float32),\n",
              "  array([ 0.20669994, -0.12918083, -0.49602166], dtype=float32),\n",
              "  array([ 0.2802848 , -0.13578787, -0.49282375], dtype=float32),\n",
              "  array([ 0.34539437, -0.14127427, -0.48846382], dtype=float32)]]"
            ]
          },
          "metadata": {
            "tags": []
          },
          "execution_count": 14
        }
      ]
    },
    {
      "cell_type": "code",
      "metadata": {
        "id": "_eM4UXyEF5W8",
        "outputId": "2207822f-e9a4-4b54-cabc-3d9544502de5",
        "colab": {
          "base_uri": "https://localhost:8080/",
          "height": 758
        }
      },
      "source": [
        "# Visualization\n",
        "\n",
        "res = som.cluster\n",
        "\n",
        "mini = +1000000\n",
        "maxi = -1000000\n",
        "\n",
        "for i in range(height):\n",
        "  for j in range(width):\n",
        "    for k in range(input_dimension):\n",
        "      mini = min(mini,res[i][j][k])\n",
        "      maxi = max(maxi,res[i][j][k])\n",
        "\n",
        "mini = -mini\n",
        "res = res+mini\n",
        "maxi = maxi+mini\n",
        "\n",
        "for i in range(height):\n",
        "  for j in range(width):\n",
        "    for k in range(input_dimension):\n",
        "      res[i][j][k] = res[i][j][k]/maxi\n",
        "  \n",
        "print(res)\n",
        "\n",
        "plt.imshow(res)\n",
        "plt.show()"
      ],
      "execution_count": null,
      "outputs": [
        {
          "output_type": "stream",
          "text": [
            "[[[3.0890599e-01 4.9640480e-01 3.0346677e-02]\n",
            "  [3.8641164e-01 4.8861974e-01 3.0119637e-02]\n",
            "  [4.7238272e-01 4.8030958e-01 3.1544656e-02]\n",
            "  [5.6396365e-01 4.7177029e-01 3.4707386e-02]\n",
            "  [6.5626526e-01 4.6362832e-01 4.0503617e-02]]\n",
            "\n",
            " [[3.9414495e-01 4.8548180e-01 2.0006811e-02]\n",
            "  [4.8046488e-01 4.7681117e-01 1.9767046e-02]\n",
            "  [5.7326740e-01 4.6785089e-01 2.1208538e-02]\n",
            "  [6.6886842e-01 4.5891753e-01 2.4113616e-02]\n",
            "  [7.6185620e-01 4.5061022e-01 2.8839331e-02]]\n",
            "\n",
            " [[4.8086968e-01 4.7467873e-01 1.1021163e-02]\n",
            "  [5.7344258e-01 4.6539298e-01 1.0837001e-02]\n",
            "  [6.6973209e-01 4.5616412e-01 1.2535721e-02]\n",
            "  [7.6557106e-01 4.4729155e-01 1.5648257e-02]\n",
            "  [8.5562885e-01 4.3929824e-01 2.0187333e-02]]\n",
            "\n",
            " [[5.6552291e-01 4.6462822e-01 4.2341291e-03]\n",
            "  [6.6137940e-01 4.5496729e-01 3.9837589e-03]\n",
            "  [7.5777107e-01 4.4579998e-01 5.9643094e-03]\n",
            "  [8.5055089e-01 4.3734312e-01 9.4551397e-03]\n",
            "  [9.3499577e-01 4.3000054e-01 1.4229952e-02]]\n",
            "\n",
            " [[6.4567006e-01 4.5600566e-01 8.3258760e-04]\n",
            "  [7.4190849e-01 4.4603387e-01 0.0000000e+00]\n",
            "  [8.3549690e-01 4.3711430e-01 2.0105608e-03]\n",
            "  [9.2277461e-01 4.2927781e-01 5.8035464e-03]\n",
            "  [1.0000000e+00 4.2277047e-01 1.0974787e-02]]]\n"
          ],
          "name": "stdout"
        },
        {
          "output_type": "display_data",
          "data": {
            "image/png": "[encoded data removed]",
            "text/plain": [
              "<Figure size 432x288 with 1 Axes>"
            ]
          },
          "metadata": {
            "tags": [],
            "needs_background": "light"
          }
        }
      ]
    }
  ]
}