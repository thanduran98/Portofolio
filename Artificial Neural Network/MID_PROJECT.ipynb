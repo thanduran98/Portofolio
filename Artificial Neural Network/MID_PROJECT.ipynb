{
  "nbformat": 4,
  "nbformat_minor": 0,
  "metadata": {
    "colab": {
      "name": "MID EXAM ANN.ipynb",
      "provenance": [],
      "collapsed_sections": [],
      "toc_visible": true
    },
    "kernelspec": {
      "name": "python3",
      "display_name": "Python 3"
    }
  },
  "cells": [
    {
      "cell_type": "markdown",
      "metadata": {
        "id": "KkRqgzBudIhd"
      },
      "source": [
        "# Mid Test Artificial Neural Network"
      ]
    },
    {
      "cell_type": "markdown",
      "metadata": {
        "id": "1rHk3ELIHJqn"
      },
      "source": [
        "Gabriela Nathania H.<br>\n",
        "2201797494<br>\n",
        "LA01<br>"
      ]
    },
    {
      "cell_type": "markdown",
      "metadata": {
        "id": "sZ8PeBv6KXXa"
      },
      "source": [
        "# Answer Number 1"
      ]
    },
    {
      "cell_type": "markdown",
      "metadata": {
        "id": "gc26BsBY96RV"
      },
      "source": [
        "### Rancangan Model"
      ]
    },
    {
      "cell_type": "markdown",
      "metadata": {
        "id": "z3WZDobj-Yue"
      },
      "source": [
        "* **Neural Network:** Single Layer Perceptron\n",
        "\n",
        "* **Input:** 81 neuron <br> \n",
        "Karena ukuran gambar adalah 9x9 pixel, maka setiap pixelnya akan menjadi 1 input. Untuk pixel yang berwarna hitam direpresentasikan dengan 1 dan pixel berwarna putih direpresentasikan dengan 0\n",
        "* **Weight dan Bias:** 0\n",
        "\n",
        "* **Activation Function:**Binary Step\n",
        "\n",
        "* **Output:** 1 neuron <br>\n",
        "Untuk gambar Tank prediksi outputnya direpresentasikan dengan 1 dan untuk gambar House prediksi outputnya direpresentasikan dengan 0"
      ]
    },
    {
      "cell_type": "markdown",
      "metadata": {
        "id": "0NlxaIL6-NwN"
      },
      "source": [
        "### Model Training"
      ]
    },
    {
      "cell_type": "markdown",
      "metadata": {
        "id": "oqo0j2T8Lwbp"
      },
      "source": [
        "Import Library yang Digunakan\n",
        "\n",
        "\n"
      ]
    },
    {
      "cell_type": "code",
      "metadata": {
        "id": "NocuHN8eB-d8"
      },
      "source": [
        "import random\n",
        "import numpy as np"
      ],
      "execution_count": null,
      "outputs": []
    },
    {
      "cell_type": "markdown",
      "metadata": {
        "id": "FRSX5_VIB_PH"
      },
      "source": [
        "Mendefinisikan Input dan Target"
      ]
    },
    {
      "cell_type": "code",
      "metadata": {
        "id": "ra_C3I9hCClm"
      },
      "source": [
        "#input\n",
        "x = np.array([\n",
        "     [0,0,0,0,0,0,0,0,0,\n",
        "     0,0,0,0,1,0,0,0,0,\n",
        "     0,0,1,0,1,0,1,0,0,\n",
        "     0,0,1,1,1,1,1,0,0,\n",
        "     0,0,1,1,1,1,1,0,0,\n",
        "     0,0,1,1,1,1,1,0,0,\n",
        "     0,0,1,1,1,1,1,0,0,\n",
        "     0,0,1,0,1,0,1,0,0,\n",
        "     0,0,0,0,0,0,0,0,0],\n",
        "    [0,0,0,0,0,0,0,0,0,\n",
        "     0,0,0,0,1,0,0,0,0,\n",
        "     0,0,0,1,1,1,0,0,0,\n",
        "     0,0,1,1,1,1,1,0,0,\n",
        "     0,1,1,1,1,1,1,1,0,\n",
        "     0,1,0,0,1,1,0,1,0,\n",
        "     0,1,1,1,1,1,1,1,0,\n",
        "     0,1,1,1,1,1,1,1,0,\n",
        "     0,0,0,0,0,0,0,0,0]\n",
        "])\n",
        "\n",
        "#target\n",
        "t = np.array([1,0])"
      ],
      "execution_count": null,
      "outputs": []
    },
    {
      "cell_type": "markdown",
      "metadata": {
        "id": "2nKmEsN7CWy8"
      },
      "source": [
        "Activation Function : Binary Step"
      ]
    },
    {
      "cell_type": "code",
      "metadata": {
        "id": "PZ7HZAGoCa84"
      },
      "source": [
        "def step(x):\n",
        "  if x<0: return 0\n",
        "  return 1"
      ],
      "execution_count": null,
      "outputs": []
    },
    {
      "cell_type": "markdown",
      "metadata": {
        "id": "de-E7JcQCeBq"
      },
      "source": [
        "Set Weight dan Bias"
      ]
    },
    {
      "cell_type": "code",
      "metadata": {
        "id": "2tEbIKF3CjhE"
      },
      "source": [
        "w = np.zeros(81)\n",
        "b = 0"
      ],
      "execution_count": null,
      "outputs": []
    },
    {
      "cell_type": "markdown",
      "metadata": {
        "id": "_XoiLOUvCmfE"
      },
      "source": [
        "Set Learning Rate (alpha) dan Banyak Iterasi (epoch)"
      ]
    },
    {
      "cell_type": "code",
      "metadata": {
        "id": "Q4UyOZ0oCtme"
      },
      "source": [
        "alpha = 0.7\n",
        "epoch = 500"
      ],
      "execution_count": null,
      "outputs": []
    },
    {
      "cell_type": "markdown",
      "metadata": {
        "id": "zJtlq-7IC1gV"
      },
      "source": [
        "**Training Model**<br>\n",
        "\n",
        "*   Membuat input data train yang memiliki noise pixel (dari 0 hingga 40 noise)<br>\n",
        "Memilih n (banyaknya noise yang akan dibuat) posisi berbeda secara acak pada data input bersih yang dipilih secara acak, kemudian melakukan flip (dari 1 ke 0 dan sebaliknya)\n",
        "*   Untuk setiap banyaknya pixel noise, dilakukan training sebanyak epoch\n",
        "* Akurasi dihitung dari banyaknya prediksi yang benar terhadap total data yang diprediksi untuk setiap banyaknya noise\n",
        "\n"
      ]
    },
    {
      "cell_type": "code",
      "metadata": {
        "id": "Ffc-DQ3xEM9e",
        "outputId": "df1a84fa-d7ec-4304-9355-34016022d144",
        "colab": {
          "base_uri": "https://localhost:8080/",
          "height": 746
        }
      },
      "source": [
        "for noise in range(41): #try number of noise pixel form 0 (no noise) till 40 noise pixel\n",
        "  tot = 0\n",
        "  for iter in range(epoch):\n",
        "    nn = noise\n",
        "\n",
        "    #choose expected input to be modified\n",
        "    pick = random.randint(0,1)\n",
        "    inp = x[pick].copy()\n",
        "    out = t[pick]\n",
        "\n",
        "    #modify input so it has nn pixel noise\n",
        "    modify = set()\n",
        "\n",
        "    while nn>0:\n",
        "      pos = random.randint(0,80)\n",
        "      while pos in modify:\n",
        "        pos = random.randint(0,80)\n",
        "      modify.add(pos)\n",
        "      inp[pos] ^= 1 #flip pixel\n",
        "      nn-=1\n",
        "    \n",
        "    #accumulator\n",
        "    u = w.dot(inp) + b\n",
        "\n",
        "    #activation function\n",
        "    y = step(u)\n",
        "\n",
        "    #error\n",
        "    e = out-y\n",
        "\n",
        "    #update weight and bias\n",
        "    w += inp*e*alpha\n",
        "    b += e*alpha\n",
        "\n",
        "    #count correct classification\n",
        "    if e== 0: tot += 1\n",
        "\n",
        "  acc = tot/epoch\n",
        "  print(\"noise: {} accuracy: {:.2f}%\".format(noise,acc*100))\n",
        "  "
      ],
      "execution_count": null,
      "outputs": [
        {
          "output_type": "stream",
          "text": [
            "noise: 0 accuracy: 99.60%\n",
            "noise: 1 accuracy: 100.00%\n",
            "noise: 2 accuracy: 100.00%\n",
            "noise: 3 accuracy: 100.00%\n",
            "noise: 4 accuracy: 100.00%\n",
            "noise: 5 accuracy: 100.00%\n",
            "noise: 6 accuracy: 100.00%\n",
            "noise: 7 accuracy: 100.00%\n",
            "noise: 8 accuracy: 99.20%\n",
            "noise: 9 accuracy: 98.80%\n",
            "noise: 10 accuracy: 99.80%\n",
            "noise: 11 accuracy: 99.60%\n",
            "noise: 12 accuracy: 99.40%\n",
            "noise: 13 accuracy: 99.80%\n",
            "noise: 14 accuracy: 99.60%\n",
            "noise: 15 accuracy: 100.00%\n",
            "noise: 16 accuracy: 99.60%\n",
            "noise: 17 accuracy: 99.00%\n",
            "noise: 18 accuracy: 99.60%\n",
            "noise: 19 accuracy: 99.20%\n",
            "noise: 20 accuracy: 97.40%\n",
            "noise: 21 accuracy: 96.80%\n",
            "noise: 22 accuracy: 97.20%\n",
            "noise: 23 accuracy: 95.00%\n",
            "noise: 24 accuracy: 94.20%\n",
            "noise: 25 accuracy: 92.20%\n",
            "noise: 26 accuracy: 90.40%\n",
            "noise: 27 accuracy: 90.00%\n",
            "noise: 28 accuracy: 90.60%\n",
            "noise: 29 accuracy: 85.20%\n",
            "noise: 30 accuracy: 84.00%\n",
            "noise: 31 accuracy: 77.80%\n",
            "noise: 32 accuracy: 78.80%\n",
            "noise: 33 accuracy: 79.00%\n",
            "noise: 34 accuracy: 69.40%\n",
            "noise: 35 accuracy: 66.60%\n",
            "noise: 36 accuracy: 65.20%\n",
            "noise: 37 accuracy: 55.40%\n",
            "noise: 38 accuracy: 54.80%\n",
            "noise: 39 accuracy: 52.80%\n",
            "noise: 40 accuracy: 50.60%\n"
          ],
          "name": "stdout"
        }
      ]
    },
    {
      "cell_type": "markdown",
      "metadata": {
        "id": "wuCZ5lpmF4iq"
      },
      "source": [
        "### Analisa"
      ]
    },
    {
      "cell_type": "markdown",
      "metadata": {
        "id": "FOAG6gGYF6sX"
      },
      "source": [
        "Dari hasil akurasi yang didapat untuk setiap banyaknya noise yang ada, dapat dilihat bahwa:\n",
        "* model masih sangat akurat melakukan klasifikasi dengan input yang mempunyai noise terbanyak 10 hingga 20 (nilai akurasi 97% - 100%)\n",
        "* semakin banyak noise semakin rendah nilai akurasinya"
      ]
    },
    {
      "cell_type": "markdown",
      "metadata": {
        "id": "nJh3jZLhOBGz"
      },
      "source": [
        "# Answer Number 2"
      ]
    },
    {
      "cell_type": "markdown",
      "metadata": {
        "id": "gft1xF_bxhEz"
      },
      "source": [
        "### Menentukan Weight dan Bias Berdasarkan Analisa Persamaan Garis Pembatas"
      ]
    },
    {
      "cell_type": "markdown",
      "metadata": {
        "id": "r8b4owmMxkeq"
      },
      "source": [
        "<img src=\"https://drive.google.com/uc?id=1OHg2Lfito2CxbHxCSrUH-lRmahwh-ehk\" width=\"500\">\n",
        "<br>\n",
        "<img src=\"https://drive.google.com/uc?id=1cW4Z43et5U-LFkXraObu3Bu9777SSzfx\" width=\"500\">\n",
        "<br>\n",
        "<img src=\"https://drive.google.com/uc?id=1tTAHQmmr7rqCFMDVeeGyOzhUK9RRdZu_\" width=\"500\">"
      ]
    },
    {
      "cell_type": "markdown",
      "metadata": {
        "id": "Xrwzkef5zT4k"
      },
      "source": [
        "### Melakukan Uji Coba Terhadap Beberapa Contoh Training Data"
      ]
    },
    {
      "cell_type": "markdown",
      "metadata": {
        "id": "Z5pQPPi8zzKA"
      },
      "source": [
        "Import Library yang Digunakan"
      ]
    },
    {
      "cell_type": "code",
      "metadata": {
        "id": "dHqV6y48z4D9"
      },
      "source": [
        "import matplotlib.pyplot as plt\n",
        "import numpy as np"
      ],
      "execution_count": null,
      "outputs": []
    },
    {
      "cell_type": "markdown",
      "metadata": {
        "id": "enpg7RxVz_1L"
      },
      "source": [
        "Set Input (x1,x2) dan Target"
      ]
    },
    {
      "cell_type": "code",
      "metadata": {
        "id": "E9P5BXbW0M1n"
      },
      "source": [
        "#input\n",
        "x1x2 = [\n",
        "  [3    ,   1.7],\n",
        "  [2.8  ,   1.5],\n",
        "  [2.8  ,   2.5],\n",
        "  [3.5  ,   1.6],\n",
        "  [3    ,   2.1],\n",
        "\n",
        "  [4.5  ,   1.3],\n",
        "  [4.2  ,   1.0],\n",
        "  [5.4  ,   1.9],\n",
        "  [5.5  ,   2.1],\n",
        "  [3    ,   0.6],\n",
        "  [2    ,   1.2],\n",
        "\n",
        "  [0.4  ,   3.3],\n",
        "  [0.3  ,   3.5],\n",
        "  [1    ,   2.4],\n",
        "  [1.3  ,   2.0],\n",
        "  [1.6  ,   2.7],\n",
        "  [3.5  ,   0.7]\n",
        "]\n",
        "\n",
        "#target\n",
        "target = [\n",
        "  1,1,1,1,1,\n",
        "  0,0,0,0,0,0,\n",
        "  0,0,0,0,0,0 \n",
        "]\n"
      ],
      "execution_count": null,
      "outputs": []
    },
    {
      "cell_type": "markdown",
      "metadata": {
        "id": "eHJrIiFG0OyG"
      },
      "source": [
        "Plot Garis Pembatas Dikoordinat (x1,x2)"
      ]
    },
    {
      "cell_type": "code",
      "metadata": {
        "id": "0nYZayZvo3Jk",
        "outputId": "09cef9e4-c0cf-4065-e8d4-66731951401e",
        "colab": {
          "base_uri": "https://localhost:8080/",
          "height": 312
        }
      },
      "source": [
        "plt.scatter([x[0] for x in x1x2[5:]],[x[1] for x in x1x2[5:]],marker='o')\n",
        "plt.scatter([x[0] for x in x1x2[:5]],[x[1] for x in x1x2[:5]],marker='x')\n",
        "plt.title(\"FEW SELECTED TRAINING DATA\")\n",
        "plt.xlabel(\"X1\")\n",
        "plt.ylabel(\"X2\")\n",
        "\n",
        "x = np.linspace(2,6)\n",
        "y = 5/8*x-3/4\n",
        "plt.plot(x, y, '-r', label='N1')\n",
        "\n",
        "x = np.linspace(2,3)\n",
        "y = 7/2*x-13/2\n",
        "plt.plot(x, y, '-b', label='N2')\n",
        "\n",
        "plt.legend()"
      ],
      "execution_count": null,
      "outputs": [
        {
          "output_type": "execute_result",
          "data": {
            "text/plain": [
              "<matplotlib.legend.Legend at 0x7fb5ba13a860>"
            ]
          },
          "metadata": {
            "tags": []
          },
          "execution_count": 50
        },
        {
          "output_type": "display_data",
          "data": {
            "image/png": "[encoded data removed]",
            "text/plain": [
              "<Figure size 432x288 with 1 Axes>"
            ]
          },
          "metadata": {
            "tags": [],
            "needs_background": "light"
          }
        }
      ]
    },
    {
      "cell_type": "markdown",
      "metadata": {
        "id": "nhiRamC-1O-y"
      },
      "source": [
        "Activation Function: Sigmoid"
      ]
    },
    {
      "cell_type": "code",
      "metadata": {
        "id": "xbRd_WYF1Sk8"
      },
      "source": [
        "def sig(x):\n",
        "  return 1/(1+np.exp(-x))"
      ],
      "execution_count": null,
      "outputs": []
    },
    {
      "cell_type": "markdown",
      "metadata": {
        "id": "hjIvKouW1Vlo"
      },
      "source": [
        "Set Weight dan Bias untuk N1 dan N2"
      ]
    },
    {
      "cell_type": "code",
      "metadata": {
        "id": "uyRhjpCw1bFF"
      },
      "source": [
        "w1 = [5 ,  -8]\n",
        "b1 = -6\n",
        "w2 = [7 ,  -2]\n",
        "b2 = -13"
      ],
      "execution_count": null,
      "outputs": []
    },
    {
      "cell_type": "markdown",
      "metadata": {
        "id": "cG7IdQ7D0qmM"
      },
      "source": [
        "Hitung v1 dan v2 Berdasarkan (x1,x2), Weight, dan Bias yang Telah Ditentukan. "
      ]
    },
    {
      "cell_type": "code",
      "metadata": {
        "id": "vkuKIHN21JcB"
      },
      "source": [
        "v1v2 = []\n",
        "\n",
        "for x in x1x2:\n",
        "  v1 = sig(np.dot(w1,x)+b1)\n",
        "  v2 = sig(np.dot(w2,x)+b2)\n",
        "  v1v2.append([v1,v2])"
      ],
      "execution_count": null,
      "outputs": []
    },
    {
      "cell_type": "markdown",
      "metadata": {
        "id": "m53fdc2e1fGj"
      },
      "source": [
        "Plot Garis Pembatas Terhadap Data pada Koordinat (V1,V2)"
      ]
    },
    {
      "cell_type": "code",
      "metadata": {
        "id": "6ndAk3iRuo-6",
        "outputId": "a28c1207-e386-4376-98fa-2c313508706d",
        "colab": {
          "base_uri": "https://localhost:8080/",
          "height": 312
        }
      },
      "source": [
        "plt.scatter([v[0] for v in v1v2[5:]],[v[1] for v in v1v2[5:]],marker='o')\n",
        "plt.scatter([v[0] for v in v1v2[:5]],[v[1] for v in v1v2[:5]],marker='x')\n",
        "plt.title(\"FEW SELECTED TRAINING DATA\")\n",
        "plt.xlabel(\"V1\")\n",
        "plt.ylabel(\"V2\")\n",
        "\n",
        "x = np.linspace(0,1)\n",
        "y = x+0.4\n",
        "plt.plot(x, y, '-g', label='N3')\n",
        "\n",
        "plt.legend()"
      ],
      "execution_count": null,
      "outputs": [
        {
          "output_type": "execute_result",
          "data": {
            "text/plain": [
              "<matplotlib.legend.Legend at 0x7fb5b9c60ac8>"
            ]
          },
          "metadata": {
            "tags": []
          },
          "execution_count": 113
        },
        {
          "output_type": "display_data",
          "data": {
            "image/png": "[encoded data removed]",
            "text/plain": [
              "<Figure size 432x288 with 1 Axes>"
            ]
          },
          "metadata": {
            "tags": [],
            "needs_background": "light"
          }
        }
      ]
    },
    {
      "cell_type": "markdown",
      "metadata": {
        "id": "YsBiEVuN14vT"
      },
      "source": [
        "Set Weight dan Bias untuk N3"
      ]
    },
    {
      "cell_type": "code",
      "metadata": {
        "id": "NS6yy2Xi18mu"
      },
      "source": [
        "w3 = [-10,10]\n",
        "b3 = -4"
      ],
      "execution_count": null,
      "outputs": []
    },
    {
      "cell_type": "markdown",
      "metadata": {
        "id": "ppHOhxtD19P3"
      },
      "source": [
        "Hitung Y Berdasarkan V1 dan V2"
      ]
    },
    {
      "cell_type": "code",
      "metadata": {
        "id": "bHwkiKuh2E79"
      },
      "source": [
        "output = []\n",
        "\n",
        "for v in v1v2:\n",
        "  y = sig(np.dot(w3,v)+b3)\n",
        "  output.append(round(y,1))"
      ],
      "execution_count": null,
      "outputs": []
    },
    {
      "cell_type": "markdown",
      "metadata": {
        "id": "mOQ_S1_K2Fvj"
      },
      "source": [
        "Hasil Pediksi dari Model Telah Konvergen menggunakan Weight dan Bias yang Telah Ditentukan"
      ]
    },
    {
      "cell_type": "code",
      "metadata": {
        "id": "b9-xZ0I23J_w",
        "outputId": "b062b2df-2c38-494f-964b-28608d8f5957",
        "colab": {
          "base_uri": "https://localhost:8080/",
          "height": 88
        }
      },
      "source": [
        "print(\"prediction   :\", output[:5])\n",
        "print(\"target       :\", target[:5])\n",
        "\n",
        "print(\"prediction   :\", output[5:])\n",
        "print(\"target       :\", target[5:])"
      ],
      "execution_count": null,
      "outputs": [
        {
          "output_type": "stream",
          "text": [
            "prediction   : [1.0, 1.0, 1.0, 1.0, 1.0]\n",
            "target       : [1, 1, 1, 1, 1]\n",
            "prediction   : [0.0, 0.0, 0.0, 0.0, 0.0, 0.1, 0.0, 0.0, 0.0, 0.0, 0.0, 0.0]\n",
            "target       : [0, 0, 0, 0, 0, 0, 0, 0, 0, 0, 0, 0]\n"
          ],
          "name": "stdout"
        }
      ]
    },
    {
      "cell_type": "markdown",
      "metadata": {
        "id": "7uxdRy0jOHff"
      },
      "source": [
        "# Answer Number 3"
      ]
    },
    {
      "cell_type": "markdown",
      "metadata": {
        "id": "EoW1B7t826B-"
      },
      "source": [
        "### BPNN Model"
      ]
    },
    {
      "cell_type": "markdown",
      "metadata": {
        "id": "awvFQ2kG2YV9"
      },
      "source": [
        "Import Library yang Digunakan"
      ]
    },
    {
      "cell_type": "code",
      "metadata": {
        "id": "jTzzdGwN2ccT",
        "outputId": "b55e972c-f63e-4618-8cac-42fb93bff2e1",
        "colab": {
          "base_uri": "https://localhost:8080/",
          "height": 72
        }
      },
      "source": [
        "from sklearn.datasets import load_digits\n",
        "import numpy as np\n",
        "from sklearn.preprocessing import StandardScaler  \n",
        "from sklearn.metrics import accuracy_score\n",
        "from sklearn.model_selection import train_test_split\n",
        "import matplotlib.pyplot as plt\n",
        "import seaborn as sns\n",
        "from sklearn import metrics\n",
        "from sklearn.metrics import precision_recall_fscore_support\n",
        "import pandas as pd"
      ],
      "execution_count": null,
      "outputs": [
        {
          "output_type": "stream",
          "text": [
            "/usr/local/lib/python3.6/dist-packages/statsmodels/tools/_testing.py:19: FutureWarning: pandas.util.testing is deprecated. Use the functions in the public API at pandas.testing instead.\n",
            "  import pandas.util.testing as tm\n"
          ],
          "name": "stderr"
        }
      ]
    },
    {
      "cell_type": "markdown",
      "metadata": {
        "id": "Q1Ull9xwoUn0"
      },
      "source": [
        "Load Dataset"
      ]
    },
    {
      "cell_type": "code",
      "metadata": {
        "id": "Syk5XKICOM5n"
      },
      "source": [
        "digits = load_digits()"
      ],
      "execution_count": null,
      "outputs": []
    },
    {
      "cell_type": "markdown",
      "metadata": {
        "id": "kVJOAxjr3EBU"
      },
      "source": [
        "Activation Function : Sigmoid"
      ]
    },
    {
      "cell_type": "code",
      "metadata": {
        "id": "PI82d7Jo3G3K"
      },
      "source": [
        "def sig(x,deriv=False):\n",
        "    if(deriv==True):\n",
        "        return x*(1-x)\n",
        "    return 1/(1+np.exp(-x))"
      ],
      "execution_count": null,
      "outputs": []
    },
    {
      "cell_type": "markdown",
      "metadata": {
        "id": "aiLJV61S3JVZ"
      },
      "source": [
        "Model Calculation"
      ]
    },
    {
      "cell_type": "code",
      "metadata": {
        "id": "bViWKSP03Tde"
      },
      "source": [
        "#training\n",
        "def fit(input,target, alpha):\n",
        "  global hiddenWeight, hiddenBiases, outputWeight, outputBiases\n",
        "\n",
        "  # forward\n",
        "  hiddenAccumulator = np.dot(input,hiddenWeight) +  hiddenBiases\n",
        "  hiddenOutput = sig(hiddenAccumulator)\n",
        "\n",
        "  outputAccumulator = np.dot(hiddenOutput, outputWeight) +  outputBiases\n",
        "  outputPrediction = sig(outputAccumulator)\n",
        "\n",
        "  # error and delta\n",
        "  error = target - outputPrediction\n",
        "  d_output = error * sig(outputPrediction,True)\n",
        "\n",
        "  errorHidden = d_output.dot(outputWeight.T)\n",
        "  d_hidden = errorHidden * sig(hiddenOutput, True)\n",
        "  \n",
        "  # backpropagation and updates\n",
        "  outputWeight += hiddenOutput.T.dot(d_output) *alpha\n",
        "  outputBiases += np.sum(d_output, axis=0, keepdims=True)*alpha\n",
        "\n",
        "  hiddenWeight += input.T.dot(d_hidden) * alpha\n",
        "  hiddenBiases += np.sum(d_hidden, axis=0, keepdims=True) * alpha\n",
        "\n",
        "  return outputPrediction\n",
        "\n",
        "  #testing\n",
        "def predict(input):\n",
        "  global hiddenWeight, hiddenBiases, outputWeight, outputBiases\n",
        "\n",
        "  # forward\n",
        "  hiddenAccumulator = np.dot(input,hiddenWeight) +  hiddenBiases\n",
        "  hiddenOutput = sig(hiddenAccumulator)\n",
        "\n",
        "  outputAccumulator = np.dot(hiddenOutput, outputWeight) +  outputBiases\n",
        "  outputPrediction = sig(outputAccumulator)\n",
        "\n",
        "  return outputPrediction"
      ],
      "execution_count": null,
      "outputs": []
    },
    {
      "cell_type": "markdown",
      "metadata": {
        "id": "EUxLSWXIhS1b"
      },
      "source": [
        "Set Input dan Target"
      ]
    },
    {
      "cell_type": "code",
      "metadata": {
        "id": "Qsl60EHp3r2b"
      },
      "source": [
        "# input\n",
        "data = digits.data\n",
        "\n",
        "# target       \n",
        "actual = digits.target"
      ],
      "execution_count": null,
      "outputs": []
    },
    {
      "cell_type": "markdown",
      "metadata": {
        "id": "HcS6yktUQl0B"
      },
      "source": [
        "Normalisasi Input Data"
      ]
    },
    {
      "cell_type": "code",
      "metadata": {
        "id": "SPM2W1ySQpJF"
      },
      "source": [
        "normalizer = StandardScaler()\n",
        "data = normalizer.fit_transform(data)"
      ],
      "execution_count": null,
      "outputs": []
    },
    {
      "cell_type": "markdown",
      "metadata": {
        "id": "YO0uGEKm3so4"
      },
      "source": [
        "Split Data (Train 80% dan Test 20%)"
      ]
    },
    {
      "cell_type": "code",
      "metadata": {
        "id": "NXKGLilZ302j"
      },
      "source": [
        "x_train, x_test, actual_y_train, actual_y_test = train_test_split(data,actual,test_size=0.2)"
      ],
      "execution_count": null,
      "outputs": []
    },
    {
      "cell_type": "markdown",
      "metadata": {
        "id": "nVE_FmX0Qs22"
      },
      "source": [
        "One-Hot Encoding Target"
      ]
    },
    {
      "cell_type": "code",
      "metadata": {
        "id": "eNrh15qaQv8z"
      },
      "source": [
        "y_train = np.zeros((actual_y_train.size, actual_y_train.max()+1))\n",
        "y_train[np.arange(actual_y_train.size),actual_y_train] = 1\n",
        "\n",
        "y_test = np.zeros((actual_y_test.size, actual_y_test.max()+1))\n",
        "y_test[np.arange(actual_y_test.size),actual_y_test] = 1"
      ],
      "execution_count": null,
      "outputs": []
    },
    {
      "cell_type": "markdown",
      "metadata": {
        "id": "J4Jg-O-X34gX"
      },
      "source": [
        "Set Learning Rate (alpha) dan Banyak Iterasi (epcoh)"
      ]
    },
    {
      "cell_type": "code",
      "metadata": {
        "id": "leKXcXdz4AiW"
      },
      "source": [
        "alpha = 0.008\n",
        "epoch = 250000"
      ],
      "execution_count": null,
      "outputs": []
    },
    {
      "cell_type": "markdown",
      "metadata": {
        "id": "zBennFk-4EVo"
      },
      "source": [
        "Arsitektur Model"
      ]
    },
    {
      "cell_type": "code",
      "metadata": {
        "id": "D8J9RhHY4HPf"
      },
      "source": [
        "inputLayer, hiddenLayer, outputLayer = 64,24,10"
      ],
      "execution_count": null,
      "outputs": []
    },
    {
      "cell_type": "markdown",
      "metadata": {
        "id": "CWstPO4z4Jwo"
      },
      "source": [
        "Set Weight dan Bias Secara Acak"
      ]
    },
    {
      "cell_type": "code",
      "metadata": {
        "id": "oyNYNHMy4Nty"
      },
      "source": [
        "hiddenWeight = 2*np.random.random((inputLayer,hiddenLayer))-1\n",
        "hiddenBiases = 2*np.random.random((1,hiddenLayer))-1\n",
        "\n",
        "outputWeight = 2*np.random.random((hiddenLayer,outputLayer))-1\n",
        "outputBiases = 2*np.random.random((1,outputLayer))-1"
      ],
      "execution_count": null,
      "outputs": []
    },
    {
      "cell_type": "markdown",
      "metadata": {
        "id": "4KFqKnDu4RZZ"
      },
      "source": [
        "List untuk Mencatat Akurasi"
      ]
    },
    {
      "cell_type": "code",
      "metadata": {
        "id": "hyGh_a334cUG"
      },
      "source": [
        "accHistoryTrain = []\n",
        "accHistoryTest = []"
      ],
      "execution_count": null,
      "outputs": []
    },
    {
      "cell_type": "markdown",
      "metadata": {
        "id": "f1bf8eLx4eVD"
      },
      "source": [
        "### Training dan Testing Model"
      ]
    },
    {
      "cell_type": "markdown",
      "metadata": {
        "id": "nWU1kVfs4y8B"
      },
      "source": [
        "Untuk setiap iterasi n, model akan melaksanakan training dan testing sehingga memperoleh nilai akurasi untuk n iterasi. Kemudian akurasi dari training dan testing tersebut dicatat sehingga dapat menggambar validation curve pada akhirnya.<br><br>"
      ]
    },
    {
      "cell_type": "code",
      "metadata": {
        "id": "5QZuizg3PNS3",
        "outputId": "ca8e53c6-3944-4098-92bf-de34d3f1d0f4",
        "colab": {
          "base_uri": "https://localhost:8080/",
          "height": 1000
        }
      },
      "source": [
        "# train and test the model over every epoch iteration (1 to epoch)\n",
        "for n in range(epoch):\n",
        "  \n",
        "  # tain the model with n epoch\n",
        "  y_pred_train = fit(x_train,y_train,alpha)\n",
        "  accHistoryTrain.append(accuracy_score(np.argmax(y_pred_train, axis=1), actual_y_train))\n",
        "  actual_y_pred_train = np.argmax(y_pred_train, axis=1)\n",
        "\n",
        "  # test the model\n",
        "  y_pred_test = predict(x_test)\n",
        "  accHistoryTest.append(accuracy_score(np.argmax(y_pred_test, axis=1), actual_y_test))\n",
        "  actual_y_pred_test = np.argmax(y_pred_test, axis=1)\n",
        "\n",
        "  if (n+1)%10000 == 0:\n",
        "    print(\"Percobaan untuk max_epoch = {}\\nakurasi train = {:.2f}%\\nakurasi test = {:.2f}%\".format( n++1,accHistoryTrain[-1]*100,accHistoryTest[-1]*100))\n"
      ],
      "execution_count": null,
      "outputs": [
        {
          "output_type": "stream",
          "text": [
            "Percobaan untuk max_epoch = 10000\n",
            "akurasi train = 99.86%\n",
            "akurasi test = 96.39%\n",
            "Percobaan untuk max_epoch = 20000\n",
            "akurasi train = 99.93%\n",
            "akurasi test = 96.39%\n",
            "Percobaan untuk max_epoch = 30000\n",
            "akurasi train = 99.93%\n",
            "akurasi test = 96.67%\n",
            "Percobaan untuk max_epoch = 40000\n",
            "akurasi train = 99.93%\n",
            "akurasi test = 96.94%\n",
            "Percobaan untuk max_epoch = 50000\n",
            "akurasi train = 99.93%\n",
            "akurasi test = 96.94%\n",
            "Percobaan untuk max_epoch = 60000\n",
            "akurasi train = 99.93%\n",
            "akurasi test = 96.94%\n",
            "Percobaan untuk max_epoch = 70000\n",
            "akurasi train = 99.93%\n",
            "akurasi test = 96.94%\n",
            "Percobaan untuk max_epoch = 80000\n",
            "akurasi train = 99.93%\n",
            "akurasi test = 96.94%\n",
            "Percobaan untuk max_epoch = 90000\n",
            "akurasi train = 99.93%\n",
            "akurasi test = 96.94%\n",
            "Percobaan untuk max_epoch = 100000\n",
            "akurasi train = 99.93%\n",
            "akurasi test = 96.94%\n",
            "Percobaan untuk max_epoch = 110000\n",
            "akurasi train = 99.93%\n",
            "akurasi test = 96.94%\n",
            "Percobaan untuk max_epoch = 120000\n",
            "akurasi train = 99.93%\n",
            "akurasi test = 96.94%\n",
            "Percobaan untuk max_epoch = 130000\n",
            "akurasi train = 99.93%\n",
            "akurasi test = 96.94%\n",
            "Percobaan untuk max_epoch = 140000\n",
            "akurasi train = 99.93%\n",
            "akurasi test = 96.94%\n",
            "Percobaan untuk max_epoch = 150000\n",
            "akurasi train = 99.93%\n",
            "akurasi test = 96.94%\n",
            "Percobaan untuk max_epoch = 160000\n",
            "akurasi train = 99.93%\n",
            "akurasi test = 96.94%\n",
            "Percobaan untuk max_epoch = 170000\n",
            "akurasi train = 99.93%\n",
            "akurasi test = 96.94%\n",
            "Percobaan untuk max_epoch = 180000\n",
            "akurasi train = 99.93%\n",
            "akurasi test = 96.94%\n",
            "Percobaan untuk max_epoch = 190000\n",
            "akurasi train = 99.93%\n",
            "akurasi test = 96.94%\n",
            "Percobaan untuk max_epoch = 200000\n",
            "akurasi train = 99.93%\n",
            "akurasi test = 97.22%\n",
            "Percobaan untuk max_epoch = 210000\n",
            "akurasi train = 99.93%\n",
            "akurasi test = 97.22%\n",
            "Percobaan untuk max_epoch = 220000\n",
            "akurasi train = 99.93%\n",
            "akurasi test = 97.50%\n",
            "Percobaan untuk max_epoch = 230000\n",
            "akurasi train = 99.93%\n",
            "akurasi test = 97.50%\n",
            "Percobaan untuk max_epoch = 240000\n",
            "akurasi train = 99.93%\n",
            "akurasi test = 97.50%\n",
            "Percobaan untuk max_epoch = 250000\n",
            "akurasi train = 99.93%\n",
            "akurasi test = 97.50%\n"
          ],
          "name": "stdout"
        }
      ]
    },
    {
      "cell_type": "markdown",
      "metadata": {
        "id": "kyKBpIsy6Q08"
      },
      "source": [
        "### Evaluation\n",
        "*   Validation Curve (Accuracy over epoch)\n",
        "*   Confusion Matrix\n",
        "*   Accuracy\n",
        "*   Precision, Recall, F1"
      ]
    },
    {
      "cell_type": "markdown",
      "metadata": {
        "id": "IGEWdRm6oXu_"
      },
      "source": [
        "**Ploting Validation Curve (Accuracy over epoch)<br>**\n",
        "Validation Curve menunjukan perbandingan peforma model saat training dan testing sehingga dapat menentukan apakah underfitting atau overfitting. Pada ploting ini tidak terlihat indikasi overfiting maupun underfitting, performa saat training dengan saat testing cukup seimbang.\n",
        "\n",
        "\n",
        "\n",
        "\n"
      ]
    },
    {
      "cell_type": "code",
      "metadata": {
        "id": "Vxg7R2X2nupt",
        "outputId": "3b433873-ee1a-4c5b-fe82-4b6910f4fe0f",
        "colab": {
          "base_uri": "https://localhost:8080/",
          "height": 512
        }
      },
      "source": [
        "print(\"Output After Training with Max Epoch:\")\n",
        "print(np.argmax(y_pred_test, axis=1)[:10])\n",
        "print(actual_y_test[:10])\n",
        "\n",
        "print(\"\\n\")\n",
        "print(\"Validation Curve : Accuracy over Epoch\")\n",
        "plt.figure(figsize=(12,6))\n",
        "plt.plot(np.arange(epoch), accHistoryTrain,label=\"Train\")\n",
        "plt.plot(np.arange(epoch), accHistoryTest,label=\"Test\")\n",
        "plt.xlabel('Epoch')\n",
        "plt.ylabel('Accuracy')\n",
        "plt.legend()"
      ],
      "execution_count": null,
      "outputs": [
        {
          "output_type": "stream",
          "text": [
            "Output After Training with Max Epoch:\n",
            "[8 6 0 0 7 6 7 3 0 2]\n",
            "[8 6 0 0 7 6 7 3 0 2]\n",
            "\n",
            "\n",
            "Validation Curve : Accuracy over Epoch\n"
          ],
          "name": "stdout"
        },
        {
          "output_type": "execute_result",
          "data": {
            "text/plain": [
              "<matplotlib.legend.Legend at 0x7fb0ed0275f8>"
            ]
          },
          "metadata": {
            "tags": []
          },
          "execution_count": 39
        },
        {
          "output_type": "display_data",
          "data": {
            "image/png": "[encoded data removed]",
            "text/plain": [
              "<Figure size 864x432 with 1 Axes>"
            ]
          },
          "metadata": {
            "tags": [],
            "needs_background": "light"
          }
        }
      ]
    },
    {
      "cell_type": "markdown",
      "metadata": {
        "id": "NPAUAExO7Jjb"
      },
      "source": [
        "**Confusion Matrix**"
      ]
    },
    {
      "cell_type": "code",
      "metadata": {
        "id": "UgtzrgDN58V8",
        "outputId": "81af9621-2617-4eac-d8f1-db9169fa0bea",
        "colab": {
          "base_uri": "https://localhost:8080/",
          "height": 312
        }
      },
      "source": [
        "cnf_matrix = metrics.confusion_matrix(actual_y_test, actual_y_pred_test)\n",
        "p = sns.heatmap(pd.DataFrame(cnf_matrix), annot=True, cmap=\"YlGnBu\" ,fmt='g')\n",
        "plt.title('Confusion matrix')\n",
        "plt.ylabel('Actual label')\n",
        "plt.xlabel('Predicted label')"
      ],
      "execution_count": null,
      "outputs": [
        {
          "output_type": "execute_result",
          "data": {
            "text/plain": [
              "Text(0.5, 15.0, 'Predicted label')"
            ]
          },
          "metadata": {
            "tags": []
          },
          "execution_count": 40
        },
        {
          "output_type": "display_data",
          "data": {
            "image/png": "[encoded data removed]",
            "text/plain": [
              "<Figure size 432x288 with 2 Axes>"
            ]
          },
          "metadata": {
            "tags": [],
            "needs_background": "light"
          }
        }
      ]
    },
    {
      "cell_type": "markdown",
      "metadata": {
        "id": "oRkntkXq7igS"
      },
      "source": [
        "**Accuracy<br>**\n",
        "Menghitung perbandingan prediksi yang benar dengan total data yang diprediksi pada **TEST DATASET**"
      ]
    },
    {
      "cell_type": "code",
      "metadata": {
        "id": "qyPOrL-f7iqA",
        "outputId": "1a16b845-1c2d-4d18-ab60-39cba69328df",
        "colab": {
          "base_uri": "https://localhost:8080/",
          "height": 52
        }
      },
      "source": [
        "print(\"Accuracy  Training : {:.2f}%\".format(accuracy_score(actual_y_train,actual_y_pred_train)*100) )\n",
        "print(\"Accuracy  Testing  : {:.2f}%\".format(accuracy_score(actual_y_test,actual_y_pred_test)*100) )"
      ],
      "execution_count": null,
      "outputs": [
        {
          "output_type": "stream",
          "text": [
            "Accuracy  Training : 99.93%\n",
            "Accuracy  Testing  : 97.50%\n"
          ],
          "name": "stdout"
        }
      ]
    },
    {
      "cell_type": "markdown",
      "metadata": {
        "id": "wLIj070I7Nvy"
      },
      "source": [
        "**Precision, Recall, and F1-Score** of each class"
      ]
    },
    {
      "cell_type": "code",
      "metadata": {
        "id": "ydm8COYey51K",
        "outputId": "d4d53796-d12b-4162-d668-749fd597b63e",
        "colab": {
          "base_uri": "https://localhost:8080/",
          "height": 106
        }
      },
      "source": [
        "analysis = precision_recall_fscore_support(actual_y_test,actual_y_pred_test, zero_division=0)\n",
        "\n",
        "for i,u in enumerate(analysis):\n",
        "  for j,v in enumerate(u):\n",
        "    analysis[i][j] = round(v,2)\n",
        "\n",
        "print(\"\\nAnalysis for each class:\")\n",
        "print(\"Precision  : \",analysis[0])\n",
        "print(\"Recal      : \",analysis[1])\n",
        "print(\"F1-score   : \",analysis[2])"
      ],
      "execution_count": null,
      "outputs": [
        {
          "output_type": "stream",
          "text": [
            "\n",
            "Analysis for each class:\n",
            "Precision  :  [1.   0.97 1.   0.97 0.97 0.94 1.   0.97 0.94 0.97]\n",
            "Recal      :  [1.   0.97 1.   0.94 1.   1.   0.97 0.97 0.94 0.94]\n",
            "F1-score   :  [1.   0.97 1.   0.96 0.99 0.97 0.99 0.97 0.94 0.96]\n"
          ],
          "name": "stdout"
        }
      ]
    },
    {
      "cell_type": "markdown",
      "metadata": {
        "id": "e2WJtzNqOJDk"
      },
      "source": [
        "# Answer Number 4"
      ]
    },
    {
      "cell_type": "markdown",
      "metadata": {
        "id": "P5xS_Iol9mAL"
      },
      "source": [
        "### ERNN Model"
      ]
    },
    {
      "cell_type": "markdown",
      "metadata": {
        "id": "TlEvakYU78Xv"
      },
      "source": [
        "Import Library yang Digunakan"
      ]
    },
    {
      "cell_type": "code",
      "metadata": {
        "id": "rO8AdiJqHPWr"
      },
      "source": [
        "import numpy as np\n",
        "from sklearn.preprocessing import StandardScaler  \n",
        "from sklearn.metrics import accuracy_score\n",
        "from sklearn.model_selection import train_test_split\n",
        "import matplotlib.pyplot as plt"
      ],
      "execution_count": null,
      "outputs": []
    },
    {
      "cell_type": "markdown",
      "metadata": {
        "id": "yz8DYNM58AR2"
      },
      "source": [
        "Activation Function: Sigmoid"
      ]
    },
    {
      "cell_type": "code",
      "metadata": {
        "id": "1cwKO2FAHSaY"
      },
      "source": [
        "def sig(x,deriv=False):\n",
        "  if(deriv==True):\n",
        "      return x*(1-x)\n",
        "  return 1/(1+np.exp(-x))"
      ],
      "execution_count": null,
      "outputs": []
    },
    {
      "cell_type": "markdown",
      "metadata": {
        "id": "1P_icwrm8EA2"
      },
      "source": [
        "Model Calculation"
      ]
    },
    {
      "cell_type": "code",
      "metadata": {
        "id": "QEdyJz-fHXN1"
      },
      "source": [
        "def fit(input,target, alpha, e, context_neuron):\n",
        "  errorhis = []\n",
        "  global hiddenWeight, hiddenBiases, outputWeight, outputBiases\n",
        "\n",
        "  for iter in range(e):\n",
        "    # forward\n",
        "    hiddenAccumulator = np.dot(input,hiddenWeight) +  hiddenBiases\n",
        "    hiddenOutput = sig(hiddenAccumulator)\n",
        "\n",
        "    outputAccumulator = np.dot(hiddenOutput, outputWeight) +  outputBiases\n",
        "    outputPrediction = sig(outputAccumulator)\n",
        "\n",
        "    # error and delta\n",
        "    error = target - outputPrediction\n",
        "    d_output = error * sig(outputPrediction,True)\n",
        "\n",
        "    errorHidden = d_output.dot(outputWeight.T)\n",
        "    d_hidden = errorHidden * sig(hiddenOutput, True)\n",
        "    \n",
        "    # backpropagation and updates\n",
        "    outputWeight += hiddenOutput.T.dot(d_output) *alpha\n",
        "    outputBiases += np.sum(d_output, axis=0, keepdims=True)*alpha\n",
        "\n",
        "    hiddenWeight += input.T.dot(d_hidden) * alpha\n",
        "    hiddenBiases += np.sum(d_hidden, axis=0, keepdims=True) * alpha\n",
        "\n",
        "    if (iter+1) % 100000 == 0: \n",
        "      print(\"Error iter {}: \".format(iter), str(np.mean(np.abs(error))))\n",
        "    \n",
        "    #recod history of error\n",
        "    errorhis.append(np.mean(np.abs(error)))\n",
        "\n",
        "    #feedback hidden to input\n",
        "    for i in range(len(input)):\n",
        "      input[i][:context_neuron] = hiddenOutput[i]\n",
        "\n",
        "  plt.plot(np.arange(len(errorhis)),errorhis)\n",
        "  return outputPrediction"
      ],
      "execution_count": null,
      "outputs": []
    },
    {
      "cell_type": "markdown",
      "metadata": {
        "id": "a1El21Gg8LrA"
      },
      "source": [
        "Mendefinisikan Input dan Target"
      ]
    },
    {
      "cell_type": "code",
      "metadata": {
        "id": "tSBziQIuHbXe"
      },
      "source": [
        "# input\n",
        "data = np.array([\n",
        "    [ 1, 0, 0, 0 ],\n",
        "    [ 0, 1, 0, 0 ],\n",
        "    [ 0, 0, 1, 0 ],\n",
        "    [ 0, 0, 0, 1 ],\n",
        "    [ 0, 0, 1, 0 ],\n",
        "    [ 0, 1, 0, 0 ],\n",
        "]).astype(float)\n",
        "\n",
        "# target       \n",
        "target = np.array([\n",
        "    [ 0, 1, 0, 0 ],\n",
        "    [ 0, 0, 1, 0 ],\n",
        "    [ 0, 0, 0, 1 ],\n",
        "    [ 0, 0, 1, 0 ],\n",
        "    [ 0, 1, 0, 0 ],\n",
        "    [ 1, 0, 0, 0 ]\n",
        "])"
      ],
      "execution_count": null,
      "outputs": []
    },
    {
      "cell_type": "markdown",
      "metadata": {
        "id": "vc2fCt8l8WIi"
      },
      "source": [
        "Set Learning Rate (alpha) dan Banyak Iterasi (epcoh)"
      ]
    },
    {
      "cell_type": "code",
      "metadata": {
        "id": "jXNkt3DuKorr"
      },
      "source": [
        "alpha = 0.8\n",
        "epoch = 5000000"
      ],
      "execution_count": null,
      "outputs": []
    },
    {
      "cell_type": "markdown",
      "metadata": {
        "id": "l9upEliV8nYL"
      },
      "source": [
        "Arsitektur Model"
      ]
    },
    {
      "cell_type": "code",
      "metadata": {
        "id": "uG7Qp5AZKtHQ"
      },
      "source": [
        "outputLayer = 4\n",
        "hiddenLayer = context_neuron = 5\n",
        "inputLayer = 4 + context_neuron"
      ],
      "execution_count": null,
      "outputs": []
    },
    {
      "cell_type": "markdown",
      "metadata": {
        "id": "Y-mNoq0p8tK0"
      },
      "source": [
        "Mempersiapkan Context Neuron"
      ]
    },
    {
      "cell_type": "code",
      "metadata": {
        "id": "s8kSXpYaKvTW",
        "outputId": "27c278a4-eda0-4e75-ac54-01eaf362b1f8",
        "colab": {
          "base_uri": "https://localhost:8080/",
          "height": 124
        }
      },
      "source": [
        "context = np.zeros(context_neuron)\n",
        "input = np.zeros((len(data),inputLayer)).astype(float)\n",
        "for i in range(len(data)):\n",
        "  input[i] = np.concatenate((context, data[i]))\n",
        "\n",
        "print(input)"
      ],
      "execution_count": null,
      "outputs": [
        {
          "output_type": "stream",
          "text": [
            "[[0. 0. 0. 0. 0. 1. 0. 0. 0.]\n",
            " [0. 0. 0. 0. 0. 0. 1. 0. 0.]\n",
            " [0. 0. 0. 0. 0. 0. 0. 1. 0.]\n",
            " [0. 0. 0. 0. 0. 0. 0. 0. 1.]\n",
            " [0. 0. 0. 0. 0. 0. 0. 1. 0.]\n",
            " [0. 0. 0. 0. 0. 0. 1. 0. 0.]]\n"
          ],
          "name": "stdout"
        }
      ]
    },
    {
      "cell_type": "markdown",
      "metadata": {
        "id": "5r5KJT-I861Z"
      },
      "source": [
        "Set Weight dan Bias secara acak"
      ]
    },
    {
      "cell_type": "code",
      "metadata": {
        "id": "jHr01JSHKx_-"
      },
      "source": [
        "# initialize weights and biases\n",
        "hiddenWeight = 2*np.random.random((inputLayer,hiddenLayer))-1\n",
        "hiddenBiases = 2*np.random.random((1,hiddenLayer))-1\n",
        "\n",
        "outputWeight = 2*np.random.random((hiddenLayer,outputLayer))-1\n",
        "outputBiases = 2*np.random.random((1,outputLayer))-1"
      ],
      "execution_count": null,
      "outputs": []
    },
    {
      "cell_type": "markdown",
      "metadata": {
        "id": "uzCEHO6O9Bra"
      },
      "source": [
        "Training Model"
      ]
    },
    {
      "cell_type": "code",
      "metadata": {
        "id": "hGfoO6UPLGj3",
        "outputId": "e24bf001-9fc8-4e5b-a2da-ca5cb7975379",
        "colab": {
          "base_uri": "https://localhost:8080/",
          "height": 1000
        }
      },
      "source": [
        "forcast = fit(input,target, alpha, epoch, context_neuron)"
      ],
      "execution_count": null,
      "outputs": [
        {
          "output_type": "stream",
          "text": [
            "Error iter 99999:  0.16758581493075556\n",
            "Error iter 199999:  0.16731275777498592\n",
            "Error iter 299999:  0.16719244411131898\n",
            "Error iter 399999:  0.1671209504224108\n",
            "Error iter 499999:  0.16707227111101455\n",
            "Error iter 599999:  0.16703640083314344\n",
            "Error iter 699999:  0.16700856270795272\n",
            "Error iter 799999:  0.16698615048257923\n",
            "Error iter 899999:  0.16696760580369918\n",
            "Error iter 999999:  0.166951932254812\n",
            "Error iter 1099999:  0.16693845915131997\n",
            "Error iter 1199999:  0.16692671633185188\n",
            "Error iter 1299999:  0.16691636314811728\n",
            "Error iter 1399999:  0.1669071459475858\n",
            "Error iter 1499999:  0.16689887145552887\n",
            "Error iter 1599999:  0.1668913894769745\n",
            "Error iter 1699999:  0.1668845812928175\n",
            "Error iter 1799999:  0.16687835166001364\n",
            "Error iter 1899999:  0.16687262316368265\n",
            "Error iter 1999999:  0.16686733214545177\n",
            "Error iter 2099999:  0.16686242571328982\n",
            "Error iter 2199999:  0.1668578595090057\n",
            "Error iter 2299999:  0.1668535960165359\n",
            "Error iter 2399999:  0.16684960326274956\n",
            "Error iter 2499999:  0.16684585380750563\n",
            "Error iter 2599999:  0.1668423239498237\n",
            "Error iter 2699999:  0.16683899309756742\n",
            "Error iter 2799999:  0.16683584326227777\n",
            "Error iter 2899999:  0.16683285865081735\n",
            "Error iter 2999999:  0.16683002533263927\n",
            "Error iter 3099999:  0.1668273309666711\n",
            "Error iter 3199999:  0.16682476457559048\n",
            "Error iter 3299999:  0.16682231635807246\n",
            "Error iter 3399999:  0.1668199775316844\n",
            "Error iter 3499999:  0.1668177402006871\n",
            "Error iter 3599999:  0.16681559724420844\n",
            "Error iter 3699999:  0.16681354222117903\n",
            "Error iter 3799999:  0.16681156928914187\n",
            "Error iter 3899999:  0.1668096731346034\n",
            "Error iter 3999999:  0.16680784891303746\n",
            "Error iter 4099999:  0.16680609219699952\n",
            "Error iter 4199999:  0.1668043989310873\n",
            "Error iter 4299999:  0.16680276539270447\n",
            "Error iter 4399999:  0.16680118815776548\n",
            "Error iter 4499999:  0.16679966407062138\n",
            "Error iter 4599999:  0.16679819021760686\n",
            "Error iter 4699999:  0.16679676390370482\n",
            "Error iter 4799999:  0.16679538263190208\n",
            "Error iter 4899999:  0.16679404408487838\n",
            "Error iter 4999999:  0.16679274610872277\n"
          ],
          "name": "stdout"
        },
        {
          "output_type": "display_data",
          "data": {
            "image/png": "[encoded data removed]",
            "text/plain": [
              "<Figure size 432x288 with 1 Axes>"
            ]
          },
          "metadata": {
            "tags": [],
            "needs_background": "light"
          }
        }
      ]
    },
    {
      "cell_type": "markdown",
      "metadata": {
        "id": "dqMQlGKk9GZG"
      },
      "source": [
        "Print Hasil Prediksi dari Model "
      ]
    },
    {
      "cell_type": "code",
      "metadata": {
        "id": "Wwfk3lD-LHem",
        "outputId": "7995860d-f55d-4bb1-aeb6-132cf9207a3d",
        "colab": {
          "base_uri": "https://localhost:8080/",
          "height": 461
        }
      },
      "source": [
        "highest = np.zeros((len(forcast),outputLayer))\n",
        "for i in range(len(forcast)):\n",
        "  highest[i][np.argmax(forcast[i])] = 1\n",
        "\n",
        "rounded = np.zeros((len(forcast),outputLayer))\n",
        "for i in range(len(forcast)):\n",
        "  rounded[i] = [round(x,0) for x in forcast[i]]\n",
        "print(\"Raw Forcast Result\")\n",
        "print(forcast)\n",
        "print(\"\\n\")\n",
        "print(\"Select The Highest in a Row\")\n",
        "print(highest)\n",
        "print(\"\\n\")\n",
        "print(\"Round The Value\")\n",
        "print(rounded)"
      ],
      "execution_count": null,
      "outputs": [
        {
          "output_type": "stream",
          "text": [
            "Raw Forcast Result\n",
            "[[1.77303459e-04 9.99696865e-01 1.98016292e-04 1.67102380e-04]\n",
            " [4.99999841e-01 1.47682813e-04 5.00000008e-01 1.73517182e-04]\n",
            " [1.67648575e-04 5.00000032e-01 1.87297153e-04 4.99999854e-01]\n",
            " [1.87934086e-04 2.08401080e-04 9.99701574e-01 1.33297401e-04]\n",
            " [1.67648575e-04 5.00000032e-01 1.87297153e-04 4.99999854e-01]\n",
            " [4.99999841e-01 1.47682813e-04 5.00000008e-01 1.73517182e-04]]\n",
            "\n",
            "\n",
            "Select The Highest in a Row\n",
            "[[0. 1. 0. 0.]\n",
            " [0. 0. 1. 0.]\n",
            " [0. 1. 0. 0.]\n",
            " [0. 0. 1. 0.]\n",
            " [0. 1. 0. 0.]\n",
            " [0. 0. 1. 0.]]\n",
            "\n",
            "\n",
            "Round The Value\n",
            "[[0. 1. 0. 0.]\n",
            " [0. 0. 1. 0.]\n",
            " [0. 1. 0. 0.]\n",
            " [0. 0. 1. 0.]\n",
            " [0. 1. 0. 0.]\n",
            " [0. 0. 1. 0.]]\n"
          ],
          "name": "stdout"
        }
      ]
    },
    {
      "cell_type": "markdown",
      "metadata": {
        "id": "ot6WZBAfN4d4"
      },
      "source": [
        "Dari hasil prediksi model, dapat dilihat nilai yang cukup konvergen. Namun, untuk dua data dengan nilai input sama tetapi outputnya berbeda, model masih menunjukan nilai yang konvergen disemua kemungkinan output. Misalnya pada data ke 2 dan 6 serta data ke 3 dan 5. <br><br>\n",
        "Idealnya model dapat memprediksi output yang diharapkan walaupun pada input kedua data mempunyai nilai yang sama, tetapi jika dilihat dari state sebelumnya (input data sebelumnya), kedua data tersebut memiliki state yang berbeda."
      ]
    },
    {
      "cell_type": "markdown",
      "metadata": {
        "id": "d0TfKU9U9p9K"
      },
      "source": [
        "### Time Series Forecasting "
      ]
    },
    {
      "cell_type": "markdown",
      "metadata": {
        "id": "aUMuPQDSZ6ws"
      },
      "source": [
        "***Times Series Forcasting*** adalah model yang melakukan prediksi/peramalaan pada data yang bergantung pada waktu (*time series data*) untuk jangka waktu tertentu. Dalam melakukan prediksi, model ini memperhatikan urutan data yang didasarkan pada periode waktu tertentu. Untuk menangani *time series data*, diperlukan model yang dapat mengkalkulasi korelasi antarfase proses. Salah satu metodenya adalah RNN.<br><br>\n",
        "\n",
        "RNN berjalan layaknya ANN pada umumnya, tetapi ada tambahan neuron (*context neuron*) untuk menyimpan informasi state sebelumnya karena *times series forcasting* membutuhkan informasi mengenai state sebelumnya untuk memprediksi state setelahnya. Pada RNN ada 2 model paling sederhana untuk melakukan* times series forcasting*: Elman dan Jordan <br><br>\n",
        "\n",
        "* Elman : feedback dari hasil hidden layer sebagai informasi untuk prediksi setelahnya\n",
        "* Jordan : feedback dari hasil output layer sebagai informasi untuk prediksi setelahnya"
      ]
    }
  ]
}